{
 "cells": [
  {
   "cell_type": "markdown",
   "id": "contained-picking",
   "metadata": {},
   "source": [
    "## 작사가 만들기\n",
    "\n",
    "###  #이론\n",
    "\n",
    "#### 1. 시퀀스\n",
    "- 시퀀스의 데이터는 어떤 기준에 따라 정렬되었을 수도 있고 무작위로 나열되었을 수도 있다.\n",
    "- 우리(인공지능)가 예측을 하려면 어느 정도는 연관성이 있어줘야 함\n",
    "- 문장을 구성하는 각 단어들은 문법이라는 규칙을 따라 배열\n",
    "- 문장 데이터는 통계에 기반한 방법으로 데이터 예측\n",
    "\n",
    "#### 2. 인공지능이 글을 이해하게 하는 방식\n",
    "- 수 많은 글을 릭게 함 -> '나는' '밥을' 그다음이 '먹는다' 라는 사실을 알게함\n",
    "- 많은 데이터가 좋은 결과를 가져옴\n",
    "- 순환신경망(RNN) 인공지능 이용\n",
    "    - 생성한 단어를 다시 입력으로 사용\n",
    "    - 'start' 라는 특수토큰을 맨앞에 추가하여 문장을 생성하라는 사인을 줌 => 입력\n",
    "    -  사인을 받은 후 '나는' 이라는 단어를 만든다  => 출력 \n",
    "    -  만들어진 '나는'으로 새로운 단어를 만듬 => '나는'이 입력값\n",
    "    - '나는 밥을 먹었다' 라는 생성을 끝내면 'end 가 나옴\n",
    "    \n",
    "    \n",
    "#### 3. 언어모델\n",
    "- 어떤 문구 뒤에 다음 단어가 나올 확률은 이미 만들어진 글이 많을수록 확률이 높고,\n",
    "- 확률이 높다는 것은 그 단어가 자연스럽다는 것, \n",
    "- n−1개의 단어 시퀀스가 있을 때 n 번째 단어로 무엇이 올지 예측하는 확률모델\n",
    "- 학습시키는 방법 -> 어떤 텍스트도 가능, n-1 번째 까지 단어 시퀀스가X_train, n 번째 단어는 y_train이 되는 데이터 셋은 무한으로 만들수있다. \n",
    "- 잘 학습된 언어 모델은 훌륭한 문장 생성기로 동작 (ex:  GPT-2 같은 문장 생성기)"
   ]
  },
  {
   "cell_type": "markdown",
   "id": "crazy-glance",
   "metadata": {},
   "source": [
    "## #실습\n",
    "\n",
    "### <1> 데이터 다듬기\n",
    "\n",
    "#### 1. 데이터 다운로드\n",
    "```\n",
    "$ mkdir -p ~/aiffel/lyricist/models\n",
    "$ ln -s ~/data ~/aiffel/lyricist/data\n",
    "```"
   ]
  },
  {
   "cell_type": "markdown",
   "id": "equivalent-briefing",
   "metadata": {},
   "source": [
    "#### 2. 라이브러리 불러와서 파일 내용 확인"
   ]
  },
  {
   "cell_type": "code",
   "execution_count": 1,
   "id": "motivated-transmission",
   "metadata": {},
   "outputs": [
    {
     "name": "stdout",
     "output_type": "stream",
     "text": [
      "['First Citizen:', 'Before we proceed any further, hear me speak.', '', 'All:', 'Speak, speak.', '', 'First Citizen:', 'You are all resolved rather to die than to famish?', '']\n"
     ]
    }
   ],
   "source": [
    "import os, re \n",
    "import numpy as np\n",
    "import tensorflow as tf\n",
    "\n",
    "# 파일을 읽기모드로 열고\n",
    "# 준비한 파일의 내용을 확인\n",
    "# 라인 단위로 끊어서 list 형태로 읽어옵니다.\n",
    "file_path = os.getenv('HOME') + '/aiffel/lyricist/data/shakespeare.txt'\n",
    "with open(file_path, \"r\") as f:\n",
    "    raw_corpus = f.read().splitlines()\n",
    "\n",
    "# 앞에서부터 10라인만 화면에 출력해 볼까요?\n",
    "print(raw_corpus[:9])"
   ]
  },
  {
   "cell_type": "markdown",
   "id": "higher-values",
   "metadata": {},
   "source": [
    "---\n",
    "#### 3. 필요한 파일만 가져오도록 필터링"
   ]
  },
  {
   "cell_type": "markdown",
   "id": "fitting-scholarship",
   "metadata": {},
   "source": [
    "3-1. .splitlines()  :문자열을 목록으로 분할, 분할은 줄 바꿈에서 수행\n",
    "3-2. 경로를 따라 데이터를 읽어오면 데이터가 어떻게 생겼는지 눈으로 확인\n",
    " 나에게 필요한 데이터는 문장(대사) 만이므로 화자이름이나 공백정보는 필요가 없음\n",
    "3-3. 데이터형태를 살피며 필터를 구상해봄\n",
    "  - 모든 문장을 하나씩 검사 -> for 사용\n",
    "  - enumerate() 함수\n",
    "     - 기본적으로 인덱스와 원소로 이루어진 터플(tuple)을 만들\n",
    "     - 인덱스(index)와 원소를 동시에 접근\n",
    "     - for 문의 in 뒷 부분을 enumerate() 함수로 한 번 감싸\n",
    "     \n",
    "3-4. 필요없는 문장이 가지고 있는 데이터의 특성을 코드로 만든다. \n",
    "   - 화자가 표기된 문장은 문장의 끝이 : 으로 끝나게 되어있어서 :를 기준으로 문장을 제외\n",
    "   - 공백인 문장은 길이를 검사하여 길이가 0이라면 제외"
   ]
  },
  {
   "cell_type": "code",
   "execution_count": 17,
   "id": "dirty-secretary",
   "metadata": {},
   "outputs": [
    {
     "name": "stdout",
     "output_type": "stream",
     "text": [
      "0 At first I was afraid\n",
      "1 I was petrified\n",
      "2 I kept thinking I could never live without you\n",
      "3 By my side But then I spent so many nights\n",
      "4 Just thinking how you've done me wrong\n",
      "5 I grew strong\n",
      "6 I learned how to get along And so you're back\n",
      "7 From outer space\n",
      "8 I just walked in to find you\n",
      "9 Here without that look upon your face I should have changed that fucking lock\n",
      "10 I would have made you leave your key\n",
      "11 If I had known for just one second\n",
      "12 You'd be back to bother me Well now go,\n",
      "13 Walk out the door\n",
      "14 Just turn around\n",
      "15 Now, you're not welcome anymore Weren't you the one\n",
      "16 Who tried to break me with desire?\n",
      "17 Did you think I'd crumble?\n",
      "18 Did you think I'd lay down and die? Oh not I,\n",
      "19 I will survive\n",
      "20 Yeah\n"
     ]
    }
   ],
   "source": [
    "for idx, sentence in enumerate(raw_corpus):\n",
    "    if len(sentence) == 0: continue   # 길이가 0인 문장은 건너뜁니다.\n",
    "    if sentence[-1] == \":\": continue  # 문장의 끝이 : 인 문장은 건너뜁니다.\n",
    "   \n",
    "\n",
    "    if idx > 20: break   # 일단 문장 10개만 확인해 볼 겁니다.\n",
    "        \n",
    "    print(idx, sentence) # idx는 인덱스 값도 같이 보여지게함."
   ]
  },
  {
   "cell_type": "markdown",
   "id": "answering-fusion",
   "metadata": {},
   "source": [
    "---\n",
    "3-5. **토큰화(Tokenize) : 문장을 일정한 기준으로 쪼개는 과정**\n",
    "텍스트 분류 모델에서 많이 보신 것처럼 텍스트 생성 모델에도 단어 사전을 만들게 되면서 문장을 일정한 기준으로 쪼개야 한다. 이 과정을 토큰화 라고 함.  가장 심플한 방법은 '띄어쓰기', 문장부호포함, 대소문자 구별못함, 특수문자로 이어진 글을 한단어로인식 등에 대해 문제가 생길수있다.\n",
    "\n",
    "- 문장부호 포함 방지 : 문장부호 양쪽에 공백추가\n",
    "- 대소문자 구별못해 다른단어로 인식 방지 : 모든 문자들을 소문자로 변환\n",
    "- 특수문자로 이어진 글을 한단어로 인식 방지: 특수문자 제거\n",
    "\n",
    "3.6 위와 같은 전처리를 위한 정규표현식(Regex)을 이용한 필터링 사용"
   ]
  },
  {
   "cell_type": "code",
   "execution_count": 3,
   "id": "official-aquarium",
   "metadata": {},
   "outputs": [
    {
     "name": "stdout",
     "output_type": "stream",
     "text": [
      "<start> this is sample sentence . <end>\n"
     ]
    }
   ],
   "source": [
    "# 입력된 문장을\n",
    "#     1. 소문자로 바꾸고, 양쪽 공백을 지웁니다\n",
    "#     2. 특수문자 양쪽에 공백을 넣고\n",
    "#     3. 여러개의 공백은 하나의 공백으로 바꿉니다\n",
    "#     4. a-zA-Z?.!,¿가 아닌 모든 문자를 하나의 공백으로 바꿉니다\n",
    "#     5. 다시 양쪽 공백을 지웁니다\n",
    "#     6. 문장 시작에는 <start>, 끝에는 <end>를 추가합니다\n",
    "# 이 순서로 처리해주면 문제가 되는 상황을 방지할 수 있겠네요!\n",
    "def preprocess_sentence(sentence):\n",
    "    sentence = sentence.lower().strip() # 1\n",
    "    sentence = re.sub(r\"([?.!,¿])\", r\" \\1 \", sentence) # 2\n",
    "    sentence = re.sub(r'[\" \"]+', \" \", sentence) # 3\n",
    "    sentence = re.sub(r\"[^a-zA-Z?.!,¿]+\", \" \", sentence) # 4\n",
    "    sentence = sentence.strip() # 5\n",
    "    sentence = '<start> ' + sentence + ' <end>' # 6\n",
    "    return sentence\n",
    "\n",
    "# 이 문장이 어떻게 필터링되는지 확인해 보세요.\n",
    "print(preprocess_sentence(\"This @_is ;;;sample        sentence.\"))"
   ]
  },
  {
   "cell_type": "markdown",
   "id": "concerned-choir",
   "metadata": {},
   "source": [
    "---\n",
    "#### 4. 데이터셋 (정제 데이터 구축, 데이터 전처리)\n",
    "- 자연어 처리 분야에서 관례적으로 부르는 것 \n",
    "\n",
    "  - 모델의 입력이 되는 문장:  소스 문장(Source Sentence)              ->  X_train\n",
    "  - 정답 역할을 하게 될 모델의 출력 문장 : 타겟 문장(Target Sentence) ->  y_train\n",
    "  \n",
    "- 정제 함수를 통해 만든 데이터셋에서 토큰화를 진행한 후 끝 단어 `<end>`를 없애면 소스 문장\n",
    "- 첫 단어 `<start>`를 없애면 타겟 문장"
   ]
  },
  {
   "cell_type": "code",
   "execution_count": 4,
   "id": "advised-realtor",
   "metadata": {},
   "outputs": [
    {
     "data": {
      "text/plain": [
       "['<start> before we proceed any further , hear me speak . <end>',\n",
       " '<start> speak , speak . <end>',\n",
       " '<start> you are all resolved rather to die than to famish ? <end>',\n",
       " '<start> resolved . resolved . <end>',\n",
       " '<start> first , you know caius marcius is chief enemy to the people . <end>',\n",
       " '<start> we know t , we know t . <end>',\n",
       " '<start> let us kill him , and we ll have corn at our own price . <end>',\n",
       " '<start> is t a verdict ? <end>',\n",
       " '<start> no more talking on t let it be done away , away ! <end>',\n",
       " '<start> one word , good citizens . <end>']"
      ]
     },
     "execution_count": 4,
     "metadata": {},
     "output_type": "execute_result"
    }
   ],
   "source": [
    "# 여기에 정제된 문장을 모을겁니다\n",
    "corpus = []\n",
    "\n",
    "for sentence in raw_corpus:\n",
    "    # 우리가 원하지 않는 문장은 건너뜁니다\n",
    "    if len(sentence) == 0: continue\n",
    "    if sentence[-1] == \":\": continue\n",
    "    \n",
    "    # 정제를 하고 담아주세요\n",
    "    preprocessed_sentence = preprocess_sentence(sentence)\n",
    "    corpus.append(preprocessed_sentence)\n",
    "        \n",
    "# 정제된 결과를 10개만 확인해보죠\n",
    "corpus[:10]"
   ]
  },
  {
   "cell_type": "markdown",
   "id": "enormous-simple",
   "metadata": {},
   "source": [
    "---\n",
    "- 인공지능의 모국어는 숫자 . 가르칠 언어(데이터)를 숫자로 변환해서 인공지능에게 준다.\n",
    "\n",
    "- 텐서플로우 tf.keras.preprocessing.text.Tokenizer 패키지\n",
    "    - 벡터화(vectorize) : 정제된 데이터를 토큰화하고, 단어 사전(vocabulary 또는 dictionary라고 칭함)을 만들어주며, 데이터를 숫자로 변환 과정\n",
    "    - **텐서(tensor) : 숫자로 변환된 데이터**\n",
    "    - 우리가 사용하는 텐서플로우로 만든 모델의 입출력 데이터는 실제로는 모두 이런 텐서로 변환되어 처리되는 것"
   ]
  },
  {
   "cell_type": "code",
   "execution_count": 5,
   "id": "disabled-zimbabwe",
   "metadata": {},
   "outputs": [
    {
     "name": "stdout",
     "output_type": "stream",
     "text": [
      "[[   2  143   40 ...    0    0    0]\n",
      " [   2  110    4 ...    0    0    0]\n",
      " [   2   11   50 ...    0    0    0]\n",
      " ...\n",
      " [   2  149 4553 ...    0    0    0]\n",
      " [   2   34   71 ...    0    0    0]\n",
      " [   2  945   34 ...    0    0    0]] <keras_preprocessing.text.Tokenizer object at 0x7f3b0677ae90>\n"
     ]
    }
   ],
   "source": [
    "# 토큰화 할 때 텐서플로우의 Tokenizer와 pad_sequences를 사용합니다\n",
    "# 더 잘 알기 위해 아래 문서들을 참고하면 좋습니다\n",
    "# https://www.tensorflow.org/api_docs/python/tf/keras/preprocessing/text/Tokenizer\n",
    "# https://www.tensorflow.org/api_docs/python/tf/keras/preprocessing/sequence/pad_sequences\n",
    "def tokenize(corpus):\n",
    "    # 7000단어를 기억할 수 있는 tokenizer를 만들겁니다\n",
    "    # 우리는 이미 문장을 정제했으니 filters가 필요없어요\n",
    "    # 7000단어에 포함되지 못한 단어는 '<unk>'로 바꿀거에요\n",
    "    tokenizer = tf.keras.preprocessing.text.Tokenizer(\n",
    "        num_words=7000, \n",
    "        filters=' ',\n",
    "        oov_token=\"<unk>\"\n",
    "    )\n",
    "    # corpus를 이용해 tokenizer 내부의 단어장을 완성합니다\n",
    "    tokenizer.fit_on_texts(corpus)\n",
    "    # 준비한 tokenizer를 이용해 corpus를 Tensor로 변환합니다\n",
    "    tensor = tokenizer.texts_to_sequences(corpus)   \n",
    "    # 입력 데이터의 시퀀스 길이를 일정하게 맞춰줍니다\n",
    "    # 만약 시퀀스가 짧다면 문장 뒤에 패딩을 붙여 길이를 맞춰줍니다.\n",
    "    # 문장 앞에 패딩을 붙여 길이를 맞추고 싶다면 padding='pre'를 사용합니다\n",
    "    tensor = tf.keras.preprocessing.sequence.pad_sequences(tensor, padding='post')  \n",
    "    \n",
    "    print(tensor,tokenizer)\n",
    "    return tensor, tokenizer\n",
    "\n",
    "tensor, tokenizer = tokenize(corpus)"
   ]
  },
  {
   "cell_type": "code",
   "execution_count": 6,
   "id": "signal-failing",
   "metadata": {},
   "outputs": [
    {
     "name": "stdout",
     "output_type": "stream",
     "text": [
      "[[   2  143   40  933  140  591    4  124   24  110]\n",
      " [   2  110    4  110    5    3    0    0    0    0]\n",
      " [   2   11   50   43 1201  316    9  201   74    9]]\n"
     ]
    }
   ],
   "source": [
    "# 생성된 데이터를 3번째 행 10번째 열가지만 출력\n",
    "# 2로 시작되는 행 : 사전을 통해 start 임을 확인\n",
    "\n",
    "print(tensor[:3, :10])"
   ]
  },
  {
   "cell_type": "code",
   "execution_count": 7,
   "id": "oriented-iraqi",
   "metadata": {},
   "outputs": [
    {
     "name": "stdout",
     "output_type": "stream",
     "text": [
      "1 : <unk>\n",
      "2 : <start>\n",
      "3 : <end>\n",
      "4 : ,\n",
      "5 : .\n",
      "6 : the\n",
      "7 : and\n",
      "8 : i\n",
      "9 : to\n",
      "10 : of\n"
     ]
    }
   ],
   "source": [
    "# 위 정수는 tokenizer에 구축된 단어 사전의 인덱스\n",
    "# 단어 사전 확인 코드\n",
    "\n",
    "for idx in tokenizer.index_word:\n",
    "    print(idx, \":\", tokenizer.index_word[idx]) #idx 인덱스번호, \":\" 프린트시 보이는 str\n",
    "    \n",
    "    if idx >= 10: break"
   ]
  },
  {
   "cell_type": "markdown",
   "id": "human-democrat",
   "metadata": {},
   "source": [
    "---\n",
    "#### 5. 모델이 학습할수 있도록 생성된 텐서를 소스( X-train)와 타겟(y_train)으로 분리\n",
    "- 텐서 출력부에서 행 뒤쪽에 0이 많이 나온 부분은 정해진 입력 시퀀스 길이보다 문장이 짧을 경우 0으로 패딩(padding)을 채워 넣은 것. 사전에는 없지만 인덱스 0은 바로 패딩 문자 `<pad>`가 될 것\n",
    "- 텐서는 일종의 np.arrays와 같음"
   ]
  },
  {
   "cell_type": "code",
   "execution_count": 8,
   "id": "focused-cloud",
   "metadata": {},
   "outputs": [
    {
     "name": "stdout",
     "output_type": "stream",
     "text": [
      "[  2 143  40 933 140 591   4 124  24 110   5   3   0   0   0   0   0   0\n",
      "   0   0]\n",
      "[143  40 933 140 591   4 124  24 110   5   3   0   0   0   0   0   0   0\n",
      "   0   0]\n"
     ]
    }
   ],
   "source": [
    "# tensor에서 마지막 토큰을 잘라내서 소스 문장을 생성합니다\n",
    "# 마지막 토큰은 <end>가 아니라 <pad>일 가능성이 높습니다.\n",
    "\n",
    "src_input = tensor[:, :-1]  # 인덱스 -1인 끝까지 보여줌\n",
    "\n",
    "# tensor에서 <start>를 잘라내서 타겟 문장을 생성합니다. 인덱스 1부터 보여줌\n",
    "\n",
    "tgt_input = tensor[:, 1:]    \n",
    "\n",
    "print(src_input[0])\n",
    "print(tgt_input[0])\n",
    "\n",
    "# corpus 내의 첫 번째 문장에 대해 생성된 소스와 타겟 문장을 확인해 보았습니다. \n",
    "# 예상대로 소스는 2(<start>)에서 시작해서 3(<end>)으로 끝난 후 0(<pad>)로 채워져 \n",
    "# 있습니다. 하지만 타겟은 2로 시작하지 않고 소스를 왼쪽으로 한 칸 시프트 한 형태"
   ]
  },
  {
   "cell_type": "markdown",
   "id": "sophisticated-crime",
   "metadata": {},
   "source": [
    " #### 6. 데이터셋 객체 생성\n",
    " - 이전 학습법 : model.fit(x_train, y_train, ...) 형태로 Numpy Array 데이터셋을 생성하여 model에 제공하는 형태의 학습\n",
    " -  텐서플로우를 활용할 경우 텐서로 생성된 데이터를 이용해 tf.data.Dataset객체를 생성하는 방법을 흔히 사용\n",
    " - tf.data.Dataset객체는 텐서플로우에서 사용할 경우 데이터 입력 파이프라인을 통한 속도 개선 및 각종 편의 기능을 제공\n",
    " -  이미 데이터셋을 텐서 형태로 생성해 두었으므로, tf.data.Dataset.from_tensor_slices() 메소드를 이용해 tf.data.Dataset객체를 생성\n",
    " \n",
    " \n",
    "- 아래 코드 설명\n",
    "  - tf.data.Dataset.from_tensor_slices :  데이터 셋트를 변환을 적용\n",
    "  - shuffle() \n",
    "    - 데이터 셋트의 요소를 무작위로 섞음,  \n",
    "    - 데이터세트는 버퍼를 buffer_size요소로 채운 다음 이 버퍼에서 무작위로 요소를 샘플링하여 선택한 요소를 새 요소로 바꿉니다. \n",
    "    -  완벽한 셔플링을 위해서는 데이터 세트의 전체 크기보다 크거나 같은 버퍼 크기가 필요\n",
    "    - BUFFER_SIZE 는 src_input 데이터의 크기와 같게 설정해놓음\n",
    "    \n",
    "  - batch(BATCH_SIZE, drop_remainder=True)\n",
    "    -  위에서 선언된 dataset 을  BATCH_SIZE 만큼씩 나누고, \n",
    "    -  drop_remainder=True 는 나눈 후 갯수를  채우지않는 array 를 없앰"
   ]
  },
  {
   "cell_type": "code",
   "execution_count": 9,
   "id": "associate-desire",
   "metadata": {},
   "outputs": [
    {
     "data": {
      "text/plain": [
       "<BatchDataset shapes: ((256, 20), (256, 20)), types: (tf.int32, tf.int32)>"
      ]
     },
     "execution_count": 9,
     "metadata": {},
     "output_type": "execute_result"
    }
   ],
   "source": [
    "BUFFER_SIZE = len(src_input)\n",
    "BATCH_SIZE = 256\n",
    "steps_per_epoch = len(src_input) // BATCH_SIZE\n",
    "\n",
    " # tokenizer가 구축한 단어사전 내 7000개와, 여기 포함되지 않은 0:<pad>를 포함하여 7001개\n",
    "VOCAB_SIZE = tokenizer.num_words + 1   \n",
    "\n",
    "# 준비한 데이터 소스로부터 데이터셋을 만듭니다\n",
    "# 데이터셋에 대해서는 아래 문서를 참고하세요\n",
    "# 자세히 알아둘수록 도움이 많이 되는 중요한 문서입니다\n",
    "# https://www.tensorflow.org/api_docs/python/tf/data/Dataset\n",
    "dataset = tf.data.Dataset.from_tensor_slices((src_input, tgt_input))\n",
    "\n",
    "dataset = dataset.shuffle(BUFFER_SIZE)\n",
    "\n",
    "dataset = dataset.batch(BATCH_SIZE, drop_remainder=True)\n",
    "\n",
    "\n",
    "dataset"
   ]
  },
  {
   "attachments": {
    "image.png": {
     "image/png": "[encoded data removed]"
    }
   },
   "cell_type": "markdown",
   "id": "respective-contribution",
   "metadata": {},
   "source": [
    "---\n",
    "### <2> 인공지능 학습시키기\n",
    "#### 1. - 모델 구조도\n",
    "![image.png](attachment:image.png)\n",
    "\n",
    "- tf.keras.Model을 Subclassing하는 방식"
   ]
  },
  {
   "attachments": {
    "image.png": {
     "image/png": "[encoded data removed]"
    }
   },
   "cell_type": "markdown",
   "id": "electric-cookie",
   "metadata": {},
   "source": [
    "#### 2. 각 코드 및 모델 상세설명\n",
    "-  Embedding 레이어\n",
    "   - 우리 입력 텐서에는 단어 사전의 인덱스가 들어 있습니다. Embedding 레이어는 이 인덱스 값을 해당 인덱스 번째의 워드 벡터로 바꿔줌\n",
    "   - 이 워드 벡터는 의미 벡터 공간에서 단어의 추상적 표현(representation)으로 사용\n",
    "   - `embedding_size` 는 워드 벡터의 차원수, 즉 단어가 추상적으로 표현되는 크기, 값이 커질수록 추상적인 특징들을 잡아낼수있지만 그만큼 충분한 데이터가 주어지지않으면 오이혀 혼란하게 됨, 그래서 실습시 256\n",
    "   ![image.png](attachment:image.png)\n",
    "   - `hidden_size`는  LSTM  레이어의 hidden state 의 차원수, 모델에 얼마나 많은 일꾼을 둘것인가정도의 의미, 일꾼들은 모두 같은 데이터를 보고 각자의 생각을 가지느데, 충분한 데이터가 없으면 각자의 생각이 많아져서 배가 산으로 감. 그래서 실습시 1024"
   ]
  },
  {
   "cell_type": "code",
   "execution_count": 10,
   "id": "indoor-wells",
   "metadata": {},
   "outputs": [],
   "source": [
    "class TextGenerator(tf.keras.Model):\n",
    "    def __init__(self, vocab_size, embedding_size, hidden_size):\n",
    "        super().__init__()\n",
    "        \n",
    "        self.embedding = tf.keras.layers.Embedding(vocab_size, embedding_size)\n",
    "        self.rnn_1 = tf.keras.layers.LSTM(hidden_size, return_sequences=True)\n",
    "        self.rnn_2 = tf.keras.layers.LSTM(hidden_size, return_sequences=True)\n",
    "        self.linear = tf.keras.layers.Dense(vocab_size)\n",
    "        \n",
    "    def call(self, x):\n",
    "        out = self.embedding(x)\n",
    "        out = self.rnn_1(out)\n",
    "        out = self.rnn_2(out)\n",
    "        out = self.linear(out)\n",
    "        \n",
    "        return out\n",
    "    \n",
    "embedding_size = 256\n",
    "hidden_size = 1024\n",
    "model = TextGenerator(tokenizer.num_words + 1, embedding_size , hidden_size)"
   ]
  },
  {
   "cell_type": "markdown",
   "id": "editorial-overhead",
   "metadata": {},
   "source": [
    "- model은 아직 제대로 build되지 않은상태 \n",
    "  - model.compile()을 호출한 적도 없고, \n",
    "  - 아직 model의 입력 텐서가 무엇인지 제대로 지정해 주지도 않았기 때문\n",
    "  - 그런 경우 아래와 같이 model에 데이터를 아주 조금 태워 보는 것도 방법입니다. \n",
    "  -  model의 input shape가 결정되면서 model.build()가 자동으로 호출됨"
   ]
  },
  {
   "cell_type": "code",
   "execution_count": 11,
   "id": "southern-charm",
   "metadata": {
    "collapsed": true
   },
   "outputs": [
    {
     "data": {
      "text/plain": [
       "<tf.Tensor: shape=(256, 20, 7001), dtype=float32, numpy=\n",
       "array([[[ 1.38565709e-04, -5.69218500e-05,  2.92288692e-04, ...,\n",
       "         -5.40002948e-04, -1.79920389e-04,  3.56970966e-04],\n",
       "        [ 6.11197611e-05, -1.05108564e-04,  3.40956583e-04, ...,\n",
       "         -7.51114741e-04,  1.19887671e-04,  9.68080480e-04],\n",
       "        [-9.36810829e-05, -2.85476155e-04,  2.75095197e-04, ...,\n",
       "         -9.16170480e-04,  1.32355912e-04,  1.36876095e-03],\n",
       "        ...,\n",
       "        [ 6.29092334e-04, -5.06457582e-04, -1.39031466e-03, ...,\n",
       "         -2.22158385e-03, -1.64480938e-03,  2.10607162e-04],\n",
       "        [ 8.29570228e-04, -7.83429481e-04, -1.55770278e-03, ...,\n",
       "         -2.59099668e-03, -1.81135803e-03,  6.73497270e-05],\n",
       "        [ 9.81268240e-04, -1.06265605e-03, -1.69775402e-03, ...,\n",
       "         -2.90435227e-03, -1.93757820e-03, -3.76480566e-05]],\n",
       "\n",
       "       [[ 1.38565709e-04, -5.69218500e-05,  2.92288692e-04, ...,\n",
       "         -5.40002948e-04, -1.79920389e-04,  3.56970966e-04],\n",
       "        [ 1.63910750e-04,  1.38969917e-04,  8.19293666e-04, ...,\n",
       "         -1.14771223e-03,  1.43642246e-04,  6.11375610e-04],\n",
       "        [-1.65696588e-06,  1.15442817e-04,  1.52458542e-03, ...,\n",
       "         -1.27272122e-03,  2.77592306e-04,  9.31468268e-04],\n",
       "        ...,\n",
       "        [ 1.53589912e-03, -1.39191491e-03, -1.68306334e-03, ...,\n",
       "         -3.65106529e-03, -1.84782222e-03,  4.34892427e-04],\n",
       "        [ 1.49033032e-03, -1.64387224e-03, -1.76275079e-03, ...,\n",
       "         -3.76319280e-03, -1.89148949e-03,  3.85400373e-04],\n",
       "        [ 1.43792853e-03, -1.87286583e-03, -1.82846305e-03, ...,\n",
       "         -3.85341002e-03, -1.92884356e-03,  3.38802289e-04]],\n",
       "\n",
       "       [[ 1.38565709e-04, -5.69218500e-05,  2.92288692e-04, ...,\n",
       "         -5.40002948e-04, -1.79920389e-04,  3.56970966e-04],\n",
       "        [ 3.08887684e-04,  1.34716203e-04,  2.16934553e-04, ...,\n",
       "         -5.40247245e-04, -1.99425296e-04,  5.46001247e-04],\n",
       "        [ 3.53369658e-04, -1.27636940e-05,  3.38176505e-06, ...,\n",
       "         -3.08370334e-04, -3.10542207e-04,  7.68958183e-04],\n",
       "        ...,\n",
       "        [ 1.93176360e-03, -2.73679092e-04, -1.54535938e-03, ...,\n",
       "         -2.93902820e-03, -2.15169229e-03,  1.30808025e-04],\n",
       "        [ 1.90640008e-03, -5.72325604e-04, -1.68049184e-03, ...,\n",
       "         -3.21582961e-03, -2.21136399e-03,  1.54024747e-04],\n",
       "        [ 1.85871834e-03, -8.65978072e-04, -1.78513373e-03, ...,\n",
       "         -3.43940267e-03, -2.24650325e-03,  1.60520620e-04]],\n",
       "\n",
       "       ...,\n",
       "\n",
       "       [[ 1.38565709e-04, -5.69218500e-05,  2.92288692e-04, ...,\n",
       "         -5.40002948e-04, -1.79920389e-04,  3.56970966e-04],\n",
       "        [ 3.08887684e-04,  1.34716203e-04,  2.16934553e-04, ...,\n",
       "         -5.40247245e-04, -1.99425296e-04,  5.46001247e-04],\n",
       "        [ 2.63846450e-04,  2.34939376e-04,  1.69094012e-04, ...,\n",
       "         -1.90685299e-04, -1.60643453e-04,  9.25503031e-04],\n",
       "        ...,\n",
       "        [ 1.27879577e-03, -9.31793911e-05, -1.06976728e-03, ...,\n",
       "         -1.50253775e-03,  2.52090598e-04, -6.43780368e-05],\n",
       "        [ 1.40127027e-03, -1.93472602e-04, -1.24514860e-03, ...,\n",
       "         -1.97272631e-03, -3.60551967e-05, -5.67525276e-05],\n",
       "        [ 1.47848960e-03, -3.50582821e-04, -1.40782609e-03, ...,\n",
       "         -2.39681476e-03, -2.89093819e-04, -6.93087422e-05]],\n",
       "\n",
       "       [[ 1.38565709e-04, -5.69218500e-05,  2.92288692e-04, ...,\n",
       "         -5.40002948e-04, -1.79920389e-04,  3.56970966e-04],\n",
       "        [ 1.04265324e-04, -1.77735183e-05,  9.45781416e-04, ...,\n",
       "         -1.22433656e-03, -6.10598130e-04,  5.67558454e-04],\n",
       "        [ 3.99047422e-04,  1.66614715e-04,  1.25815661e-03, ...,\n",
       "         -1.56845490e-03, -7.00077624e-04,  4.38299496e-04],\n",
       "        ...,\n",
       "        [ 1.32079143e-03, -1.97559386e-03, -1.42675173e-03, ...,\n",
       "         -2.01720744e-03, -1.24941068e-03,  7.11686094e-04],\n",
       "        [ 1.36991555e-03, -1.99850881e-03, -1.61188305e-03, ...,\n",
       "         -2.40618410e-03, -1.34886871e-03,  5.95725025e-04],\n",
       "        [ 1.39151944e-03, -2.04465445e-03, -1.76290888e-03, ...,\n",
       "         -2.74049211e-03, -1.43501768e-03,  4.81039286e-04]],\n",
       "\n",
       "       [[ 1.38565709e-04, -5.69218500e-05,  2.92288692e-04, ...,\n",
       "         -5.40002948e-04, -1.79920389e-04,  3.56970966e-04],\n",
       "        [ 1.04265324e-04, -1.77735183e-05,  9.45781416e-04, ...,\n",
       "         -1.22433656e-03, -6.10598130e-04,  5.67558454e-04],\n",
       "        [ 1.15597606e-04,  1.50872642e-04,  1.08214875e-03, ...,\n",
       "         -1.26692629e-03, -4.78424074e-04,  9.47271183e-04],\n",
       "        ...,\n",
       "        [ 5.56641142e-04, -6.95027295e-04, -2.32220232e-03, ...,\n",
       "         -2.06338847e-03, -1.34570815e-03,  6.02903252e-04],\n",
       "        [ 7.51893618e-04, -8.77370941e-04, -2.37734430e-03, ...,\n",
       "         -2.44716182e-03, -1.59951474e-03,  5.11085032e-04],\n",
       "        [ 8.93026649e-04, -1.07390480e-03, -2.41222256e-03, ...,\n",
       "         -2.77946354e-03, -1.79600425e-03,  4.27810184e-04]]],\n",
       "      dtype=float32)>"
      ]
     },
     "execution_count": 11,
     "metadata": {},
     "output_type": "execute_result"
    }
   ],
   "source": [
    "# 데이터셋에서 데이터 한 배치만 불러오는 방법입니다.\n",
    "# 지금은 동작 원리에 너무 빠져들지 마세요~\n",
    "for src_sample, tgt_sample in dataset.take(1): break\n",
    "\n",
    "# 한 배치만 불러온 데이터를 모델에 넣어봅니다\n",
    "model(src_sample)"
   ]
  },
  {
   "cell_type": "markdown",
   "id": "duplicate-exhibition",
   "metadata": {},
   "source": [
    "모델의 최종 출력 텐서 shape=(256, 20, 7001)\n",
    "-  7001은 Dense 레이어의 출력 차원수\n",
    "-  7001개의 단어 중 어느 단어의 확률이 가장 높을지를 모델링\n",
    "-  256은 이전 스텝에서 지정한 배치 사이즈\n",
    "-  dataset.take(1)를 통해서 1개의 배치, 즉 256개의 문장 데이터를 가져온 것\n",
    "-  20은   ``` self.rnn_1 = tf.keras.layers.LSTM(hidden_size, return_sequences=True)\n",
    "     self.rnn_2 = tf.keras.layers.LSTM(hidden_size, return_sequences=True)``` \n",
    "     return_sequences=True이라고 지정한 부분때문이다. LSTM은 자신에게 입력된 시퀀스의 길이만큼 동일한 길이의 시퀀스를 출력함. 만약 False dlaus LSTM 레이어는 1개의 벡터만 출력했을 것\n",
    "- 하지만 우리는 입력 데이터의 시퀀스 길이가 얼마인지 모른다. 모델을 만들며 알려준적도 없다. 데이터를 입력받으면서 알게된것. -> 데이터 셋의 max)len이 20으로 맞춰져있었음\n",
    "   - ```model.summary()``` 호출이 가능하고, 확인가능해짐"
   ]
  },
  {
   "cell_type": "code",
   "execution_count": 12,
   "id": "julian-manner",
   "metadata": {},
   "outputs": [
    {
     "name": "stdout",
     "output_type": "stream",
     "text": [
      "Model: \"text_generator\"\n",
      "_________________________________________________________________\n",
      "Layer (type)                 Output Shape              Param #   \n",
      "=================================================================\n",
      "embedding (Embedding)        multiple                  1792256   \n",
      "_________________________________________________________________\n",
      "lstm (LSTM)                  multiple                  5246976   \n",
      "_________________________________________________________________\n",
      "lstm_1 (LSTM)                multiple                  8392704   \n",
      "_________________________________________________________________\n",
      "dense (Dense)                multiple                  7176025   \n",
      "=================================================================\n",
      "Total params: 22,607,961\n",
      "Trainable params: 22,607,961\n",
      "Non-trainable params: 0\n",
      "_________________________________________________________________\n"
     ]
    }
   ],
   "source": [
    "model.summary()"
   ]
  },
  {
   "cell_type": "markdown",
   "id": "reduced-artist",
   "metadata": {},
   "source": [
    "- 호출해 보니 그동안 많이 보았던 것과는 다른 점이 있습니다. \n",
    "- 우리가 궁금했던 Output Shape를 정확하게 알려주지 않습니다. 바로 위에서 설명한 이유 때문입니다. 우리의 모델은 입력 시퀀스의 길이를 모르기 때문에 Output Shape를 특정할 수 없는 것입니다.\n",
    "- 하지만 모델의 파라미터 사이즈는 측정(Total params)됩니다. 대략 22million 정도 \n",
    "\n",
    "\n",
    "#### 3. 위코드까지 모델이 학습할 준비 완료!!! \n",
    "####    이제 모델을 학습시키기\n",
    "- Loss는 모델이 오답을 만들고 있는 정도\n",
    "- 오답률이 감소하고 있으니 학습이 잘 진행되고 있다 고 해석하면됨"
   ]
  },
  {
   "cell_type": "code",
   "execution_count": 14,
   "id": "sharp-allen",
   "metadata": {
    "collapsed": true
   },
   "outputs": [
    {
     "name": "stdout",
     "output_type": "stream",
     "text": [
      "Epoch 1/30\n",
      "93/93 [==============================] - 71s 742ms/step - loss: 2.8654\n",
      "Epoch 2/30\n",
      "11/93 [==>...........................] - ETA: 1:00 - loss: 2.6510"
     ]
    },
    {
     "ename": "KeyboardInterrupt",
     "evalue": "",
     "output_type": "error",
     "traceback": [
      "\u001b[0;31m---------------------------------------------------------------------------\u001b[0m",
      "\u001b[0;31mKeyboardInterrupt\u001b[0m                         Traceback (most recent call last)",
      "\u001b[0;32m<ipython-input-14-73b3ee56a6ed>\u001b[0m in \u001b[0;36m<module>\u001b[0;34m\u001b[0m\n\u001b[1;32m     13\u001b[0m \u001b[0;34m\u001b[0m\u001b[0m\n\u001b[1;32m     14\u001b[0m \u001b[0mmodel\u001b[0m\u001b[0;34m.\u001b[0m\u001b[0mcompile\u001b[0m\u001b[0;34m(\u001b[0m\u001b[0mloss\u001b[0m\u001b[0;34m=\u001b[0m\u001b[0mloss\u001b[0m\u001b[0;34m,\u001b[0m \u001b[0moptimizer\u001b[0m\u001b[0;34m=\u001b[0m\u001b[0moptimizer\u001b[0m\u001b[0;34m)\u001b[0m\u001b[0;34m\u001b[0m\u001b[0;34m\u001b[0m\u001b[0m\n\u001b[0;32m---> 15\u001b[0;31m \u001b[0mmodel\u001b[0m\u001b[0;34m.\u001b[0m\u001b[0mfit\u001b[0m\u001b[0;34m(\u001b[0m\u001b[0mdataset\u001b[0m\u001b[0;34m,\u001b[0m \u001b[0mepochs\u001b[0m\u001b[0;34m=\u001b[0m\u001b[0;36m30\u001b[0m\u001b[0;34m)\u001b[0m\u001b[0;34m\u001b[0m\u001b[0;34m\u001b[0m\u001b[0m\n\u001b[0m",
      "\u001b[0;32m/opt/conda/lib/python3.7/site-packages/tensorflow/python/keras/engine/training.py\u001b[0m in \u001b[0;36mfit\u001b[0;34m(self, x, y, batch_size, epochs, verbose, callbacks, validation_split, validation_data, shuffle, class_weight, sample_weight, initial_epoch, steps_per_epoch, validation_steps, validation_batch_size, validation_freq, max_queue_size, workers, use_multiprocessing)\u001b[0m\n\u001b[1;32m   1098\u001b[0m                 _r=1):\n\u001b[1;32m   1099\u001b[0m               \u001b[0mcallbacks\u001b[0m\u001b[0;34m.\u001b[0m\u001b[0mon_train_batch_begin\u001b[0m\u001b[0;34m(\u001b[0m\u001b[0mstep\u001b[0m\u001b[0;34m)\u001b[0m\u001b[0;34m\u001b[0m\u001b[0;34m\u001b[0m\u001b[0m\n\u001b[0;32m-> 1100\u001b[0;31m               \u001b[0mtmp_logs\u001b[0m \u001b[0;34m=\u001b[0m \u001b[0mself\u001b[0m\u001b[0;34m.\u001b[0m\u001b[0mtrain_function\u001b[0m\u001b[0;34m(\u001b[0m\u001b[0miterator\u001b[0m\u001b[0;34m)\u001b[0m\u001b[0;34m\u001b[0m\u001b[0;34m\u001b[0m\u001b[0m\n\u001b[0m\u001b[1;32m   1101\u001b[0m               \u001b[0;32mif\u001b[0m \u001b[0mdata_handler\u001b[0m\u001b[0;34m.\u001b[0m\u001b[0mshould_sync\u001b[0m\u001b[0;34m:\u001b[0m\u001b[0;34m\u001b[0m\u001b[0;34m\u001b[0m\u001b[0m\n\u001b[1;32m   1102\u001b[0m                 \u001b[0mcontext\u001b[0m\u001b[0;34m.\u001b[0m\u001b[0masync_wait\u001b[0m\u001b[0;34m(\u001b[0m\u001b[0;34m)\u001b[0m\u001b[0;34m\u001b[0m\u001b[0;34m\u001b[0m\u001b[0m\n",
      "\u001b[0;32m/opt/conda/lib/python3.7/site-packages/tensorflow/python/eager/def_function.py\u001b[0m in \u001b[0;36m__call__\u001b[0;34m(self, *args, **kwds)\u001b[0m\n\u001b[1;32m    826\u001b[0m     \u001b[0mtracing_count\u001b[0m \u001b[0;34m=\u001b[0m \u001b[0mself\u001b[0m\u001b[0;34m.\u001b[0m\u001b[0mexperimental_get_tracing_count\u001b[0m\u001b[0;34m(\u001b[0m\u001b[0;34m)\u001b[0m\u001b[0;34m\u001b[0m\u001b[0;34m\u001b[0m\u001b[0m\n\u001b[1;32m    827\u001b[0m     \u001b[0;32mwith\u001b[0m \u001b[0mtrace\u001b[0m\u001b[0;34m.\u001b[0m\u001b[0mTrace\u001b[0m\u001b[0;34m(\u001b[0m\u001b[0mself\u001b[0m\u001b[0;34m.\u001b[0m\u001b[0m_name\u001b[0m\u001b[0;34m)\u001b[0m \u001b[0;32mas\u001b[0m \u001b[0mtm\u001b[0m\u001b[0;34m:\u001b[0m\u001b[0;34m\u001b[0m\u001b[0;34m\u001b[0m\u001b[0m\n\u001b[0;32m--> 828\u001b[0;31m       \u001b[0mresult\u001b[0m \u001b[0;34m=\u001b[0m \u001b[0mself\u001b[0m\u001b[0;34m.\u001b[0m\u001b[0m_call\u001b[0m\u001b[0;34m(\u001b[0m\u001b[0;34m*\u001b[0m\u001b[0margs\u001b[0m\u001b[0;34m,\u001b[0m \u001b[0;34m**\u001b[0m\u001b[0mkwds\u001b[0m\u001b[0;34m)\u001b[0m\u001b[0;34m\u001b[0m\u001b[0;34m\u001b[0m\u001b[0m\n\u001b[0m\u001b[1;32m    829\u001b[0m       \u001b[0mcompiler\u001b[0m \u001b[0;34m=\u001b[0m \u001b[0;34m\"xla\"\u001b[0m \u001b[0;32mif\u001b[0m \u001b[0mself\u001b[0m\u001b[0;34m.\u001b[0m\u001b[0m_experimental_compile\u001b[0m \u001b[0;32melse\u001b[0m \u001b[0;34m\"nonXla\"\u001b[0m\u001b[0;34m\u001b[0m\u001b[0;34m\u001b[0m\u001b[0m\n\u001b[1;32m    830\u001b[0m       \u001b[0mnew_tracing_count\u001b[0m \u001b[0;34m=\u001b[0m \u001b[0mself\u001b[0m\u001b[0;34m.\u001b[0m\u001b[0mexperimental_get_tracing_count\u001b[0m\u001b[0;34m(\u001b[0m\u001b[0;34m)\u001b[0m\u001b[0;34m\u001b[0m\u001b[0;34m\u001b[0m\u001b[0m\n",
      "\u001b[0;32m/opt/conda/lib/python3.7/site-packages/tensorflow/python/eager/def_function.py\u001b[0m in \u001b[0;36m_call\u001b[0;34m(self, *args, **kwds)\u001b[0m\n\u001b[1;32m    853\u001b[0m       \u001b[0;31m# In this case we have created variables on the first call, so we run the\u001b[0m\u001b[0;34m\u001b[0m\u001b[0;34m\u001b[0m\u001b[0;34m\u001b[0m\u001b[0m\n\u001b[1;32m    854\u001b[0m       \u001b[0;31m# defunned version which is guaranteed to never create variables.\u001b[0m\u001b[0;34m\u001b[0m\u001b[0;34m\u001b[0m\u001b[0;34m\u001b[0m\u001b[0m\n\u001b[0;32m--> 855\u001b[0;31m       \u001b[0;32mreturn\u001b[0m \u001b[0mself\u001b[0m\u001b[0;34m.\u001b[0m\u001b[0m_stateless_fn\u001b[0m\u001b[0;34m(\u001b[0m\u001b[0;34m*\u001b[0m\u001b[0margs\u001b[0m\u001b[0;34m,\u001b[0m \u001b[0;34m**\u001b[0m\u001b[0mkwds\u001b[0m\u001b[0;34m)\u001b[0m  \u001b[0;31m# pylint: disable=not-callable\u001b[0m\u001b[0;34m\u001b[0m\u001b[0;34m\u001b[0m\u001b[0m\n\u001b[0m\u001b[1;32m    856\u001b[0m     \u001b[0;32melif\u001b[0m \u001b[0mself\u001b[0m\u001b[0;34m.\u001b[0m\u001b[0m_stateful_fn\u001b[0m \u001b[0;32mis\u001b[0m \u001b[0;32mnot\u001b[0m \u001b[0;32mNone\u001b[0m\u001b[0;34m:\u001b[0m\u001b[0;34m\u001b[0m\u001b[0;34m\u001b[0m\u001b[0m\n\u001b[1;32m    857\u001b[0m       \u001b[0;31m# Release the lock early so that multiple threads can perform the call\u001b[0m\u001b[0;34m\u001b[0m\u001b[0;34m\u001b[0m\u001b[0;34m\u001b[0m\u001b[0m\n",
      "\u001b[0;32m/opt/conda/lib/python3.7/site-packages/tensorflow/python/eager/function.py\u001b[0m in \u001b[0;36m__call__\u001b[0;34m(self, *args, **kwargs)\u001b[0m\n\u001b[1;32m   2941\u001b[0m        filtered_flat_args) = self._maybe_define_function(args, kwargs)\n\u001b[1;32m   2942\u001b[0m     return graph_function._call_flat(\n\u001b[0;32m-> 2943\u001b[0;31m         filtered_flat_args, captured_inputs=graph_function.captured_inputs)  # pylint: disable=protected-access\n\u001b[0m\u001b[1;32m   2944\u001b[0m \u001b[0;34m\u001b[0m\u001b[0m\n\u001b[1;32m   2945\u001b[0m   \u001b[0;34m@\u001b[0m\u001b[0mproperty\u001b[0m\u001b[0;34m\u001b[0m\u001b[0;34m\u001b[0m\u001b[0m\n",
      "\u001b[0;32m/opt/conda/lib/python3.7/site-packages/tensorflow/python/eager/function.py\u001b[0m in \u001b[0;36m_call_flat\u001b[0;34m(self, args, captured_inputs, cancellation_manager)\u001b[0m\n\u001b[1;32m   1917\u001b[0m       \u001b[0;31m# No tape is watching; skip to running the function.\u001b[0m\u001b[0;34m\u001b[0m\u001b[0;34m\u001b[0m\u001b[0;34m\u001b[0m\u001b[0m\n\u001b[1;32m   1918\u001b[0m       return self._build_call_outputs(self._inference_function.call(\n\u001b[0;32m-> 1919\u001b[0;31m           ctx, args, cancellation_manager=cancellation_manager))\n\u001b[0m\u001b[1;32m   1920\u001b[0m     forward_backward = self._select_forward_and_backward_functions(\n\u001b[1;32m   1921\u001b[0m         \u001b[0margs\u001b[0m\u001b[0;34m,\u001b[0m\u001b[0;34m\u001b[0m\u001b[0;34m\u001b[0m\u001b[0m\n",
      "\u001b[0;32m/opt/conda/lib/python3.7/site-packages/tensorflow/python/eager/function.py\u001b[0m in \u001b[0;36mcall\u001b[0;34m(self, ctx, args, cancellation_manager)\u001b[0m\n\u001b[1;32m    558\u001b[0m               \u001b[0minputs\u001b[0m\u001b[0;34m=\u001b[0m\u001b[0margs\u001b[0m\u001b[0;34m,\u001b[0m\u001b[0;34m\u001b[0m\u001b[0;34m\u001b[0m\u001b[0m\n\u001b[1;32m    559\u001b[0m               \u001b[0mattrs\u001b[0m\u001b[0;34m=\u001b[0m\u001b[0mattrs\u001b[0m\u001b[0;34m,\u001b[0m\u001b[0;34m\u001b[0m\u001b[0;34m\u001b[0m\u001b[0m\n\u001b[0;32m--> 560\u001b[0;31m               ctx=ctx)\n\u001b[0m\u001b[1;32m    561\u001b[0m         \u001b[0;32melse\u001b[0m\u001b[0;34m:\u001b[0m\u001b[0;34m\u001b[0m\u001b[0;34m\u001b[0m\u001b[0m\n\u001b[1;32m    562\u001b[0m           outputs = execute.execute_with_cancellation(\n",
      "\u001b[0;32m/opt/conda/lib/python3.7/site-packages/tensorflow/python/eager/execute.py\u001b[0m in \u001b[0;36mquick_execute\u001b[0;34m(op_name, num_outputs, inputs, attrs, ctx, name)\u001b[0m\n\u001b[1;32m     58\u001b[0m     \u001b[0mctx\u001b[0m\u001b[0;34m.\u001b[0m\u001b[0mensure_initialized\u001b[0m\u001b[0;34m(\u001b[0m\u001b[0;34m)\u001b[0m\u001b[0;34m\u001b[0m\u001b[0;34m\u001b[0m\u001b[0m\n\u001b[1;32m     59\u001b[0m     tensors = pywrap_tfe.TFE_Py_Execute(ctx._handle, device_name, op_name,\n\u001b[0;32m---> 60\u001b[0;31m                                         inputs, attrs, num_outputs)\n\u001b[0m\u001b[1;32m     61\u001b[0m   \u001b[0;32mexcept\u001b[0m \u001b[0mcore\u001b[0m\u001b[0;34m.\u001b[0m\u001b[0m_NotOkStatusException\u001b[0m \u001b[0;32mas\u001b[0m \u001b[0me\u001b[0m\u001b[0;34m:\u001b[0m\u001b[0;34m\u001b[0m\u001b[0;34m\u001b[0m\u001b[0m\n\u001b[1;32m     62\u001b[0m     \u001b[0;32mif\u001b[0m \u001b[0mname\u001b[0m \u001b[0;32mis\u001b[0m \u001b[0;32mnot\u001b[0m \u001b[0;32mNone\u001b[0m\u001b[0;34m:\u001b[0m\u001b[0;34m\u001b[0m\u001b[0;34m\u001b[0m\u001b[0m\n",
      "\u001b[0;31mKeyboardInterrupt\u001b[0m: "
     ]
    }
   ],
   "source": [
    "# optimizer와 loss등은 차차 배웁니다\n",
    "# 혹시 미리 알고 싶다면 아래 문서를 참고하세요\n",
    "# https://www.tensorflow.org/api_docs/python/tf/keras/optimizers\n",
    "# https://www.tensorflow.org/api_docs/python/tf/keras/losses\n",
    "# 양이 상당히 많은 편이니 지금 보는 것은 추천하지 않습니다\n",
    "\n",
    "\n",
    "optimizer = tf.keras.optimizers.Adam()\n",
    "loss = tf.keras.losses.SparseCategoricalCrossentropy(\n",
    "    from_logits=True,\n",
    "    reduction='none'\n",
    ")\n",
    "\n",
    "model.compile(loss=loss, optimizer=optimizer)\n",
    "model.fit(dataset, epochs=30)"
   ]
  },
  {
   "cell_type": "markdown",
   "id": "increasing-unknown",
   "metadata": {},
   "source": [
    "### <3> 인공지능 모델 평가\n",
    "-  작문을 시켜보고 직접 평가\n",
    "- generate_text 함수는 모델에게 시작 문장을 전달하면 모델이 시작 문장을 바탕으로 작문을 진행"
   ]
  },
  {
   "cell_type": "code",
   "execution_count": null,
   "id": "alternative-burden",
   "metadata": {},
   "outputs": [],
   "source": [
    "def generate_text(model, tokenizer, init_sentence=\"<start>\", max_len=20):\n",
    "    # 테스트를 위해서 입력받은 init_sentence도 텐서로 변환합니다\n",
    "    test_input = tokenizer.texts_to_sequences([init_sentence])\n",
    "    test_tensor = tf.convert_to_tensor(test_input, dtype=tf.int64)\n",
    "    end_token = tokenizer.word_index[\"<end>\"]\n",
    "\n",
    "    # 단어 하나씩 예측해 문장을 만듭니다\n",
    "    #    1. 입력받은 문장의 텐서를 입력합니다\n",
    "    #    2. 예측된 값 중 가장 높은 확률인 word index를 뽑아냅니다\n",
    "    #    3. 2에서 예측된 word index를 문장 뒤에 붙입니다\n",
    "    #    4. 모델이 <end>를 예측했거나, max_len에 도달했다면 문장 생성을 마칩니다\n",
    "    while True:\n",
    "        # 1\n",
    "        predict = model(test_tensor) \n",
    "        # 2\n",
    "        predict_word = tf.argmax(tf.nn.softmax(predict, axis=-1), axis=-1)[:, -1] \n",
    "        # 3 \n",
    "        test_tensor = tf.concat([test_tensor, tf.expand_dims(predict_word, axis=0)], axis=-1)\n",
    "        # 4\n",
    "        if predict_word.numpy()[0] == end_token: break\n",
    "        if test_tensor.shape[1] >= max_len: break\n",
    "\n",
    "    generated = \"\"\n",
    "    # tokenizer를 이용해 word index를 단어로 하나씩 변환합니다 \n",
    "    for word_index in test_tensor[0].numpy():\n",
    "        generated += tokenizer.index_word[word_index] + \" \"\n",
    "\n",
    "    return generated"
   ]
  },
  {
   "cell_type": "markdown",
   "id": "responsible-amplifier",
   "metadata": {},
   "source": [
    "generate_text() 함수에서 init_sentence를 인자로 받고는 있습니다. 이렇게 받은 인자를 일단 텐서로 만들고 있습니다. 디폴트로는 `<start>` 단어 하나만 받는군요.\n",
    "    \n",
    "-  while의 첫 번째 루프에서 test_tensor에 `<start>` 하나만 들어갔다고 합시다. 우리의 모델이 출력으로 7001개의 단어 중 A를 골랐다고 합시다.\n",
    "-  while의 두 번째 루프에서 test_tensor에는 `<start> A`가 들어갑니다. 그래서 우리의 모델이 그다음 B를 골랐다고 합시다.\n",
    "- while의 세 번째 루프에서 test_tensor에는 `<start> A B`가 들어갑니다. 그래서..... (이하 후략)"
   ]
  },
  {
   "cell_type": "code",
   "execution_count": null,
   "id": "automated-thanks",
   "metadata": {},
   "outputs": [],
   "source": [
    "# 문장 생성 함수 실행\n",
    "#init_sentence 를 바꿔가며 이런저런 실험\n",
    "\n",
    "generate_text(model, tokenizer, init_sentence=\"<start> i\")"
   ]
  },
  {
   "cell_type": "markdown",
   "id": "falling-priority",
   "metadata": {},
   "source": [
    "## ✔프로젝트: 멋진 작사가 만들기\n",
    "### step1. 데이터 다운로드 : 이미 데이터 있음\n",
    "- Cloud shell에 심볼릭 링크로 ~/aiffel/lyricist/data를 생성, ~/aiffel/lyricist/data/lyrics에 데이터가 있음\n",
    "\n",
    "### step2. 데이터 읽어오기\n",
    "- glob 모듈을 사용하면 파일을 읽어오는 작업을 하기가 아주 용이\n",
    "- glob 를 활용하여 모든 txt 파일을 읽어온 후, \n",
    "- raw_corpus 리스트에 문장 단위로 저장"
   ]
  },
  {
   "cell_type": "code",
   "execution_count": 3,
   "id": "pressed-brief",
   "metadata": {
    "scrolled": true
   },
   "outputs": [
    {
     "name": "stdout",
     "output_type": "stream",
     "text": [
      "데이터 크기: 187088\n",
      "Examples:\n",
      " ['At first I was afraid', 'I was petrified', 'I kept thinking I could never live without you', 'By my side But then I spent so many nights', \"Just thinking how you've done me wrong\", 'I grew strong', \"I learned how to get along And so you're back\", 'From outer space', 'I just walked in to find you', 'Here without that look upon your face I should have changed that fucking lock', 'I would have made you leave your key', 'If I had known for just one second', \"You'd be back to bother me Well now go,\", 'Walk out the door', 'Just turn around', \"Now, you're not welcome anymore Weren't you the one\", 'Who tried to break me with desire?', \"Did you think I'd crumble?\", \"Did you think I'd lay down and die? Oh not I,\", 'I will survive']\n"
     ]
    }
   ],
   "source": [
    "import glob\n",
    "import os\n",
    "import os, re \n",
    "import numpy as np\n",
    "import tensorflow as tf\n",
    "\n",
    "txt_file_path = os.getenv('HOME')+'/aiffel/lyricist/data/lyrics/*'\n",
    "\n",
    "txt_list = glob.glob(txt_file_path)\n",
    "\n",
    "raw_corpus = []\n",
    "\n",
    "# 여러개의 txt 파일을 모두 읽어서 raw_corpus 에 담습니다.\n",
    "\n",
    "for txt_file in txt_list:\n",
    "    with open(txt_file, \"r\") as f:\n",
    "        raw = f.read().splitlines()\n",
    "        raw_corpus.extend(raw)\n",
    "\n",
    "print(\"데이터 크기:\", len(raw_corpus))\n",
    "print(\"Examples:\\n\", raw_corpus[:20]) #샘플문장확인 19 인덱스까지"
   ]
  },
  {
   "cell_type": "markdown",
   "id": "meaning-compiler",
   "metadata": {},
   "source": [
    "### step3. 데이터 정제\n",
    "- preprocess_sentence() 함수 활용해 데이터를 정제\n",
    "- 지나치게 긴 문장은 다른 데이터들이 과도하게 패딩을 갖게하므로 15개 이하 문장 제외하는 코드 만들기\n",
    "#### 1.  필요한 파일만 가져오도록 필터링 (정제하는 방법찾는것)\n",
    "\n",
    "- 빈셀은 없으므로 넘어가고, 쉼표 같은 특수문자가 있어서 없애기\n",
    "- sentence 문장안의 단어 갯수 15개 이상이면 넘어가기 \n",
    "- for 문을 돌리고 확인해보면서 내가 원하는 데이터만 가져오는지 확인하기\n"
   ]
  },
  {
   "cell_type": "code",
   "execution_count": 4,
   "id": "detected-rider",
   "metadata": {},
   "outputs": [
    {
     "name": "stdout",
     "output_type": "stream",
     "text": [
      "0 At first I was afraid\n",
      "1 I was petrified\n",
      "2 I kept thinking I could never live without you\n",
      "3 By my side But then I spent so many nights\n",
      "4 Just thinking how you've done me wrong\n",
      "5 I grew strong\n",
      "6 I learned how to get along And so you're back\n",
      "7 From outer space\n",
      "8 I just walked in to find you\n",
      "9 Here without that look upon your face I should have changed that fucking lock\n",
      "10 I would have made you leave your key\n"
     ]
    }
   ],
   "source": [
    "for idx, sentence in enumerate(raw_corpus):\n",
    "    if len(sentence) == 0: continue   # 길이가 0인 문장은 건너뜁니다.\n",
    "    if sentence[-1] == \":\": continue  # 문장의 끝이 : 인 문장은 건너뜁니다.\n",
    "    if idx > 10: break   # 일단 문장 10개만 확인해 볼 겁니다.\n",
    "        \n",
    "    print(idx, sentence)"
   ]
  },
  {
   "cell_type": "code",
   "execution_count": 5,
   "id": "progressive-basic",
   "metadata": {},
   "outputs": [],
   "source": [
    "def preprocess_sentence(sentence):\n",
    "    sentence = sentence.lower().strip() # 소문자변경, 양쪽공백지우기\n",
    "    sentence = re.sub(r\"([?.!,¿])\", r\" \\1 \", sentence) # 특수문자 양쪽에 공백넣기\n",
    "    sentence = re.sub(r'[\" \"]+', \" \", sentence) # 여러개공백은 하나로 바꾸기\n",
    "    sentence = re.sub(r\"[^a-zA-Z?.!¿]+\", \" \", sentence) # ^a-zA-Z?.!,¿ 가 아닌 모든 문자를 하나의 공백으로 바꿈\n",
    "    sentence = sentence.strip() # 다시 양쪽 공백 지움\n",
    "    sentence = '<start> ' + sentence + ' <end>' # dkvdp <start>, 끝에<end> 입력\n",
    "    return sentence"
   ]
  },
  {
   "cell_type": "code",
   "execution_count": 6,
   "id": "active-nickname",
   "metadata": {},
   "outputs": [
    {
     "data": {
      "text/plain": [
       "['<start> at first i was afraid <end>',\n",
       " '<start> i was petrified <end>',\n",
       " '<start> i kept thinking i could never live without you <end>',\n",
       " '<start> by my side but then i spent so many nights <end>',\n",
       " '<start> just thinking how you ve done me wrong <end>',\n",
       " '<start> i grew strong <end>',\n",
       " '<start> i learned how to get along and so you re back <end>',\n",
       " '<start> from outer space <end>',\n",
       " '<start> i just walked in to find you <end>',\n",
       " '<start> i would have made you leave your key <end>',\n",
       " '<start> if i had known for just one second <end>',\n",
       " '<start> you d be back to bother me well now go <end>',\n",
       " '<start> walk out the door <end>',\n",
       " '<start> just turn around <end>',\n",
       " '<start> now you re not welcome anymore weren t you the one <end>',\n",
       " '<start> who tried to break me with desire ? <end>',\n",
       " '<start> did you think i d crumble ? <end>',\n",
       " '<start> did you think i d lay down and die ? oh not i <end>',\n",
       " '<start> i will survive <end>',\n",
       " '<start> yeah <end>']"
      ]
     },
     "execution_count": 6,
     "metadata": {},
     "output_type": "execute_result"
    }
   ],
   "source": [
    "# 정제된 문장모으기 \n",
    "corpus = []\n",
    "\n",
    "for sentence in raw_corpus:\n",
    "    # 우리가 원하지 않는 문장은 건너뜁니다\n",
    "    if len(sentence) == 0: continue   # 빈셀 없애기\n",
    "    preprocessed_sentence = preprocess_sentence(sentence)\n",
    "    if len(preprocessed_sentence.split()) > 15: continue\n",
    "    corpus.append(preprocessed_sentence) \n",
    "    \n",
    "# 정제된 결과 확인\n",
    "corpus[:20]"
   ]
  },
  {
   "cell_type": "code",
   "execution_count": 7,
   "id": "broke-planet",
   "metadata": {},
   "outputs": [
    {
     "name": "stdout",
     "output_type": "stream",
     "text": [
      "[[   2   71  252 ...    0    0    0]\n",
      " [   2    4   54 ...    0    0    0]\n",
      " [   2    4 1081 ...    0    0    0]\n",
      " ...\n",
      " [   2    7    4 ...    0    0    0]\n",
      " [   2   44   16 ...    0    0    0]\n",
      " [   2    5  174 ...    0    0    0]] <keras_preprocessing.text.Tokenizer object at 0x7f3985af7e10>\n"
     ]
    }
   ],
   "source": [
    "# 토큰화 할 때 텐서플로우의 Tokenizer와 pad_sequences를 사용합니다\n",
    "# 더 잘 알기 위해 아래 문서들을 참고하면 좋습니다\n",
    "# https://www.tensorflow.org/api_docs/python/tf/keras/preprocessing/text/Tokenizer\n",
    "# https://www.tensorflow.org/api_docs/python/tf/keras/preprocessing/sequence/pad_sequences\n",
    "def tokenize(corpus):\n",
    "    # 7000단어를 기억할 수 있는 tokenizer를 만들겁니다\n",
    "    # 우리는 이미 문장을 정제했으니 filters가 필요없어요\n",
    "    # 7000단어에 포함되지 못한 단어는 '<unk>'로 바꿀거에요\n",
    "    tokenizer = tf.keras.preprocessing.text.Tokenizer(\n",
    "        num_words=12000, \n",
    "        filters=' ',\n",
    "        oov_token=\"<unk>\"\n",
    "    )\n",
    "    # corpus를 이용해 tokenizer 내부의 단어장을 완성합니다\n",
    "    tokenizer.fit_on_texts(corpus)\n",
    "    # 준비한 tokenizer를 이용해 corpus를 Tensor로 변환합니다\n",
    "    tensor = tokenizer.texts_to_sequences(corpus)   \n",
    "    # 입력 데이터의 시퀀스 길이를 일정하게 맞춰줍니다\n",
    "    \n",
    "    # 만약 시퀀스가 짧다면 문장 뒤에 패딩을 붙여 길이를 맞춰줍니다.\n",
    "    # 문장 앞에 패딩을 붙여 길이를 맞추고 싶다면 padding='pre'를 사용합니다\n",
    "    tensor = tf.keras.preprocessing.sequence.pad_sequences(tensor, padding='post', maxlen=15)  \n",
    "    \n",
    "    print(tensor,tokenizer)\n",
    "    return tensor, tokenizer\n",
    "\n",
    "tensor, tokenizer = tokenize(corpus)"
   ]
  },
  {
   "cell_type": "code",
   "execution_count": 8,
   "id": "basic-destination",
   "metadata": {},
   "outputs": [
    {
     "name": "stdout",
     "output_type": "stream",
     "text": [
      "1 : <unk>\n",
      "2 : <start>\n",
      "3 : <end>\n",
      "4 : i\n",
      "5 : the\n",
      "6 : you\n",
      "7 : and\n",
      "8 : a\n",
      "9 : to\n",
      "10 : it\n"
     ]
    }
   ],
   "source": [
    "# 단어 사전 확인\n",
    "for idx in tokenizer.index_word:\n",
    "    print(idx, \":\", tokenizer.index_word[idx])\n",
    "\n",
    "    if idx >= 10: break"
   ]
  },
  {
   "cell_type": "markdown",
   "id": "apparent-celebration",
   "metadata": {},
   "source": [
    "### step4. 평가데이터 셋 분리\n",
    "\n",
    "-  단어장의 크기는 12,000 이상 으로 설정\n",
    "-  총 데이터의 20% 를 평가 데이터셋으로 사용"
   ]
  },
  {
   "cell_type": "code",
   "execution_count": 9,
   "id": "stunning-community",
   "metadata": {},
   "outputs": [
    {
     "name": "stdout",
     "output_type": "stream",
     "text": [
      "[  2  71 252   4  54 690   3   0   0   0   0   0   0   0]\n",
      "[ 71 252   4  54 690   3   0   0   0   0   0   0   0   0]\n"
     ]
    }
   ],
   "source": [
    "# tensor에서 마지막 토큰을 잘라내서 소스 문장을 생성합니다\n",
    "# 마지막 토큰은 <end>가 아니라 <pad>일 가능성이 높습니다.\n",
    "\n",
    "src_input = tensor[:, :-1]  # 인덱스 -1인 끝까지 보여줌 , X_train\n",
    "\n",
    "# tensor에서 <start>를 잘라내서 타겟 문장을 생성합니다. 인덱스 1부터 보여줌\n",
    "\n",
    "tgt_input = tensor[:, 1:]    # y_train\n",
    "\n",
    "print(src_input[0])\n",
    "print(tgt_input[0])\n",
    "\n",
    "# corpus 내의 첫 번째 문장에 대해 생성된 소스와 타겟 문장을 확인해 보았습니다. \n",
    "# 예상대로 소스는 2(<start>)에서 시작해서 3(<end>)으로 끝난 후 0(<pad>)로 채워져 \n",
    "# 있습니다. 하지만 타겟은 2로 시작하지 않고 소스를 왼쪽으로 한 칸 시프트 한 형태"
   ]
  },
  {
   "cell_type": "code",
   "execution_count": 15,
   "id": "genetic-seafood",
   "metadata": {},
   "outputs": [
    {
     "data": {
      "text/plain": [
       "<BatchDataset shapes: ((256, 14), (256, 14)), types: (tf.int32, tf.int32)>"
      ]
     },
     "execution_count": 15,
     "metadata": {},
     "output_type": "execute_result"
    }
   ],
   "source": [
    "BUFFER_SIZE = len(src_input)\n",
    "BATCH_SIZE = 256\n",
    "steps_per_epoch = len(src_input) // BATCH_SIZE\n",
    "\n",
    " # tokenizer가 구축한 단어사전 내 7000개와, 여기 포함되지 않은 0:<pad>를 포함하여 7001개\n",
    "VOCAB_SIZE = tokenizer.num_words + 1   \n",
    "\n",
    "# 준비한 데이터 소스로부터 데이터셋을 만듭니다\n",
    "# 데이터셋에 대해서는 아래 문서를 참고하세요\n",
    "# 자세히 알아둘수록 도움이 많이 되는 중요한 문서입니다\n",
    "# https://www.tensorflow.org/api_docs/python/tf/data/Dataset\n",
    "dataset = tf.data.Dataset.from_tensor_slices((src_input, tgt_input))\n",
    "dataset = dataset.shuffle(BUFFER_SIZE)\n",
    "dataset = dataset.batch(BATCH_SIZE, drop_remainder=True)\n",
    "dataset"
   ]
  },
  {
   "cell_type": "code",
   "execution_count": 16,
   "id": "pending-joshua",
   "metadata": {},
   "outputs": [
    {
     "name": "stdout",
     "output_type": "stream",
     "text": [
      "Source Train: (127797, 14)\n",
      "Target Train: (127797, 14)\n"
     ]
    }
   ],
   "source": [
    "from sklearn.model_selection import train_test_split\n",
    "\n",
    "enc_train, enc_val, dec_train, dec_val = train_test_split(src_input, tgt_input, test_size=0.2, random_state=20)\n",
    "print(\"Source Train:\", enc_train.shape)  \n",
    "print(\"Target Train:\", dec_train.shape) "
   ]
  },
  {
   "cell_type": "markdown",
   "id": "colored-bachelor",
   "metadata": {},
   "source": [
    "### step5. 인공지능만들기\n",
    "\n",
    "-  단어장의 크기는 12,000 이상 으로 설정"
   ]
  },
  {
   "cell_type": "code",
   "execution_count": 17,
   "id": "recorded-vitamin",
   "metadata": {},
   "outputs": [],
   "source": [
    "class TextGenerator(tf.keras.Model):\n",
    "    def __init__(self, vocab_size, embedding_size, hidden_size):\n",
    "        super().__init__()\n",
    "        \n",
    "        self.embedding = tf.keras.layers.Embedding(vocab_size, embedding_size)\n",
    "        self.rnn_1 = tf.keras.layers.LSTM(hidden_size, return_sequences=True)\n",
    "        self.rnn_2 = tf.keras.layers.LSTM(hidden_size, return_sequences=True)\n",
    "        self.linear = tf.keras.layers.Dense(vocab_size)\n",
    "        \n",
    "    def call(self, x):\n",
    "        out = self.embedding(x)\n",
    "        out = self.rnn_1(out)\n",
    "        out = self.rnn_2(out)\n",
    "        out = self.linear(out)\n",
    "        \n",
    "        return out\n",
    "    \n",
    "embedding_size = 256\n",
    "hidden_size = 1024\n",
    "model = TextGenerator(tokenizer.num_words + 1, embedding_size , hidden_size)"
   ]
  },
  {
   "cell_type": "code",
   "execution_count": 18,
   "id": "thousand-drove",
   "metadata": {},
   "outputs": [
    {
     "data": {
      "text/plain": [
       "<tf.Tensor: shape=(256, 14, 12001), dtype=float32, numpy=\n",
       "array([[[ 1.9823894e-05,  3.0342875e-05,  1.0881908e-04, ...,\n",
       "         -2.8182002e-04,  1.4660723e-04, -6.8807267e-06],\n",
       "        [ 1.1516525e-04,  3.3468293e-04,  1.4494026e-04, ...,\n",
       "         -2.8582464e-04, -1.0202951e-04,  6.8655609e-05],\n",
       "        [ 7.3341609e-05,  3.2622734e-04,  1.8769184e-04, ...,\n",
       "         -4.2784758e-04,  6.3517298e-05,  9.3604038e-05],\n",
       "        ...,\n",
       "        [ 3.1693932e-04,  1.1364262e-03,  1.6134630e-03, ...,\n",
       "         -2.3328001e-03, -1.6123320e-03, -9.9833310e-04],\n",
       "        [ 2.9862431e-04,  1.0958343e-03,  2.0515623e-03, ...,\n",
       "         -2.5180767e-03, -1.6796427e-03, -1.1881168e-03],\n",
       "        [ 2.9711472e-04,  1.0407604e-03,  2.4314977e-03, ...,\n",
       "         -2.6163505e-03, -1.7414833e-03, -1.3529964e-03]],\n",
       "\n",
       "       [[ 1.9823894e-05,  3.0342875e-05,  1.0881908e-04, ...,\n",
       "         -2.8182002e-04,  1.4660723e-04, -6.8807267e-06],\n",
       "        [-4.1817586e-04, -4.7940630e-05,  2.8633710e-04, ...,\n",
       "         -5.4534466e-04,  5.8414564e-05, -9.5361451e-05],\n",
       "        [-7.4935920e-04, -8.2438935e-05,  2.4537285e-04, ...,\n",
       "         -6.6650100e-04,  1.3069429e-04, -2.3899270e-04],\n",
       "        ...,\n",
       "        [ 2.9160210e-04, -1.4120054e-05,  8.1305305e-04, ...,\n",
       "         -7.6753832e-04,  3.4298986e-04, -1.9701345e-04],\n",
       "        [ 2.9631204e-04,  2.0173497e-05,  1.2419911e-03, ...,\n",
       "         -1.3226757e-03,  9.7426484e-05, -5.0763477e-04],\n",
       "        [ 2.5413928e-04,  9.2119946e-05,  1.6821895e-03, ...,\n",
       "         -1.8145751e-03, -1.3853541e-04, -8.3534815e-04]],\n",
       "\n",
       "       [[ 1.9823894e-05,  3.0342875e-05,  1.0881908e-04, ...,\n",
       "         -2.8182002e-04,  1.4660723e-04, -6.8807267e-06],\n",
       "        [ 1.0884410e-04, -4.6402074e-05,  2.4049822e-04, ...,\n",
       "         -4.2792829e-04,  1.3362590e-04, -1.5315130e-04],\n",
       "        [ 3.3831468e-04, -1.9239276e-04,  2.8249729e-05, ...,\n",
       "         -6.1262836e-04,  2.3385070e-04, -4.8025607e-04],\n",
       "        ...,\n",
       "        [ 8.4542367e-04,  1.9075863e-04,  7.2527170e-04, ...,\n",
       "         -3.0972112e-03, -8.4613613e-04, -2.1925056e-03],\n",
       "        [ 7.0032320e-04,  2.7785701e-04,  1.1495162e-03, ...,\n",
       "         -3.2517940e-03, -9.4917841e-04, -2.2199929e-03],\n",
       "        [ 5.9355138e-04,  3.4191803e-04,  1.5484869e-03, ...,\n",
       "         -3.3062818e-03, -1.0488129e-03, -2.2280673e-03]],\n",
       "\n",
       "       ...,\n",
       "\n",
       "       [[ 1.9823894e-05,  3.0342875e-05,  1.0881908e-04, ...,\n",
       "         -2.8182002e-04,  1.4660723e-04, -6.8807267e-06],\n",
       "        [ 2.3467657e-04, -6.6460125e-06,  2.8271254e-04, ...,\n",
       "         -4.8217303e-04,  2.1844491e-04, -4.3495038e-05],\n",
       "        [ 4.1775219e-04, -6.4703563e-05,  9.1759706e-05, ...,\n",
       "         -6.6792167e-04,  2.7165591e-04, -9.0968155e-05],\n",
       "        ...,\n",
       "        [ 4.3419175e-04,  6.9080101e-04,  1.3051684e-03, ...,\n",
       "         -2.8280937e-03, -8.7182777e-04, -5.8964884e-04],\n",
       "        [ 3.9081514e-04,  7.3051831e-04,  1.6904324e-03, ...,\n",
       "         -2.9091893e-03, -1.0177749e-03, -8.1659207e-04],\n",
       "        [ 3.7156657e-04,  7.5037632e-04,  2.0373783e-03, ...,\n",
       "         -2.9091293e-03, -1.1572023e-03, -1.0203606e-03]],\n",
       "\n",
       "       [[ 1.9823894e-05,  3.0342875e-05,  1.0881908e-04, ...,\n",
       "         -2.8182002e-04,  1.4660723e-04, -6.8807267e-06],\n",
       "        [ 2.5852004e-04, -3.1708056e-05, -4.2805044e-05, ...,\n",
       "         -5.6089956e-04,  2.1435309e-04,  1.1967386e-04],\n",
       "        [ 4.5895245e-04, -7.2966846e-05, -2.6104174e-04, ...,\n",
       "         -8.6205645e-04,  6.3987565e-05,  2.9315369e-04],\n",
       "        ...,\n",
       "        [ 3.6988675e-04,  7.0528081e-04,  2.5393635e-03, ...,\n",
       "         -2.9005648e-03, -1.2392156e-03, -1.1463766e-03],\n",
       "        [ 3.9493549e-04,  6.9741171e-04,  2.8086132e-03, ...,\n",
       "         -2.7996681e-03, -1.3515437e-03, -1.2952983e-03],\n",
       "        [ 4.2443041e-04,  6.7898922e-04,  3.0353719e-03, ...,\n",
       "         -2.6794123e-03, -1.4617305e-03, -1.4148166e-03]],\n",
       "\n",
       "       [[ 1.9823894e-05,  3.0342875e-05,  1.0881908e-04, ...,\n",
       "         -2.8182002e-04,  1.4660723e-04, -6.8807267e-06],\n",
       "        [-1.1824014e-04,  2.3441420e-05,  1.4712402e-04, ...,\n",
       "         -4.7040431e-04,  6.2645384e-05,  4.3642467e-06],\n",
       "        [-5.5764837e-04,  7.5104013e-05,  3.5749361e-04, ...,\n",
       "         -7.5605017e-04, -6.3014450e-05,  5.8683796e-05],\n",
       "        ...,\n",
       "        [-2.5371800e-04,  7.5614208e-04,  5.4425176e-04, ...,\n",
       "         -1.1972893e-03, -2.3531832e-04, -4.8580815e-04],\n",
       "        [-1.3926614e-04,  7.9670287e-04,  1.0963742e-03, ...,\n",
       "         -1.6828497e-03, -3.5332184e-04, -6.6264329e-04],\n",
       "        [-5.4159267e-05,  8.2287606e-04,  1.6176206e-03, ...,\n",
       "         -2.0850317e-03, -4.8780267e-04, -8.3963148e-04]]], dtype=float32)>"
      ]
     },
     "execution_count": 18,
     "metadata": {},
     "output_type": "execute_result"
    }
   ],
   "source": [
    "# 데이터셋에서 데이터 한 배치만 불러오는 방법입니다.\n",
    "# 지금은 동작 원리에 너무 빠져들지 마세요~\n",
    "for src_sample, tgt_sample in dataset.take(1): break\n",
    "\n",
    "# 한 배치만 불러온 데이터를 모델에 넣어봅니다\n",
    "model(src_sample)"
   ]
  },
  {
   "cell_type": "code",
   "execution_count": 19,
   "id": "genetic-price",
   "metadata": {},
   "outputs": [
    {
     "name": "stdout",
     "output_type": "stream",
     "text": [
      "Model: \"text_generator_2\"\n",
      "_________________________________________________________________\n",
      "Layer (type)                 Output Shape              Param #   \n",
      "=================================================================\n",
      "embedding_2 (Embedding)      multiple                  3072256   \n",
      "_________________________________________________________________\n",
      "lstm_4 (LSTM)                multiple                  5246976   \n",
      "_________________________________________________________________\n",
      "lstm_5 (LSTM)                multiple                  8392704   \n",
      "_________________________________________________________________\n",
      "dense_2 (Dense)              multiple                  12301025  \n",
      "=================================================================\n",
      "Total params: 29,012,961\n",
      "Trainable params: 29,012,961\n",
      "Non-trainable params: 0\n",
      "_________________________________________________________________\n"
     ]
    }
   ],
   "source": [
    "model.summary()"
   ]
  },
  {
   "cell_type": "code",
   "execution_count": 20,
   "id": "quality-montreal",
   "metadata": {},
   "outputs": [
    {
     "name": "stdout",
     "output_type": "stream",
     "text": [
      "Epoch 1/10\n",
      "624/624 [==============================] - 200s 317ms/step - loss: 3.8787\n",
      "Epoch 2/10\n",
      "624/624 [==============================] - 200s 321ms/step - loss: 2.9816\n",
      "Epoch 3/10\n",
      "624/624 [==============================] - 200s 321ms/step - loss: 2.7933\n",
      "Epoch 4/10\n",
      "624/624 [==============================] - 200s 320ms/step - loss: 2.6596\n",
      "Epoch 5/10\n",
      "624/624 [==============================] - 200s 320ms/step - loss: 2.5444\n",
      "Epoch 6/10\n",
      "624/624 [==============================] - 199s 319ms/step - loss: 2.4452\n",
      "Epoch 7/10\n",
      "624/624 [==============================] - 199s 319ms/step - loss: 2.3475\n",
      "Epoch 8/10\n",
      "624/624 [==============================] - 200s 320ms/step - loss: 2.2613\n",
      "Epoch 9/10\n",
      "624/624 [==============================] - 200s 321ms/step - loss: 2.1802\n",
      "Epoch 10/10\n",
      "624/624 [==============================] - 200s 321ms/step - loss: 2.1075\n"
     ]
    },
    {
     "data": {
      "text/plain": [
       "<tensorflow.python.keras.callbacks.History at 0x7f39838f8510>"
      ]
     },
     "execution_count": 20,
     "metadata": {},
     "output_type": "execute_result"
    }
   ],
   "source": [
    "# 모델학습시키기\n",
    "optimizer = tf.keras.optimizers.Adam()\n",
    "loss = tf.keras.losses.SparseCategoricalCrossentropy(\n",
    "    from_logits=True, reduction='none')\n",
    "\n",
    "model.compile(loss=loss, optimizer=optimizer)\n",
    "model.fit(dataset, epochs=10)"
   ]
  },
  {
   "cell_type": "markdown",
   "id": "elect-knitting",
   "metadata": {},
   "source": [
    "- 작문 시켜보기 \n",
    "  - generate_text 함수는 모델에게 시작 문장을 전달하면 모델이 시작 문장을 바탕으로 작문을 진행하게 함"
   ]
  },
  {
   "cell_type": "code",
   "execution_count": 27,
   "id": "outside-saturn",
   "metadata": {},
   "outputs": [],
   "source": [
    "def generate_text(model, tokenizer, init_sentence=\"<start>\", max_len=20):\n",
    "    # 테스트를 위해서 입력받은 init_sentence도 텐서로 변환합니다\n",
    "    test_input = tokenizer.texts_to_sequences([init_sentence])\n",
    "    test_tensor = tf.convert_to_tensor(test_input, dtype=tf.int64)\n",
    "    end_token = tokenizer.word_index[\"<end>\"]\n",
    "\n",
    "    # 단어 하나씩 예측해 문장을 만듭니다\n",
    "    #    1. 입력받은 문장의 텐서를 입력합니다\n",
    "    #    2. 예측된 값 중 가장 높은 확률인 word index를 뽑아냅니다\n",
    "    #    3. 2에서 예측된 word index를 문장 뒤에 붙입니다\n",
    "    #    4. 모델이 <end>를 예측했거나, max_len에 도달했다면 문장 생성을 마칩니다\n",
    "    while True:\n",
    "        # 1\n",
    "        predict = model(test_tensor) \n",
    "        # 2\n",
    "        predict_word = tf.argmax(tf.nn.softmax(predict, axis=-1), axis=-1)[:, -1] \n",
    "        # 3 \n",
    "        test_tensor = tf.concat([test_tensor, tf.expand_dims(predict_word, axis=0)], axis=-1)\n",
    "        # 4\n",
    "        if predict_word.numpy()[0] == end_token: break\n",
    "        if test_tensor.shape[1] >= max_len: break\n",
    "\n",
    "    generated = \"\"\n",
    "    # tokenizer를 이용해 word index를 단어로 하나씩 변환합니다 \n",
    "    for word_index in test_tensor[0].numpy():\n",
    "        generated += tokenizer.index_word[word_index] + \" \"\n",
    "\n",
    "    return generated"
   ]
  },
  {
   "cell_type": "markdown",
   "id": "immediate-relevance",
   "metadata": {},
   "source": [
    "- 실제로 위 문장 생성 함수를 실행 시작을 I love 로 시작"
   ]
  },
  {
   "cell_type": "code",
   "execution_count": 31,
   "id": "continental-muscle",
   "metadata": {},
   "outputs": [
    {
     "data": {
      "text/plain": [
       "'<start> i love you <end> '"
      ]
     },
     "execution_count": 31,
     "metadata": {},
     "output_type": "execute_result"
    }
   ],
   "source": [
    "generate_text(model, tokenizer, init_sentence=\"<start> i love\", max_len=20)"
   ]
  },
  {
   "cell_type": "markdown",
   "id": "simplified-pricing",
   "metadata": {},
   "source": [
    "- 최종 문장은 \n",
    "i love you"
   ]
  },
  {
   "cell_type": "markdown",
   "id": "interpreted-shield",
   "metadata": {},
   "source": [
    "### 회고 \n",
    "- dataset을 만들지 않고 진행해서 학습자체가 되지않았음을 한참 후에 알게되었다. \n",
    "- BATCH_SIZE, hidden size, embedding_size 에 대한 공부를 다시 해보아야 할것 같다.\n",
    "- val_loss 를 구해야하는데.. 코드진행이해를 못하고이어서 공부가 조금더 필요한것같다.\n",
    "- i love you 보다 조금더 긴 문장이 나올것같았는데..4-7에서 요구한 코드가 ln31과 달라서 맞는지 확신이들지않는다.\n"
   ]
  }
 ],
 "metadata": {
  "kernelspec": {
   "display_name": "Python 3",
   "language": "python",
   "name": "python3"
  },
  "language_info": {
   "codemirror_mode": {
    "name": "ipython",
    "version": 3
   },
   "file_extension": ".py",
   "mimetype": "text/x-python",
   "name": "python",
   "nbconvert_exporter": "python",
   "pygments_lexer": "ipython3",
   "version": "3.7.9"
  }
 },
 "nbformat": 4,
 "nbformat_minor": 5
}
