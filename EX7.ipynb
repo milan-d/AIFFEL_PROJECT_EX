{
 "cells": [
  {
   "cell_type": "markdown",
   "id": "acknowledged-baghdad",
   "metadata": {},
   "source": [
    "# 공부 및 실습\n",
    "\n",
    "## 1.텍스트 데이터 숫자로 표현하기\n",
    "\n",
    "### 단어 사전 만들기 \n",
    "\n",
    "  1. 처리해야하는 문장을 리스트에 담고. .split() 메소드로 문장쪼개기\n",
    "  \n",
    "  2. 모든 문장을 단어 단위로 쪼갠후 빈 딕셔너리를 만드어서 단어들을 하나씩 채운다. bos(시작), pad(패딩), unk(unknown단어, 사전에없는) 는 딕셔너리 젤 앞에 넣고, 다른 단어들도 dict(딕셔너리)자료구조로 표현하기\n",
    "  \n",
    "  3. 텍스트데이터를 숫자로 바꾸기 : 딕셔너리구조가 {텍스트:인덱스} 구조여야함. 2번의 구조는 `0:<pad>` 였다면 3번에서 `<pad>:0 `으로 변경해야함<br>\n",
    "     코드는 `word_to_index={word:index for index, word in index_to_word.items()}`\n",
    "  \n",
    "  4. 3번에서 바뀐 딕셔너리는 단어를 주면 그 단의 인덱스를 반환하는 방식으로 사용가능하다. `word_to_index['feel']` 는 4를 반환한다.\n",
    "  \n",
    "  5. 문장 1개를 활용할 딕셔너리와 함께 주면, 단어 인덱스 리스트로 변환해 주는 함수를 만들기`get_encoded_sentence` (모든 문장은 `<BOS>`로 시작)\n",
    "    - encode된 벡터를 decode하여 다시 원래 텍스트 데이터로 복구할 수도 있다.( `get_decoded_sentence`)\n",
    "    - 여러 개의 숫자 벡터로 encode된 문장을 한꺼번에 원래대로 decode(`get_decoded_sentences`)\n",
    "    \n",
    "## 텍스트 데이터 특징 \n",
    "\n",
    "### embedding레이어\n",
    "- 위에서 진행한것은 **단순히 텍스트가 숫자로 변환**된것뿐, **텍스트에 담긴 언어의 의미와 대응**되는 벡터가 아님. \n",
    "- 우리가 해야하는 것은 그 단어의 의미를 나타내는 벡터를 짝짓는 것.\n",
    "- **단어의 의미를 나타내는 벡터를 훈련가능한 파라미터로 놓고 이를 딥러닝을 통해 학습해서 최적화시킴**\n",
    "- ensorflow, Pytorch 등의 딥러닝 프레임워크들은 이러한 의미벡터 파라미터를 구현한 Embedding 레이어를 제공\n",
    "- **주의사항:  Embedding 레이어의 인풋이 되는 문장 벡터는 그 길이가 일정해야함** -> Tensorflow에서는 `keras.preprocessing.sequence.pad_sequences`라는 편리한 함수를 통해  **문장 벡터 뒤에 패딩을 추가하여 길이를 일정하게 맞춰주는 기능 제공**,( 3개의 단어 문장과 5개의 단어문장이 있을때 3개의 단어문장 뒤에 2개의 패딩이 추가되는것, 패드는 0에 맵핑 기억하기)\n",
    "- 코드 \n",
    "`raw_inputs = keras.preprocessing.sequence.pad_sequences(`\n",
    "`raw_inputs, ` -> 시퀀스 목록(정수)                             `value=word_to_index['<PAD>'],`->부동 소수점 또는 문자열, 패딩 값. (선택 사항, 기본값은 0)<br>\n",
    "`padding='post',` -> padding\t문자열, 'pre' 또는 'post'(선택 사항, 기본값은 'pre'): 각 시퀀스 앞이나 뒤에 채웁니다. post는 뒤<br>`maxlen=5)` -> 모든 시퀀스의 최대길이, 없으면 시퀀스가 가장긴 개별시퀀스 길이로 채워짐\n",
    "- shape=(3, 5, 4)에서 shape=(입력문장갯수, 입력문장최대길이, 워드벡터차원의수)\n",
    "                 \n",
    "\n",
    "### 시퀀스 데이터를 다루는 RNN(Recurrent Neural Network)\n",
    "-  시퀀스(Sequence) 형태의 데이터\n",
    "  - 특정 순서를 가져서 독립적이지 않음\n",
    "  - 입력 x와 출력 y가 시간의 순서대로나열됨\n",
    "  - 시계열데이터(시간의 흐름에 따라 기록된데이터)와 텍스트데이터(텍스트도 쪼개어보면 시간에따라 문맥이 존재함, 순서가존재)\n",
    "  - 음성데이터 \n",
    "    1. i feel hungry'라는 문장을 누군가가 초당 한 단어씩, 3초에 걸쳐 이 문장을 발음 \n",
    "    2. `at time=0s : 듣는이의 귀에 들어온 input='i'\n",
    "at time=1s : 듣는이의 귀에 들어온 input='feel'\n",
    "at time=2s : 듣는이의 귀에 들어온 input='hungry'`\n",
    "    3. time=1s인 시점에서 입력으로 받은 문장은 'i feel' 까지,그 뒤 단어는 무엇이 올지 알수없다.\n",
    "    4. RNN은 시간의 흐름에 따라 새롭게 들어오는 입력에 따라 변하는 현재 상태를 묘사하는 state machine으로 설계되어 위와 같은 상황을 묘사하기에 적장한 모델구조를 가지고 있음\n",
    "    \n",
    "- `vocab_size = 10`   어휘 사전의 크기입니다(10개의 단어)\n",
    "- `word_vector_dim = 4`  단어 하나를 표현하는 임베딩 벡터의 차원수\n",
    "- RNN 외에도 다양한 시도 가능\n",
    "  - 1-D Convolution Neural Network(1-D CNN),   \n",
    "  - GlobalMaxPooling1D() 레이어 하나만 사용하는 방법 : 단 하나의 가장 중요한 단어만 피처로 추출하여 그것으로 문장의 긍정/부정을 평가하는 방식\n",
    "  - 1-D CNN과 RNN 레이어를 섞어\n",
    "  - FFN(FeedForward Network) 레이어만으로 구성\n",
    "  - Transformer 레이어"
   ]
  },
  {
   "cell_type": "code",
   "execution_count": null,
   "id": "south-cleveland",
   "metadata": {},
   "outputs": [],
   "source": [
    "# RNN 모델\n",
    "\n",
    "vocab_size = 10  # 어휘 사전의 크기입니다(10개의 단어)\n",
    "word_vector_dim = 4  # 단어 하나를 표현하는 임베딩 벡터의 차원수입니다. \n",
    "\n",
    "model = keras.Sequential()\n",
    "model.add(keras.layers.Embedding(vocab_size, word_vector_dim, input_shape=(None,)))\n",
    "model.add(keras.layers.LSTM(8))   # 가장 널리 쓰이는 RNN인 LSTM 레이어를 사용하였습니다. 이때 LSTM state 벡터의 차원수는 8로 하였습니다. (변경 가능)\n",
    "model.add(keras.layers.Dense(8, activation='relu'))\n",
    "model.add(keras.layers.Dense(1, activation='sigmoid'))  # 최종 출력은 긍정/부정을 나타내는 1dim 입니다.\n",
    "\n",
    "model.summary()"
   ]
  },
  {
   "cell_type": "code",
   "execution_count": null,
   "id": "dimensional-bahamas",
   "metadata": {},
   "outputs": [],
   "source": [
    "# 1-D CNN 모델\n",
    "\n",
    "vocab_size = 10  # 어휘 사전의 크기입니다(10개의 단어)\n",
    "word_vector_dim = 4   # 단어 하나를 표현하는 임베딩 벡터의 차원 수입니다. \n",
    "\n",
    "model = keras.Sequential()\n",
    "model.add(keras.layers.Embedding(vocab_size, word_vector_dim, input_shape=(None,)))\n",
    "model.add(keras.layers.Conv1D(16, 7, activation='relu'))\n",
    "model.add(keras.layers.MaxPooling1D(5))\n",
    "model.add(keras.layers.Conv1D(16, 7, activation='relu'))\n",
    "model.add(keras.layers.GlobalMaxPooling1D())\n",
    "model.add(keras.layers.Dense(8, activation='relu'))\n",
    "model.add(keras.layers.Dense(1, activation='sigmoid'))  # 최종 출력은 긍정/부정을 나타내는 1dim 입니다.\n",
    "\n",
    "model.summary()"
   ]
  },
  {
   "cell_type": "code",
   "execution_count": null,
   "id": "second-answer",
   "metadata": {},
   "outputs": [],
   "source": [
    "# GlobalMaxPooling1D() 모델\n",
    "vocab_size = 10  # 어휘 사전의 크기입니다(10개의 단어)\n",
    "word_vector_dim = 4   # 단어 하나를 표현하는 임베딩 벡터의 차원 수입니다. \n",
    "\n",
    "model = keras.Sequential()\n",
    "model.add(keras.layers.Embedding(vocab_size, word_vector_dim, input_shape=(None,)))\n",
    "model.add(keras.layers.GlobalMaxPooling1D())\n",
    "model.add(keras.layers.Dense(8, activation='relu'))\n",
    "model.add(keras.layers.Dense(1, activation='sigmoid'))  # 최종 출력은 긍정/부정을 나타내는 1dim 입니다.\n",
    "\n",
    "model.summary()"
   ]
  },
  {
   "cell_type": "markdown",
   "id": "gross-farming",
   "metadata": {},
   "source": [
    "## 1. 데이터셋분석\n",
    "\n",
    "1. 5만개의 리뷰 중 각 2만5천개씩 훈련용, 테스트용으로 사용\n",
    "\n",
    "2. `(x_train, y_train), (x_test, y_test) = imdb.load_data(num_words=10000)` 단어사전에 등재할 단어의 갯수를 만개로 지정하면 그 갯수만큼 word_to_index 딕셔너리까지 생성된 형태로 데이터셋이 생성됨\n",
    "\n",
    "3. 데이터 실제 예시를 확인 -> 숫자로 encode된 텍스트 데이터를 다운로드받았음을 확인 -> encode에 사용한 딕셔너리까지 함께 제공된것 확인\n",
    "\n",
    "4. word_to_index, index_to_word 보정 : pad, bos, unk, unused 0~3까지추가 \n",
    "\n",
    "5. encode된 텍스트가 정상적으로 decode되는지 확인\n",
    "\n",
    "6. 문장길이 통일하기 위해 적절한 길이값을 찾아야함 -> 데이터셋 분포확인하여  maxlen 설정\n",
    "\n",
    "7. pad_sequences 의 패딩방식은 pre가 유리한 이유 \n",
    "  - 입력데이터가 순차적으로 처리\n",
    "  - 가장 마지막 입력이 최종 state 값에 가장 영향을 많이 줌\n",
    "  - 마지막 입력이 무의미한 패딩으로 채워지면 비효율\n",
    "  - 'pre'가 훨씬 유리하며, 10% 이상의 테스트 성능 차이가 남\n",
    "\n",
    "## 2. 딥러닝 모델 설계와 훈련\n",
    "\n",
    "- RNN 모델 설계 \n",
    "  - 어휘 사전 크기 vocab_size \n",
    "  - 워드 벡터 차원의 수 word_vector_dim\n",
    "  - 이전 작성했던 것 입력\n",
    "- 검증셋(validation set 분리\n",
    "  - model 훈련 전\n",
    "  - 훈련용 데이터셋 25000건 중 10000건을 분리\n",
    "  - 적절한 validation 데이터는 몇 개가 좋을지 고민\n",
    "- 모델학습 시작 : 결과 보면서  epoch 수정\n",
    "\n",
    "- 테스트셋으로 평가\n",
    "\n",
    "-  history 변수에 저장되어있는 것 그래프 확인\n",
    "  -  validation loss의 그래프가 train loss와의 이격이 발생시 트레이닝이 무의미해짐\n",
    "\n",
    "## 3. Word2Vec의 적용\n",
    "##"
   ]
  },
  {
   "attachments": {},
   "cell_type": "markdown",
   "id": "tough-status",
   "metadata": {},
   "source": [
    "# EX7_ IMDb 영화리뷰 감성분\n",
    "\n",
    "- 200K reviews in total\n",
    "- ratings.txt: All 200K reviews\n",
    "- ratings_test.txt: 50K reviews held out for testing\n",
    "- ratings_train.txt: 150K reviews for training\n",
    " \n",
    "### 1.링크연결\n",
    "`ln -s ~/data/*.txt ~/aiffel/sentiment_classification/data`\n",
    "\n",
    "### 2. 데이터 준비와 확인\n"
   ]
  },
  {
   "cell_type": "code",
   "execution_count": 56,
   "id": "otherwise-export",
   "metadata": {},
   "outputs": [
    {
     "data": {
      "text/html": [
       "<div>\n",
       "<style scoped>\n",
       "    .dataframe tbody tr th:only-of-type {\n",
       "        vertical-align: middle;\n",
       "    }\n",
       "\n",
       "    .dataframe tbody tr th {\n",
       "        vertical-align: top;\n",
       "    }\n",
       "\n",
       "    .dataframe thead th {\n",
       "        text-align: right;\n",
       "    }\n",
       "</style>\n",
       "<table border=\"1\" class=\"dataframe\">\n",
       "  <thead>\n",
       "    <tr style=\"text-align: right;\">\n",
       "      <th></th>\n",
       "      <th>id</th>\n",
       "      <th>document</th>\n",
       "      <th>label</th>\n",
       "    </tr>\n",
       "  </thead>\n",
       "  <tbody>\n",
       "    <tr>\n",
       "      <th>0</th>\n",
       "      <td>9976970</td>\n",
       "      <td>아 더빙.. 진짜 짜증나네요 목소리</td>\n",
       "      <td>0</td>\n",
       "    </tr>\n",
       "    <tr>\n",
       "      <th>1</th>\n",
       "      <td>3819312</td>\n",
       "      <td>흠...포스터보고 초딩영화줄....오버연기조차 가볍지 않구나</td>\n",
       "      <td>1</td>\n",
       "    </tr>\n",
       "    <tr>\n",
       "      <th>2</th>\n",
       "      <td>10265843</td>\n",
       "      <td>너무재밓었다그래서보는것을추천한다</td>\n",
       "      <td>0</td>\n",
       "    </tr>\n",
       "    <tr>\n",
       "      <th>3</th>\n",
       "      <td>9045019</td>\n",
       "      <td>교도소 이야기구먼 ..솔직히 재미는 없다..평점 조정</td>\n",
       "      <td>0</td>\n",
       "    </tr>\n",
       "    <tr>\n",
       "      <th>4</th>\n",
       "      <td>6483659</td>\n",
       "      <td>사이몬페그의 익살스런 연기가 돋보였던 영화!스파이더맨에서 늙어보이기만 했던 커스틴 ...</td>\n",
       "      <td>1</td>\n",
       "    </tr>\n",
       "  </tbody>\n",
       "</table>\n",
       "</div>"
      ],
      "text/plain": [
       "         id                                           document  label\n",
       "0   9976970                                아 더빙.. 진짜 짜증나네요 목소리      0\n",
       "1   3819312                  흠...포스터보고 초딩영화줄....오버연기조차 가볍지 않구나      1\n",
       "2  10265843                                  너무재밓었다그래서보는것을추천한다      0\n",
       "3   9045019                      교도소 이야기구먼 ..솔직히 재미는 없다..평점 조정      0\n",
       "4   6483659  사이몬페그의 익살스런 연기가 돋보였던 영화!스파이더맨에서 늙어보이기만 했던 커스틴 ...      1"
      ]
     },
     "execution_count": 56,
     "metadata": {},
     "output_type": "execute_result"
    }
   ],
   "source": [
    "import pandas as pd\n",
    "import urllib.request\n",
    "%matplotlib inline\n",
    "import matplotlib.pyplot as plt\n",
    "import re\n",
    "from konlpy.tag import Okt\n",
    "from tensorflow import keras\n",
    "from tensorflow.keras.preprocessing.text import Tokenizer\n",
    "import numpy as np\n",
    "from tensorflow.keras.preprocessing.sequence import pad_sequences\n",
    "from collections import Counter\n",
    "\n",
    "# 데이터를 읽어봅시다. \n",
    "train_data = pd.read_table('~/aiffel/sentiment_classification/data/ratings_train.txt')\n",
    "test_data = pd.read_table('~/aiffel/sentiment_classification/data/ratings_test.txt')\n",
    "\n",
    "train_data.head()"
   ]
  },
  {
   "cell_type": "code",
   "execution_count": null,
   "id": "latest-density",
   "metadata": {},
   "outputs": [],
   "source": [
    "### 3. 데이터로더구성"
   ]
  },
  {
   "cell_type": "code",
   "execution_count": 57,
   "id": "hollywood-delay",
   "metadata": {},
   "outputs": [],
   "source": [
    "from konlpy.tag import Mecab\n",
    "tokenizer = Mecab()\n",
    "stopwords = ['의','가','이','은','들','는','좀','잘','걍','과','도','를','으로','자','에','와','한','하다']\n",
    "\n",
    "def load_data(train_data, test_data, num_words=10000):\n",
    "    train_data.drop_duplicates(subset=['document'], inplace=True)\n",
    "    train_data = train_data.dropna(how = 'any') \n",
    "    test_data.drop_duplicates(subset=['document'], inplace=True)\n",
    "    test_data = test_data.dropna(how = 'any') \n",
    "\n",
    "    X_train = []\n",
    "    for sentence in train_data['document']:\n",
    "        temp_X = tokenizer.morphs(sentence) # 토큰화\n",
    "        temp_X = [word for word in temp_X if not word in stopwords] # 불용어 제거\n",
    "        X_train.append(temp_X)\n",
    "\n",
    "    X_test = []\n",
    "    for sentence in test_data['document']:\n",
    "        temp_X = tokenizer.morphs(sentence) # 토큰화\n",
    "        temp_X = [word for word in temp_X if not word in stopwords] # 불용어 제거\n",
    "        X_test.append(temp_X)\n",
    "\n",
    "    words = np.concatenate(X_train).tolist()\n",
    "    counter = Counter(words)\n",
    "    counter = counter.most_common(10000-4)\n",
    "    vocab = ['<PAD>', '<BOS>', '<UNK>', '<UNUSED>'] + [key for key, _ in counter]\n",
    "    word_to_index = {word:index for index, word in enumerate(vocab)}\n",
    "\n",
    "    def wordlist_to_indexlist(wordlist):\n",
    "        return [word_to_index[word] if word in word_to_index else word_to_index['<UNK>'] for word in wordlist]\n",
    "\n",
    "    X_train = list(map(wordlist_to_indexlist, X_train))\n",
    "    X_test = list(map(wordlist_to_indexlist, X_test))\n",
    "\n",
    "    return X_train, np.array(list(train_data['label'])), X_test, np.array(list(test_data['label'])), word_to_index\n",
    "\n",
    "X_train, y_train, X_test, y_test, word_to_index = load_data(train_data, test_data)\n",
    "index_to_word = {index:word for word, index in word_to_index.items()}"
   ]
  },
  {
   "cell_type": "code",
   "execution_count": 58,
   "id": "blond-environment",
   "metadata": {},
   "outputs": [
    {
     "data": {
      "text/plain": [
       "10000"
      ]
     },
     "execution_count": 58,
     "metadata": {},
     "output_type": "execute_result"
    }
   ],
   "source": [
    "len(word_to_index)"
   ]
  },
  {
   "cell_type": "code",
   "execution_count": 59,
   "id": "ancient-headquarters",
   "metadata": {},
   "outputs": [
    {
     "data": {
      "text/plain": [
       "49157"
      ]
     },
     "execution_count": 59,
     "metadata": {},
     "output_type": "execute_result"
    }
   ],
   "source": [
    "len(X_test)"
   ]
  },
  {
   "cell_type": "code",
   "execution_count": 60,
   "id": "competent-external",
   "metadata": {},
   "outputs": [
    {
     "data": {
      "text/plain": [
       "146182"
      ]
     },
     "execution_count": 60,
     "metadata": {},
     "output_type": "execute_result"
    }
   ],
   "source": [
    "len(X_train)"
   ]
  },
  {
   "cell_type": "code",
   "execution_count": 61,
   "id": "median-ontario",
   "metadata": {},
   "outputs": [],
   "source": [
    "# 문장 1개를 활용할 딕셔너리와 함께 주면, 단어 인덱스 리스트 벡터로 변환해 주는 함수입니다. \n",
    "# 단, 모든 문장은 <BOS>로 시작하는 것으로 합니다. \n",
    "def get_encoded_sentence(sentence, word_to_index):\n",
    "    return [word_to_index['<BOS>']]+[word_to_index[word] if word in word_to_index else word_to_index['<UNK>'] for word in sentence.split()]\n",
    "\n",
    "# 여러 개의 문장 리스트를 한꺼번에 단어 인덱스 리스트 벡터로 encode해 주는 함수입니다. \n",
    "def get_encoded_sentences(sentences, word_to_index):\n",
    "    return [get_encoded_sentence(sentence, word_to_index) for sentence in sentences]\n",
    "\n",
    "# 숫자 벡터로 encode된 문장을 원래대로 decode하는 함수입니다. \n",
    "def get_decoded_sentence(encoded_sentence, index_to_word):\n",
    "    return ' '.join(index_to_word[index] if index in index_to_word else '<UNK>' for index in encoded_sentence[1:])  #[1:]를 통해 <BOS>를 제외\n",
    "\n",
    "# 여러 개의 숫자 벡터로 encode된 문장을 한꺼번에 원래대로 decode하는 함수입니다. \n",
    "def get_decoded_sentences(encoded_sentences, index_to_word):\n",
    "    return [get_decoded_sentence(encoded_sentence, index_to_word) for encoded_sentence in encoded_sentences]"
   ]
  },
  {
   "cell_type": "markdown",
   "id": "economic-dominican",
   "metadata": {},
   "source": [
    "### 4. 모델구성을 위한 데이터 분식 및 가공\n",
    "\n",
    "#### 4- 1. 데이터셋 내 문장 길이 분포 \n",
    "#### 4- 2. 적절한 최대 문장 길이 지정 : maxlen은 41\n",
    "#### 4- 3. keras.preprocessing.sequence.pad_sequences 을 활용한 패딩 추가"
   ]
  },
  {
   "cell_type": "code",
   "execution_count": 62,
   "id": "divided-chest",
   "metadata": {},
   "outputs": [
    {
     "name": "stdout",
     "output_type": "stream",
     "text": [
      "문장길이 평균 :  15.96940191154864\n",
      "문장길이 최대 :  116\n",
      "문장길이 표준편차 :  12.843571191092\n",
      "195339\n",
      "pad_sequences maxlen :  41\n",
      "전체 문장의 0.9342988343341575%가 maxlen 설정값 이내에 포함됩니다. \n"
     ]
    }
   ],
   "source": [
    "# 4-1 데이터 셋 내 문장 길이 분포\n",
    "total_data_text = list(X_train) + list(X_test)\n",
    "\n",
    "# 텍스트데이터 문장길이의 리스트를 생성한 후\n",
    "num_tokens = [len(tokens) for tokens in total_data_text]\n",
    "num_tokens = np.array(num_tokens)\n",
    "# 문장길이의 평균값, 최대값, 표준편차를 계산해 본다. \n",
    "print('문장길이 평균 : ', np.mean(num_tokens))\n",
    "print('문장길이 최대 : ', np.max(num_tokens))\n",
    "print('문장길이 표준편차 : ', np.std(num_tokens))\n",
    "\n",
    "# 예를들어, 최대 길이를 (평균 + 2*표준편차)로 한다면,  \n",
    "max_tokens = np.mean(num_tokens) + 2 * np.std(num_tokens)\n",
    "maxlen = int(max_tokens)\n",
    "print(len(total_data_text))\n",
    "print('pad_sequences maxlen : ', maxlen)\n",
    "print('전체 문장의 {}%가 maxlen 설정값 이내에 포함됩니다. '.format(np.sum(num_tokens < max_tokens) / len(num_tokens)))"
   ]
  },
  {
   "cell_type": "code",
   "execution_count": 63,
   "id": "urban-radical",
   "metadata": {},
   "outputs": [],
   "source": [
    "# 4- 3. keras.preprocessing.sequence.pad_sequences 을 활용한 패딩 추가\n",
    "X_train = keras.preprocessing.sequence.pad_sequences(X_train,\n",
    "                                                        value=word_to_index[\"<PAD>\"],\n",
    "                                                        padding='pre',\n",
    "                                                        maxlen=maxlen)\n",
    "\n",
    "X_test = keras.preprocessing.sequence.pad_sequences(X_test,\n",
    "                                                       value=word_to_index[\"<PAD>\"],\n",
    "                                                       padding='pre',\n",
    "                                                       maxlen=maxlen)"
   ]
  },
  {
   "cell_type": "markdown",
   "id": "excessive-european",
   "metadata": {},
   "source": [
    "### 5. 모델구성 및 validation set 구성"
   ]
  },
  {
   "cell_type": "code",
   "execution_count": 64,
   "id": "identified-ontario",
   "metadata": {},
   "outputs": [
    {
     "name": "stdout",
     "output_type": "stream",
     "text": [
      "(126182, 41)\n",
      "(126182,)\n"
     ]
    }
   ],
   "source": [
    "#validation set  구성\n",
    "\n",
    "# validation set 20000건 분리\n",
    "X_val = X_train[:20000]   \n",
    "y_val = y_train[:20000]\n",
    "\n",
    "# validation set을 제외한 나머지 130000건\n",
    "partial_X_train = X_train[20000:]  \n",
    "partial_y_train = y_train[20000:]\n",
    "\n",
    "print(partial_X_train.shape)\n",
    "print(partial_y_train.shape)"
   ]
  },
  {
   "cell_type": "code",
   "execution_count": 65,
   "id": "pacific-favor",
   "metadata": {},
   "outputs": [
    {
     "name": "stdout",
     "output_type": "stream",
     "text": [
      "Model: \"sequential_3\"\n",
      "_________________________________________________________________\n",
      "Layer (type)                 Output Shape              Param #   \n",
      "=================================================================\n",
      "embedding_4 (Embedding)      (None, None, 50)          500000    \n",
      "_________________________________________________________________\n",
      "conv1d_2 (Conv1D)            (None, None, 16)          5616      \n",
      "_________________________________________________________________\n",
      "max_pooling1d_1 (MaxPooling1 (None, None, 16)          0         \n",
      "_________________________________________________________________\n",
      "conv1d_3 (Conv1D)            (None, None, 16)          1808      \n",
      "_________________________________________________________________\n",
      "global_max_pooling1d_2 (Glob (None, 16)                0         \n",
      "_________________________________________________________________\n",
      "dense_6 (Dense)              (None, 16)                272       \n",
      "_________________________________________________________________\n",
      "dense_7 (Dense)              (None, 1)                 17        \n",
      "=================================================================\n",
      "Total params: 507,713\n",
      "Trainable params: 507,713\n",
      "Non-trainable params: 0\n",
      "_________________________________________________________________\n",
      "Model: \"sequential_4\"\n",
      "_________________________________________________________________\n",
      "Layer (type)                 Output Shape              Param #   \n",
      "=================================================================\n",
      "embedding_5 (Embedding)      (None, None, 50)          500000    \n",
      "_________________________________________________________________\n",
      "lstm_1 (LSTM)                (None, 8)                 1888      \n",
      "_________________________________________________________________\n",
      "dense_8 (Dense)              (None, 8)                 72        \n",
      "_________________________________________________________________\n",
      "dense_9 (Dense)              (None, 1)                 9         \n",
      "=================================================================\n",
      "Total params: 501,969\n",
      "Trainable params: 501,969\n",
      "Non-trainable params: 0\n",
      "_________________________________________________________________\n",
      "Model: \"sequential_5\"\n",
      "_________________________________________________________________\n",
      "Layer (type)                 Output Shape              Param #   \n",
      "=================================================================\n",
      "embedding_6 (Embedding)      (None, None, 50)          500000    \n",
      "_________________________________________________________________\n",
      "global_max_pooling1d_3 (Glob (None, 50)                0         \n",
      "_________________________________________________________________\n",
      "dense_10 (Dense)             (None, 8)                 408       \n",
      "_________________________________________________________________\n",
      "dense_11 (Dense)             (None, 1)                 9         \n",
      "=================================================================\n",
      "Total params: 500,417\n",
      "Trainable params: 500,417\n",
      "Non-trainable params: 0\n",
      "_________________________________________________________________\n"
     ]
    }
   ],
   "source": [
    "# 모델구성\n",
    "\n",
    "# 1-D CNN\n",
    "vocab_size = 10000 \n",
    "word_vector_dim = 50    \n",
    "\n",
    "cnn = keras.Sequential()\n",
    "cnn.add(keras.layers.Embedding(vocab_size, word_vector_dim, input_shape=(None,)))\n",
    "cnn.add(keras.layers.Conv1D(16, 7, activation='relu'))\n",
    "cnn.add(keras.layers.MaxPooling1D(5))\n",
    "cnn.add(keras.layers.Conv1D(16, 7, activation='relu'))\n",
    "cnn.add(keras.layers.GlobalMaxPooling1D())\n",
    "cnn.add(keras.layers.Dense(16, activation='relu'))\n",
    "cnn.add(keras.layers.Dense(1, activation='sigmoid'))  \n",
    "\n",
    "cnn.summary()\n",
    "\n",
    "# RNN 모델\n",
    "\n",
    "rnn = keras.Sequential()\n",
    "rnn.add(keras.layers.Embedding(vocab_size, word_vector_dim, input_shape=(None,)))\n",
    "rnn.add(keras.layers.LSTM(8))   \n",
    "rnn.add(keras.layers.Dense(8, activation='relu'))\n",
    "rnn.add(keras.layers.Dense(1, activation='sigmoid'))  \n",
    "\n",
    "rnn.summary()\n",
    "\n",
    "# GlobalMaxPooling1D() 모델\n",
    "\n",
    "gmp = keras.Sequential()\n",
    "gmp.add(keras.layers.Embedding(vocab_size, word_vector_dim, input_shape=(None,)))\n",
    "gmp.add(keras.layers.GlobalMaxPooling1D())\n",
    "gmp.add(keras.layers.Dense(8, activation='relu'))\n",
    "gmp.add(keras.layers.Dense(1, activation='sigmoid'))  # 최종 출력은 긍정/부정을 나타내는 1dim 입니다.\n",
    "\n",
    "gmp.summary()"
   ]
  },
  {
   "cell_type": "markdown",
   "id": "widespread-trout",
   "metadata": {},
   "source": [
    "### 6. 모델 훈련 개시\n",
    "- 동일하게 10epochs를 했을때 모두 3번째 에폭에서 고점이 나옴\n",
    "  - cnn은  accuracy: 0.8978 - val_loss: 0.3330 - val_accuracy: 0.8598\n",
    "  - rnn은 accuracy: 0.8768 - val_loss: 0.3373 - val_accuracy: 0.8554\n",
    "  - gmp 는 accuracy: 0.8801 - val_loss: 0.3386 - val_accuracy: 0.8530\n"
   ]
  },
  {
   "cell_type": "code",
   "execution_count": 75,
   "id": "closing-monkey",
   "metadata": {},
   "outputs": [
    {
     "name": "stdout",
     "output_type": "stream",
     "text": [
      "Epoch 1/8\n",
      "247/247 [==============================] - 3s 11ms/step - loss: 0.0113 - accuracy: 0.9958 - val_loss: 1.4183 - val_accuracy: 0.8191\n",
      "Epoch 2/8\n",
      "247/247 [==============================] - 3s 11ms/step - loss: 0.0120 - accuracy: 0.9955 - val_loss: 1.3998 - val_accuracy: 0.8199\n",
      "Epoch 3/8\n",
      "247/247 [==============================] - 3s 11ms/step - loss: 0.0113 - accuracy: 0.9957 - val_loss: 1.3373 - val_accuracy: 0.8196\n",
      "Epoch 4/8\n",
      "247/247 [==============================] - 3s 11ms/step - loss: 0.0116 - accuracy: 0.9953 - val_loss: 1.4120 - val_accuracy: 0.8152\n",
      "Epoch 5/8\n",
      "247/247 [==============================] - 3s 11ms/step - loss: 0.0093 - accuracy: 0.9963 - val_loss: 1.5681 - val_accuracy: 0.8180\n",
      "Epoch 6/8\n",
      "247/247 [==============================] - 3s 11ms/step - loss: 0.0087 - accuracy: 0.9968 - val_loss: 1.5032 - val_accuracy: 0.8184\n",
      "Epoch 7/8\n",
      "247/247 [==============================] - 3s 11ms/step - loss: 0.0082 - accuracy: 0.9968 - val_loss: 1.5951 - val_accuracy: 0.8133\n",
      "Epoch 8/8\n",
      "247/247 [==============================] - 3s 11ms/step - loss: 0.0089 - accuracy: 0.9965 - val_loss: 1.5055 - val_accuracy: 0.8170\n",
      "Epoch 1/8\n",
      "247/247 [==============================] - 6s 16ms/step - loss: 0.2805 - accuracy: 0.8851 - val_loss: 0.3422 - val_accuracy: 0.8552\n",
      "Epoch 2/8\n",
      "247/247 [==============================] - 3s 13ms/step - loss: 0.2664 - accuracy: 0.8922 - val_loss: 0.3438 - val_accuracy: 0.8562\n",
      "Epoch 3/8\n",
      "247/247 [==============================] - 3s 13ms/step - loss: 0.2506 - accuracy: 0.8994 - val_loss: 0.3529 - val_accuracy: 0.8536\n",
      "Epoch 4/8\n",
      "247/247 [==============================] - 3s 13ms/step - loss: 0.2355 - accuracy: 0.9069 - val_loss: 0.3616 - val_accuracy: 0.8529\n",
      "Epoch 5/8\n",
      "247/247 [==============================] - 3s 13ms/step - loss: 0.2244 - accuracy: 0.9108 - val_loss: 0.3709 - val_accuracy: 0.8523\n",
      "Epoch 6/8\n",
      "247/247 [==============================] - 3s 13ms/step - loss: 0.2119 - accuracy: 0.9168 - val_loss: 0.3837 - val_accuracy: 0.8516\n",
      "Epoch 7/8\n",
      "247/247 [==============================] - 3s 13ms/step - loss: 0.1984 - accuracy: 0.9219 - val_loss: 0.3872 - val_accuracy: 0.8506\n",
      "Epoch 8/8\n",
      "247/247 [==============================] - 3s 13ms/step - loss: 0.1889 - accuracy: 0.9259 - val_loss: 0.4178 - val_accuracy: 0.8511\n",
      "Epoch 1/8\n",
      "247/247 [==============================] - 2s 8ms/step - loss: 0.2640 - accuracy: 0.8927 - val_loss: 0.3437 - val_accuracy: 0.8533\n",
      "Epoch 2/8\n",
      "247/247 [==============================] - 2s 7ms/step - loss: 0.2439 - accuracy: 0.9027 - val_loss: 0.3523 - val_accuracy: 0.8521\n",
      "Epoch 3/8\n",
      "247/247 [==============================] - 2s 7ms/step - loss: 0.2209 - accuracy: 0.9147 - val_loss: 0.3637 - val_accuracy: 0.8512\n",
      "Epoch 4/8\n",
      "247/247 [==============================] - 2s 7ms/step - loss: 0.2034 - accuracy: 0.9232 - val_loss: 0.3787 - val_accuracy: 0.8501\n",
      "Epoch 5/8\n",
      "247/247 [==============================] - 2s 7ms/step - loss: 0.1841 - accuracy: 0.9313 - val_loss: 0.3953 - val_accuracy: 0.8482\n",
      "Epoch 6/8\n",
      "247/247 [==============================] - 2s 7ms/step - loss: 0.1617 - accuracy: 0.9430 - val_loss: 0.4149 - val_accuracy: 0.8447\n",
      "Epoch 7/8\n",
      "247/247 [==============================] - 2s 7ms/step - loss: 0.1469 - accuracy: 0.9499 - val_loss: 0.4373 - val_accuracy: 0.8425\n",
      "Epoch 8/8\n",
      "247/247 [==============================] - 2s 7ms/step - loss: 0.1309 - accuracy: 0.9565 - val_loss: 0.4635 - val_accuracy: 0.8407\n"
     ]
    }
   ],
   "source": [
    "# 1-D CNN 모델학습\n",
    "\n",
    "cnn.compile(optimizer='adam',\n",
    "              loss='binary_crossentropy',\n",
    "              metrics=['accuracy'])\n",
    "              \n",
    "epochs=8  # 몇 epoch를 훈련하면 좋을지 결과를 보면서 바꾸어 봅시다. \n",
    "\n",
    "\n",
    "history_cnn = cnn.fit(partial_X_train,\n",
    "                    partial_y_train,\n",
    "                    epochs=epochs,\n",
    "                    batch_size=512,\n",
    "                    validation_data=(X_val, y_val),\n",
    "                    verbose=1)\n",
    "\n",
    "# RNN 모델 학습\n",
    "\n",
    "rnn.compile(optimizer='adam',\n",
    "              loss='binary_crossentropy',\n",
    "              metrics=['accuracy'])\n",
    "              \n",
    "epochs=8  # 몇 epoch를 훈련하면 좋을지 결과를 보면서 바꾸어 봅시다. \n",
    "\n",
    "history_rnn = rnn.fit(partial_X_train,\n",
    "                    partial_y_train,\n",
    "                    epochs=epochs,\n",
    "                    batch_size=512,\n",
    "                    validation_data=(X_val, y_val),\n",
    "                    verbose=1)\n",
    "\n",
    "\n",
    "# GlobalMaxPooling1D()  모델학습\n",
    "\n",
    "gmp.compile(optimizer='adam',\n",
    "              loss='binary_crossentropy',\n",
    "              metrics=['accuracy'])\n",
    "              \n",
    "epochs=8  # 몇 epoch를 훈련하면 좋을지 결과를 보면서 바꾸어 봅시다. \n",
    "\n",
    "history_gmp = gmp.fit(partial_X_train,\n",
    "                    partial_y_train,\n",
    "                    epochs=epochs,\n",
    "                    batch_size=512,\n",
    "                    validation_data=(X_val, y_val),\n",
    "                    verbose=1)"
   ]
  },
  {
   "cell_type": "code",
   "execution_count": 76,
   "id": "comprehensive-trailer",
   "metadata": {},
   "outputs": [
    {
     "name": "stdout",
     "output_type": "stream",
     "text": [
      "CNN\n",
      "1537/1537 - 2s - loss: 1.4832 - accuracy: 0.8204\n",
      "[1.4832351207733154, 0.8203511238098145]\n",
      "RNN\n",
      "1537/1537 - 5s - loss: 0.4252 - accuracy: 0.8453\n",
      "[1.4832351207733154, 0.8203511238098145]\n",
      "GlobalMaxPooling1D\n",
      "1537/1537 - 2s - loss: 0.4720 - accuracy: 0.8362\n",
      "[1.4832351207733154, 0.8203511238098145]\n"
     ]
    }
   ],
   "source": [
    "# 테스트셋 평가\n",
    "print(\"CNN\")\n",
    "results_cnn = cnn.evaluate(X_test,  y_test, verbose=2)\n",
    "print(results_cnn)\n",
    "\n",
    "print(\"RNN\")\n",
    "results_rnn = rnn.evaluate(X_test,  y_test, verbose=2)\n",
    "print(results_cnn)\n",
    "\n",
    "print(\"GlobalMaxPooling1D\")\n",
    "results_gmp = gmp.evaluate(X_test,  y_test, verbose=2)\n",
    "print(results_cnn)"
   ]
  },
  {
   "cell_type": "markdown",
   "id": "cleared-boost",
   "metadata": {},
   "source": [
    "### 7. Loss, Accuracy 그래프 시각화"
   ]
  },
  {
   "cell_type": "code",
   "execution_count": 77,
   "id": "recognized-christmas",
   "metadata": {},
   "outputs": [
    {
     "data": {
      "image/png": "[encoded data removed]",
      "text/plain": [
       "<Figure size 432x288 with 1 Axes>"
      ]
     },
     "metadata": {
      "needs_background": "light"
     },
     "output_type": "display_data"
    }
   ],
   "source": [
    "# CNN 시각화\n",
    "\n",
    "import matplotlib.pyplot as plt\n",
    "\n",
    "history_dict = history_cnn.history\n",
    "\n",
    "acc = history_dict['accuracy']\n",
    "val_acc = history_dict['val_accuracy']\n",
    "loss = history_dict['loss']\n",
    "val_loss = history_dict['val_loss']\n",
    "\n",
    "epochs = range(1, len(acc) + 1)\n",
    "\n",
    "# \"bo\"는 \"파란색 점\"입니다\n",
    "plt.plot(epochs, loss, 'bo', label='Training loss')\n",
    "# b는 \"파란 실선\"입니다\n",
    "plt.plot(epochs, val_loss, 'b', label='Validation loss')\n",
    "plt.title('Training and validation loss')\n",
    "plt.xlabel('Epochs')\n",
    "plt.ylabel('Loss')\n",
    "plt.legend()\n",
    "\n",
    "plt.show()"
   ]
  },
  {
   "cell_type": "code",
   "execution_count": 78,
   "id": "dangerous-machine",
   "metadata": {},
   "outputs": [
    {
     "data": {
      "image/png": "[encoded data removed]",
      "text/plain": [
       "<Figure size 432x288 with 1 Axes>"
      ]
     },
     "metadata": {
      "needs_background": "light"
     },
     "output_type": "display_data"
    }
   ],
   "source": [
    "plt.clf()   # 그림을 초기화합니다\n",
    "\n",
    "plt.plot(epochs, acc, 'bo', label='Training acc')\n",
    "plt.plot(epochs, val_acc, 'b', label='Validation acc')\n",
    "plt.title('Training and validation accuracy')\n",
    "plt.xlabel('Epochs')\n",
    "plt.ylabel('Accuracy')\n",
    "plt.legend()\n",
    "\n",
    "plt.show()"
   ]
  },
  {
   "cell_type": "code",
   "execution_count": 80,
   "id": "tropical-placement",
   "metadata": {},
   "outputs": [
    {
     "data": {
      "image/png": "[encoded data removed]",
      "text/plain": [
       "<Figure size 432x288 with 1 Axes>"
      ]
     },
     "metadata": {
      "needs_background": "light"
     },
     "output_type": "display_data"
    }
   ],
   "source": [
    "# RNN 시각화\n",
    "\n",
    "history_dict = history_rnn.history\n",
    "\n",
    "acc = history_dict['accuracy']\n",
    "val_acc = history_dict['val_accuracy']\n",
    "loss = history_dict['loss']\n",
    "val_loss = history_dict['val_loss']\n",
    "\n",
    "epochs = range(1, len(acc) + 1)\n",
    "\n",
    "# \"bo\"는 \"파란색 점\"입니다\n",
    "plt.plot(epochs, loss, 'bo', label='Training loss')\n",
    "# b는 \"파란 실선\"입니다\n",
    "plt.plot(epochs, val_loss, 'b', label='Validation loss')\n",
    "plt.title('Training and validation loss')\n",
    "plt.xlabel('Epochs')\n",
    "plt.ylabel('Loss')\n",
    "plt.legend()\n",
    "\n",
    "plt.show()"
   ]
  },
  {
   "cell_type": "code",
   "execution_count": 81,
   "id": "ultimate-riding",
   "metadata": {},
   "outputs": [
    {
     "data": {
      "image/png": "[encoded data removed]",
      "text/plain": [
       "<Figure size 432x288 with 1 Axes>"
      ]
     },
     "metadata": {
      "needs_background": "light"
     },
     "output_type": "display_data"
    }
   ],
   "source": [
    "plt.clf()   # 그림을 초기화합니다\n",
    "\n",
    "plt.plot(epochs, acc, 'bo', label='Training acc')\n",
    "plt.plot(epochs, val_acc, 'b', label='Validation acc')\n",
    "plt.title('Training and validation accuracy')\n",
    "plt.xlabel('Epochs')\n",
    "plt.ylabel('Accuracy')\n",
    "plt.legend()\n",
    "\n",
    "plt.show()"
   ]
  },
  {
   "cell_type": "code",
   "execution_count": 82,
   "id": "agricultural-duplicate",
   "metadata": {},
   "outputs": [
    {
     "data": {
      "image/png": "[encoded data removed]",
      "text/plain": [
       "<Figure size 432x288 with 1 Axes>"
      ]
     },
     "metadata": {
      "needs_background": "light"
     },
     "output_type": "display_data"
    }
   ],
   "source": [
    "# GlobalMaxPooling1D 시각화\n",
    "\n",
    "history_dict = history_gmp.history\n",
    "\n",
    "acc = history_dict['accuracy']\n",
    "val_acc = history_dict['val_accuracy']\n",
    "loss = history_dict['loss']\n",
    "val_loss = history_dict['val_loss']\n",
    "\n",
    "epochs = range(1, len(acc) + 1)\n",
    "\n",
    "# \"bo\"는 \"파란색 점\"입니다\n",
    "plt.plot(epochs, loss, 'bo', label='Training loss')\n",
    "# b는 \"파란 실선\"입니다\n",
    "plt.plot(epochs, val_loss, 'b', label='Validation loss')\n",
    "plt.title('Training and validation loss')\n",
    "plt.xlabel('Epochs')\n",
    "plt.ylabel('Loss')\n",
    "plt.legend()\n",
    "\n",
    "plt.show()"
   ]
  },
  {
   "cell_type": "code",
   "execution_count": 84,
   "id": "legitimate-harvest",
   "metadata": {},
   "outputs": [
    {
     "data": {
      "image/png": "[encoded data removed]",
      "text/plain": [
       "<Figure size 432x288 with 1 Axes>"
      ]
     },
     "metadata": {
      "needs_background": "light"
     },
     "output_type": "display_data"
    }
   ],
   "source": [
    "plt.clf()   # 그림을 초기화합니다\n",
    "\n",
    "plt.plot(epochs, acc, 'bo', label='Training acc')\n",
    "plt.plot(epochs, val_acc, 'b', label='Validation acc')\n",
    "plt.title('Training and validation accuracy')\n",
    "plt.xlabel('Epochs')\n",
    "plt.ylabel('Accuracy')\n",
    "plt.legend()\n",
    "\n",
    "plt.show()"
   ]
  },
  {
   "cell_type": "markdown",
   "id": "assured-routine",
   "metadata": {},
   "source": [
    "### 8. 학습된 Embedding 레이어 분석"
   ]
  },
  {
   "cell_type": "code",
   "execution_count": 85,
   "id": "moving-medicare",
   "metadata": {},
   "outputs": [
    {
     "name": "stdout",
     "output_type": "stream",
     "text": [
      "(10000, 50)\n"
     ]
    }
   ],
   "source": [
    "embedding_layer_cnn = cnn.layers[0]\n",
    "weights_cnn = embedding_layer_cnn.get_weights()[0]\n",
    "print(weights_cnn.shape)    # shape: (vocab_size, embedding_dim)"
   ]
  },
  {
   "cell_type": "code",
   "execution_count": 86,
   "id": "breathing-hammer",
   "metadata": {},
   "outputs": [
    {
     "name": "stdout",
     "output_type": "stream",
     "text": [
      "(10000, 50)\n"
     ]
    }
   ],
   "source": [
    "embedding_layer_rnn = rnn.layers[0]\n",
    "weights_rnn = embedding_layer_rnn.get_weights()[0]\n",
    "print(weights_rnn.shape)    # shape: (vocab_size, embedding_dim)"
   ]
  },
  {
   "cell_type": "code",
   "execution_count": 87,
   "id": "becoming-eating",
   "metadata": {},
   "outputs": [
    {
     "name": "stdout",
     "output_type": "stream",
     "text": [
      "(10000, 50)\n"
     ]
    }
   ],
   "source": [
    "embedding_layer_gmp = gmp.layers[0]\n",
    "weights_gmp = embedding_layer_gmp.get_weights()[0]\n",
    "print(weights_gmp.shape)    # shape: (vocab_size, embedding_dim)"
   ]
  },
  {
   "cell_type": "code",
   "execution_count": 90,
   "id": "artistic-roots",
   "metadata": {},
   "outputs": [],
   "source": [
    "import os\n",
    "\n",
    "# 학습한 Embedding 파라미터를 파일에 써서 저장합니다. \n",
    "word2vec_file_path_cnn = os.getenv('HOME')+'/aiffel/sentiment_classification/data/word2vec_cnn.txt'\n",
    "f = open(word2vec_file_path_cnn, 'w')\n",
    "f.write('{} {}\\n'.format(vocab_size-4, word_vector_dim))  # 몇개의 벡터를 얼마 사이즈로 기재할지 타이틀을 씁니다.\n",
    "\n",
    "# 단어 개수(에서 특수문자 4개는 제외하고)만큼의 워드 벡터를 파일에 기록합니다. \n",
    "vectors = cnn.get_weights()[0]\n",
    "for i in range(4,vocab_size):\n",
    "    f.write('{} {}\\n'.format(index_to_word[i], ' '.join(map(str, list(vectors[i, :])))))\n",
    "f.close()\n",
    "\n",
    "# 학습한 Embedding 파라미터를 파일에 써서 저장합니다. \n",
    "word2vec_file_path_rnn = os.getenv('HOME')+'/aiffel/sentiment_classification/data/word2vec_rnn.txt'\n",
    "f = open(word2vec_file_path_rnn, 'w')\n",
    "f.write('{} {}\\n'.format(vocab_size-4, word_vector_dim))  # 몇개의 벡터를 얼마 사이즈로 기재할지 타이틀을 씁니다.\n",
    "\n",
    "# 단어 개수(에서 특수문자 4개는 제외하고)만큼의 워드 벡터를 파일에 기록합니다. \n",
    "vectors = rnn.get_weights()[0]\n",
    "for i in range(4,vocab_size):\n",
    "    f.write('{} {}\\n'.format(index_to_word[i], ' '.join(map(str, list(vectors[i, :])))))\n",
    "f.close()\n",
    "\n",
    "# 학습한 Embedding 파라미터를 파일에 써서 저장합니다. \n",
    "word2vec_file_path_gmp = os.getenv('HOME')+'/aiffel/sentiment_classification/data/word2vec_gmp.txt'\n",
    "f = open(word2vec_file_path_gmp, 'w')\n",
    "f.write('{} {}\\n'.format(vocab_size-4, word_vector_dim))  # 몇개의 벡터를 얼마 사이즈로 기재할지 타이틀을 씁니다.\n",
    "\n",
    "# 단어 개수(에서 특수문자 4개는 제외하고)만큼의 워드 벡터를 파일에 기록합니다. \n",
    "vectors = gmp.get_weights()[0]\n",
    "for i in range(4,vocab_size):\n",
    "    f.write('{} {}\\n'.format(index_to_word[i], ' '.join(map(str, list(vectors[i, :])))))\n",
    "f.close()"
   ]
  },
  {
   "cell_type": "code",
   "execution_count": 93,
   "id": "studied-residence",
   "metadata": {},
   "outputs": [],
   "source": [
    "from gensim.models.keyedvectors import Word2VecKeyedVectors\n",
    "\n",
    "word_vectors_cnn = Word2VecKeyedVectors.load_word2vec_format(word2vec_file_path_cnn, binary=False)\n",
    "word_vectors_rnn = Word2VecKeyedVectors.load_word2vec_format(word2vec_file_path_cnn, binary=False)\n",
    "word_vectors_gmp = Word2VecKeyedVectors.load_word2vec_format(word2vec_file_path_cnn, binary=False)\n"
   ]
  }
 ],
 "metadata": {
  "kernelspec": {
   "display_name": "Python 3",
   "language": "python",
   "name": "python3"
  },
  "language_info": {
   "codemirror_mode": {
    "name": "ipython",
    "version": 3
   },
   "file_extension": ".py",
   "mimetype": "text/x-python",
   "name": "python",
   "nbconvert_exporter": "python",
   "pygments_lexer": "ipython3",
   "version": "3.7.9"
  }
 },
 "nbformat": 4,
 "nbformat_minor": 5
}
