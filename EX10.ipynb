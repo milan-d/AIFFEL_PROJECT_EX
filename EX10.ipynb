{
 "cells": [
  {
   "cell_type": "markdown",
   "id": "thousand-statement",
   "metadata": {},
   "source": [
    "# 1. 데이터 준비하기\n",
    "\n",
    "`$ mkdir -p ~/aiffel/news_summarization/data`\n",
    "`$ ln -s ~/data/*.csv ~/aiffel/news_summarization/data`\n",
    "\n",
    "- 아마존 리뷰 데이터셋\n",
    "- NLTK의 불용어(stopwords) \n",
    "  - NLTK : Natural Language Toolkit의 축약어\n",
    "  - 영어 기호, 통계, 자연어 처리를 위한 라이브러리\n",
    "  - 문장에는 자주 등장\n",
    "  - 의미를 분석하고 요약하는 데는 거의 의미가 없는 100여개의 불용어가 미리 정리되어 있음\n",
    "  - 이를 이용해 다운로드한 리뷰 파일에서 불용어를 제거하는 작업을 진행"
   ]
  },
  {
   "cell_type": "code",
   "execution_count": 1,
   "id": "british-chinese",
   "metadata": {},
   "outputs": [
    {
     "name": "stderr",
     "output_type": "stream",
     "text": [
      "[nltk_data] Downloading package stopwords to /aiffel/nltk_data...\n",
      "[nltk_data]   Unzipping corpora/stopwords.zip.\n"
     ]
    },
    {
     "name": "stdout",
     "output_type": "stream",
     "text": [
      "=3\n"
     ]
    }
   ],
   "source": [
    "import nltk\n",
    "nltk.download('stopwords') \n",
    "# NLTK 패키지에서 불용어 사전을 다운로드\n",
    "\n",
    "import numpy as np\n",
    "import pandas as pd\n",
    "import os\n",
    "import re\n",
    "import matplotlib.pyplot as plt\n",
    "from nltk.corpus import stopwords\n",
    "from bs4 import BeautifulSoup \n",
    "from tensorflow.keras.preprocessing.text import Tokenizer \n",
    "from tensorflow.keras.preprocessing.sequence import pad_sequences\n",
    "import urllib.request\n",
    "\n",
    "print('=3')"
   ]
  },
  {
   "cell_type": "code",
   "execution_count": 2,
   "id": "distinguished-jewel",
   "metadata": {},
   "outputs": [
    {
     "name": "stdout",
     "output_type": "stream",
     "text": [
      "전체 샘플수 : 98401\n"
     ]
    },
    {
     "data": {
      "text/html": [
       "<div>\n",
       "<style scoped>\n",
       "    .dataframe tbody tr th:only-of-type {\n",
       "        vertical-align: middle;\n",
       "    }\n",
       "\n",
       "    .dataframe tbody tr th {\n",
       "        vertical-align: top;\n",
       "    }\n",
       "\n",
       "    .dataframe thead th {\n",
       "        text-align: right;\n",
       "    }\n",
       "</style>\n",
       "<table border=\"1\" class=\"dataframe\">\n",
       "  <thead>\n",
       "    <tr style=\"text-align: right;\">\n",
       "      <th></th>\n",
       "      <th>headlines</th>\n",
       "      <th>text</th>\n",
       "    </tr>\n",
       "  </thead>\n",
       "  <tbody>\n",
       "    <tr>\n",
       "      <th>0</th>\n",
       "      <td>upGrad learner switches to career in ML &amp; Al w...</td>\n",
       "      <td>Saurav Kant, an alumnus of upGrad and IIIT-B's...</td>\n",
       "    </tr>\n",
       "    <tr>\n",
       "      <th>1</th>\n",
       "      <td>Delhi techie wins free food from Swiggy for on...</td>\n",
       "      <td>Kunal Shah's credit card bill payment platform...</td>\n",
       "    </tr>\n",
       "    <tr>\n",
       "      <th>2</th>\n",
       "      <td>New Zealand end Rohit Sharma-led India's 12-ma...</td>\n",
       "      <td>New Zealand defeated India by 8 wickets in the...</td>\n",
       "    </tr>\n",
       "    <tr>\n",
       "      <th>3</th>\n",
       "      <td>Aegon life iTerm insurance plan helps customer...</td>\n",
       "      <td>With Aegon Life iTerm Insurance plan, customer...</td>\n",
       "    </tr>\n",
       "    <tr>\n",
       "      <th>4</th>\n",
       "      <td>Have known Hirani for yrs, what if MeToo claim...</td>\n",
       "      <td>Speaking about the sexual harassment allegatio...</td>\n",
       "    </tr>\n",
       "  </tbody>\n",
       "</table>\n",
       "</div>"
      ],
      "text/plain": [
       "                                           headlines  \\\n",
       "0  upGrad learner switches to career in ML & Al w...   \n",
       "1  Delhi techie wins free food from Swiggy for on...   \n",
       "2  New Zealand end Rohit Sharma-led India's 12-ma...   \n",
       "3  Aegon life iTerm insurance plan helps customer...   \n",
       "4  Have known Hirani for yrs, what if MeToo claim...   \n",
       "\n",
       "                                                text  \n",
       "0  Saurav Kant, an alumnus of upGrad and IIIT-B's...  \n",
       "1  Kunal Shah's credit card bill payment platform...  \n",
       "2  New Zealand defeated India by 8 wickets in the...  \n",
       "3  With Aegon Life iTerm Insurance plan, customer...  \n",
       "4  Speaking about the sexual harassment allegatio...  "
      ]
     },
     "execution_count": 2,
     "metadata": {},
     "output_type": "execute_result"
    }
   ],
   "source": [
    "urllib.request.urlretrieve(\"https://raw.githubusercontent.com/sunnysai12345/News_Summary/master/news_summary_more.csv\", filename=\"news_summary_more.csv\")\n",
    "data = pd.read_csv('news_summary_more.csv', encoding='iso-8859-1')\n",
    "print('전체 샘플수 :', (len(data)))\n",
    "data.head()"
   ]
  },
  {
   "cell_type": "code",
   "execution_count": 3,
   "id": "advisory-buddy",
   "metadata": {},
   "outputs": [
    {
     "data": {
      "text/html": [
       "<div>\n",
       "<style scoped>\n",
       "    .dataframe tbody tr th:only-of-type {\n",
       "        vertical-align: middle;\n",
       "    }\n",
       "\n",
       "    .dataframe tbody tr th {\n",
       "        vertical-align: top;\n",
       "    }\n",
       "\n",
       "    .dataframe thead th {\n",
       "        text-align: right;\n",
       "    }\n",
       "</style>\n",
       "<table border=\"1\" class=\"dataframe\">\n",
       "  <thead>\n",
       "    <tr style=\"text-align: right;\">\n",
       "      <th></th>\n",
       "      <th>headlines</th>\n",
       "      <th>text</th>\n",
       "    </tr>\n",
       "  </thead>\n",
       "  <tbody>\n",
       "    <tr>\n",
       "      <th>21293</th>\n",
       "      <td>Rare, unseen pictures of late PM Atal Bihari V...</td>\n",
       "      <td>A photo gallery shows rare and unseen pictures...</td>\n",
       "    </tr>\n",
       "    <tr>\n",
       "      <th>4961</th>\n",
       "      <td>Trump names Patrick Shanahan as acting Defence...</td>\n",
       "      <td>US President Donald Trump has announced that D...</td>\n",
       "    </tr>\n",
       "    <tr>\n",
       "      <th>17924</th>\n",
       "      <td>Lala Amarnath only player in history to dismis...</td>\n",
       "      <td>Independent India's first Test captain Lala Am...</td>\n",
       "    </tr>\n",
       "    <tr>\n",
       "      <th>63227</th>\n",
       "      <td>Miss my legs only when I can't stand for anthe...</td>\n",
       "      <td>Indian Paralympian Deepa Malik, who won a silv...</td>\n",
       "    </tr>\n",
       "    <tr>\n",
       "      <th>47294</th>\n",
       "      <td>NZ player hits T20I fifty in less than 20 ball...</td>\n",
       "      <td>New Zealand batsman Colin Munro has become the...</td>\n",
       "    </tr>\n",
       "    <tr>\n",
       "      <th>37859</th>\n",
       "      <td>S Korea coach made players swap shirts to conf...</td>\n",
       "      <td>South Korean football team coach Shin Tae-yong...</td>\n",
       "    </tr>\n",
       "    <tr>\n",
       "      <th>21890</th>\n",
       "      <td>How will NASA's solar probe 'touch' the Sun wi...</td>\n",
       "      <td>Launched on Sunday, NASA's Parker Solar Probe ...</td>\n",
       "    </tr>\n",
       "    <tr>\n",
       "      <th>35771</th>\n",
       "      <td>NASA offers 4K resolution tour of the Moon</td>\n",
       "      <td>NASA has created a 4K resolution video tour of...</td>\n",
       "    </tr>\n",
       "    <tr>\n",
       "      <th>46793</th>\n",
       "      <td>Kamal Haasan launches political party in Madurai</td>\n",
       "      <td>Actor Kamal Haasan on Wednesday launched his p...</td>\n",
       "    </tr>\n",
       "    <tr>\n",
       "      <th>22731</th>\n",
       "      <td>I don't believe in women-oriented films: Kajol</td>\n",
       "      <td>Actress Kajol has said that she believes in go...</td>\n",
       "    </tr>\n",
       "    <tr>\n",
       "      <th>63490</th>\n",
       "      <td>Gandhi's kin moves SC opposing reopening of hi...</td>\n",
       "      <td>Mahatma Gandhi's great-grandson Tushar Gandhi ...</td>\n",
       "    </tr>\n",
       "    <tr>\n",
       "      <th>1489</th>\n",
       "      <td>PM Modi is publicity PM, we want a performing ...</td>\n",
       "      <td>Speaking at the opposition rally in Kolkata, A...</td>\n",
       "    </tr>\n",
       "    <tr>\n",
       "      <th>83817</th>\n",
       "      <td>Scientists uncover origin of Sun's grass-like ...</td>\n",
       "      <td>A NASA-funded study has uncovered the origins ...</td>\n",
       "    </tr>\n",
       "    <tr>\n",
       "      <th>66338</th>\n",
       "      <td>Trump's ex calls self 'first lady', Melania's ...</td>\n",
       "      <td>While promoting her book 'Raising Trump', Ivan...</td>\n",
       "    </tr>\n",
       "    <tr>\n",
       "      <th>13345</th>\n",
       "      <td>Akhilesh Yadav slams UP govt over move to rena...</td>\n",
       "      <td>After the Uttar Pradesh Cabinet approved the p...</td>\n",
       "    </tr>\n",
       "  </tbody>\n",
       "</table>\n",
       "</div>"
      ],
      "text/plain": [
       "                                               headlines  \\\n",
       "21293  Rare, unseen pictures of late PM Atal Bihari V...   \n",
       "4961   Trump names Patrick Shanahan as acting Defence...   \n",
       "17924  Lala Amarnath only player in history to dismis...   \n",
       "63227  Miss my legs only when I can't stand for anthe...   \n",
       "47294  NZ player hits T20I fifty in less than 20 ball...   \n",
       "37859  S Korea coach made players swap shirts to conf...   \n",
       "21890  How will NASA's solar probe 'touch' the Sun wi...   \n",
       "35771         NASA offers 4K resolution tour of the Moon   \n",
       "46793   Kamal Haasan launches political party in Madurai   \n",
       "22731     I don't believe in women-oriented films: Kajol   \n",
       "63490  Gandhi's kin moves SC opposing reopening of hi...   \n",
       "1489   PM Modi is publicity PM, we want a performing ...   \n",
       "83817  Scientists uncover origin of Sun's grass-like ...   \n",
       "66338  Trump's ex calls self 'first lady', Melania's ...   \n",
       "13345  Akhilesh Yadav slams UP govt over move to rena...   \n",
       "\n",
       "                                                    text  \n",
       "21293  A photo gallery shows rare and unseen pictures...  \n",
       "4961   US President Donald Trump has announced that D...  \n",
       "17924  Independent India's first Test captain Lala Am...  \n",
       "63227  Indian Paralympian Deepa Malik, who won a silv...  \n",
       "47294  New Zealand batsman Colin Munro has become the...  \n",
       "37859  South Korean football team coach Shin Tae-yong...  \n",
       "21890  Launched on Sunday, NASA's Parker Solar Probe ...  \n",
       "35771  NASA has created a 4K resolution video tour of...  \n",
       "46793  Actor Kamal Haasan on Wednesday launched his p...  \n",
       "22731  Actress Kajol has said that she believes in go...  \n",
       "63490  Mahatma Gandhi's great-grandson Tushar Gandhi ...  \n",
       "1489   Speaking at the opposition rally in Kolkata, A...  \n",
       "83817  A NASA-funded study has uncovered the origins ...  \n",
       "66338  While promoting her book 'Raising Trump', Ivan...  \n",
       "13345  After the Uttar Pradesh Cabinet approved the p...  "
      ]
     },
     "execution_count": 3,
     "metadata": {},
     "output_type": "execute_result"
    }
   ],
   "source": [
    "# 추상적 요약을 하는 경우에는 text를 본문,\n",
    "# headlines를 이미 요약된 데이터(실습에서는 Summary)로 삼아서 모델을 학습할 수 있어요. \n",
    "#랜덤한 15개 샘플 출력\n",
    "data.sample(15)"
   ]
  },
  {
   "cell_type": "markdown",
   "id": "bearing-influence",
   "metadata": {},
   "source": [
    "# 2. 데이터 전처리\n",
    "\n",
    "## (1) 데이터 정리하기\n",
    "\n",
    "(1-1) 빈칸으로 존재하는 null 데이터, 중복샘플(의미는 같지만 다른 식으로 작성된 글) 제거\n",
    "- .nunique() :  데이터에 고유값들의 수를 출력해주는 함수, 데이터의 고유값의 총 수를 알고 싶을때 유용한 함수\n",
    "  - .unique() : 데이터에 고유값들이 어떠한 종류들이 있는지 알고 싶을때 사용하는 함수, **데이터의 종류들을 알고 싶을때 사용**\n",
    "\n",
    "- drop_duplicates() : 중복 샘플을 제거\n",
    "  - inplace=True 를 설정하면 DataFrame 타입 값을 return 하지 않고 data 가 수정된 채로 저장\n",
    "  \n",
    "(1-2) 중복된 Null값은 삭제되나 한개의 Null은 있을수 있으니 Null값이 있는 확인하기\n",
    "- .isnull().sum() : Null 값 확인\n",
    "- .dropna() : 데이터프레임에서 Null을 제거"
   ]
  },
  {
   "cell_type": "code",
   "execution_count": 4,
   "id": "senior-detroit",
   "metadata": {},
   "outputs": [
    {
     "name": "stdout",
     "output_type": "stream",
     "text": [
      "text 열에서 중복을 배제한 유일한 샘플의 수 : 98360\n",
      "headlines 열에서 중복을 배제한 유일한 샘플의 수 : 98280\n"
     ]
    }
   ],
   "source": [
    "# 1 데이터의 중복 값 확인\n",
    "print('text 열에서 중복을 배제한 유일한 샘플의 수 :', data['text'].nunique())\n",
    "print('headlines 열에서 중복을 배제한 유일한 샘플의 수 :', data['headlines'].nunique())"
   ]
  },
  {
   "cell_type": "code",
   "execution_count": 5,
   "id": "serial-activation",
   "metadata": {},
   "outputs": [
    {
     "name": "stdout",
     "output_type": "stream",
     "text": [
      "전체 샘플수 : 98360\n"
     ]
    }
   ],
   "source": [
    "# 2 중복값 제거\n",
    "# inplace=True 를 설정하면 DataFrame 타입 값을 return 하지 않고 data 내부를 직접적으로 바꿉니다\n",
    "data.drop_duplicates(subset = ['text'], inplace=True)\n",
    "print('전체 샘플수 :', (len(data)))\n"
   ]
  },
  {
   "cell_type": "code",
   "execution_count": 6,
   "id": "internal-forum",
   "metadata": {},
   "outputs": [
    {
     "name": "stdout",
     "output_type": "stream",
     "text": [
      "headlines    0\n",
      "text         0\n",
      "dtype: int64\n"
     ]
    }
   ],
   "source": [
    "# 3 Null값 확인\n",
    "print(data.isnull().sum())"
   ]
  },
  {
   "cell_type": "markdown",
   "id": "increased-bubble",
   "metadata": {},
   "source": [
    "- 중복값은 없는 것으로 확인됨"
   ]
  },
  {
   "cell_type": "markdown",
   "id": "decreased-agent",
   "metadata": {},
   "source": [
    "## (2) 텍스트 정규화와 불용어 제거\n",
    "\n",
    "- 텍스트 정규화(text normalization)\n",
    "  - 같은 의미인데도 다른 표현으로 쓰여 마치 다른 단어들처럼 간주되는 경우(it'll = it will, mustn't= must not)\n",
    "  - 미리 같은 표현으로 통일시키기\n",
    "  - 기계연산량 줄이기\n",
    "  -  텍스트 정규화를 위한 사전(dictionary)구성(https://stackoverflow.com/questions/19790188/expanding-english-language-contractions-in-python)\n",
    "  \n",
    "- 불용어(stopwords)\n",
    "  - 텍스트에는 자주 등장하지만 자연어 처리를 할 때 실질적으로 별 도움이 되지 않는 단어\n",
    "  - 불용어제거는 자연어 처리의 성능을 높이는 방법\n",
    "  \n",
    "- 영어 문자는 소문자\n",
    "- 섞여있는 html 태그를 제거\n",
    "- 정규 표현식을 통해 각종 특수문자를 제거\n",
    "- NLTK를 이용해 불용어를 제거하는 파트가 있는데, 이는 Text 전처리 시에서만 호출하고 이미 상대적으로 문장 길이가 짧은 Summary 전처리할 때는 호출하지 않을 예정\n",
    "-  Abstractive한 문장 요약 결과문이 자연스러운 문장이 되려면 이 불용어들이 Summary에는 남아 있는 게 더 좋음\n",
    "- 함수의 인자로 remove_stopwords를 추가하고, if문을 추가\n",
    "- 예문 써서 전처리 함수 작동잘되는것 확인후 \n",
    "- 훈련 데이터 전체에 대해서 전처리를 수행\n",
    "  - Text의 경우에는 불용어를 제거하고, Summary의 경우에는 불용어를 제거하지 않을 것이므로 \n",
    "  - 따로 호출해서 진행"
   ]
  },
  {
   "cell_type": "code",
   "execution_count": 7,
   "id": "derived-wealth",
   "metadata": {},
   "outputs": [
    {
     "name": "stdout",
     "output_type": "stream",
     "text": [
      "정규화 사전의 수:  120\n"
     ]
    }
   ],
   "source": [
    "# 텍스트정규화\n",
    "contractions = {\"ain't\": \"is not\", \"aren't\": \"are not\",\"can't\": \"cannot\", \"'cause\": \"because\", \"could've\": \"could have\", \"couldn't\": \"could not\",\n",
    "                           \"didn't\": \"did not\",  \"doesn't\": \"does not\", \"don't\": \"do not\", \"hadn't\": \"had not\", \"hasn't\": \"has not\", \"haven't\": \"have not\",\n",
    "                           \"he'd\": \"he would\",\"he'll\": \"he will\", \"he's\": \"he is\", \"how'd\": \"how did\", \"how'd'y\": \"how do you\", \"how'll\": \"how will\", \"how's\": \"how is\",\n",
    "                           \"I'd\": \"I would\", \"I'd've\": \"I would have\", \"I'll\": \"I will\", \"I'll've\": \"I will have\",\"I'm\": \"I am\", \"I've\": \"I have\", \"i'd\": \"i would\",\n",
    "                           \"i'd've\": \"i would have\", \"i'll\": \"i will\",  \"i'll've\": \"i will have\",\"i'm\": \"i am\", \"i've\": \"i have\", \"isn't\": \"is not\", \"it'd\": \"it would\",\n",
    "                           \"it'd've\": \"it would have\", \"it'll\": \"it will\", \"it'll've\": \"it will have\",\"it's\": \"it is\", \"let's\": \"let us\", \"ma'am\": \"madam\",\n",
    "                           \"mayn't\": \"may not\", \"might've\": \"might have\",\"mightn't\": \"might not\",\"mightn't've\": \"might not have\", \"must've\": \"must have\",\n",
    "                           \"mustn't\": \"must not\", \"mustn't've\": \"must not have\", \"needn't\": \"need not\", \"needn't've\": \"need not have\",\"o'clock\": \"of the clock\",\n",
    "                           \"oughtn't\": \"ought not\", \"oughtn't've\": \"ought not have\", \"shan't\": \"shall not\", \"sha'n't\": \"shall not\", \"shan't've\": \"shall not have\",\n",
    "                           \"she'd\": \"she would\", \"she'd've\": \"she would have\", \"she'll\": \"she will\", \"she'll've\": \"she will have\", \"she's\": \"she is\",\n",
    "                           \"should've\": \"should have\", \"shouldn't\": \"should not\", \"shouldn't've\": \"should not have\", \"so've\": \"so have\",\"so's\": \"so as\",\n",
    "                           \"this's\": \"this is\",\"that'd\": \"that would\", \"that'd've\": \"that would have\", \"that's\": \"that is\", \"there'd\": \"there would\",\n",
    "                           \"there'd've\": \"there would have\", \"there's\": \"there is\", \"here's\": \"here is\",\"they'd\": \"they would\", \"they'd've\": \"they would have\",\n",
    "                           \"they'll\": \"they will\", \"they'll've\": \"they will have\", \"they're\": \"they are\", \"they've\": \"they have\", \"to've\": \"to have\",\n",
    "                           \"wasn't\": \"was not\", \"we'd\": \"we would\", \"we'd've\": \"we would have\", \"we'll\": \"we will\", \"we'll've\": \"we will have\", \"we're\": \"we are\",\n",
    "                           \"we've\": \"we have\", \"weren't\": \"were not\", \"what'll\": \"what will\", \"what'll've\": \"what will have\", \"what're\": \"what are\",\n",
    "                           \"what's\": \"what is\", \"what've\": \"what have\", \"when's\": \"when is\", \"when've\": \"when have\", \"where'd\": \"where did\", \"where's\": \"where is\",\n",
    "                           \"where've\": \"where have\", \"who'll\": \"who will\", \"who'll've\": \"who will have\", \"who's\": \"who is\", \"who've\": \"who have\",\n",
    "                           \"why's\": \"why is\", \"why've\": \"why have\", \"will've\": \"will have\", \"won't\": \"will not\", \"won't've\": \"will not have\",\n",
    "                           \"would've\": \"would have\", \"wouldn't\": \"would not\", \"wouldn't've\": \"would not have\", \"y'all\": \"you all\",\n",
    "                           \"y'all'd\": \"you all would\",\"y'all'd've\": \"you all would have\",\"y'all're\": \"you all are\",\"y'all've\": \"you all have\",\n",
    "                           \"you'd\": \"you would\", \"you'd've\": \"you would have\", \"you'll\": \"you will\", \"you'll've\": \"you will have\",\n",
    "                           \"you're\": \"you are\", \"you've\": \"you have\"}\n",
    "\n",
    "print(\"정규화 사전의 수: \", len(contractions))"
   ]
  },
  {
   "cell_type": "code",
   "execution_count": 8,
   "id": "southwest-electric",
   "metadata": {},
   "outputs": [
    {
     "name": "stdout",
     "output_type": "stream",
     "text": [
      "불용어 개수 : 179\n",
      "['i', 'me', 'my', 'myself', 'we', 'our', 'ours', 'ourselves', 'you', \"you're\", \"you've\", \"you'll\", \"you'd\", 'your', 'yours', 'yourself', 'yourselves', 'he', 'him', 'his', 'himself', 'she', \"she's\", 'her', 'hers', 'herself', 'it', \"it's\", 'its', 'itself', 'they', 'them', 'their', 'theirs', 'themselves', 'what', 'which', 'who', 'whom', 'this', 'that', \"that'll\", 'these', 'those', 'am', 'is', 'are', 'was', 'were', 'be', 'been', 'being', 'have', 'has', 'had', 'having', 'do', 'does', 'did', 'doing', 'a', 'an', 'the', 'and', 'but', 'if', 'or', 'because', 'as', 'until', 'while', 'of', 'at', 'by', 'for', 'with', 'about', 'against', 'between', 'into', 'through', 'during', 'before', 'after', 'above', 'below', 'to', 'from', 'up', 'down', 'in', 'out', 'on', 'off', 'over', 'under', 'again', 'further', 'then', 'once', 'here', 'there', 'when', 'where', 'why', 'how', 'all', 'any', 'both', 'each', 'few', 'more', 'most', 'other', 'some', 'such', 'no', 'nor', 'not', 'only', 'own', 'same', 'so', 'than', 'too', 'very', 's', 't', 'can', 'will', 'just', 'don', \"don't\", 'should', \"should've\", 'now', 'd', 'll', 'm', 'o', 're', 've', 'y', 'ain', 'aren', \"aren't\", 'couldn', \"couldn't\", 'didn', \"didn't\", 'doesn', \"doesn't\", 'hadn', \"hadn't\", 'hasn', \"hasn't\", 'haven', \"haven't\", 'isn', \"isn't\", 'ma', 'mightn', \"mightn't\", 'mustn', \"mustn't\", 'needn', \"needn't\", 'shan', \"shan't\", 'shouldn', \"shouldn't\", 'wasn', \"wasn't\", 'weren', \"weren't\", 'won', \"won't\", 'wouldn', \"wouldn't\"]\n"
     ]
    }
   ],
   "source": [
    "# 불용어제거\n",
    "print('불용어 개수 :', len(stopwords.words('english') ))\n",
    "print(stopwords.words('english'))"
   ]
  },
  {
   "cell_type": "code",
   "execution_count": 9,
   "id": "plain-coverage",
   "metadata": {},
   "outputs": [],
   "source": [
    "# 데이터 전처리 함수\n",
    "def preprocess_sentence(sentence, remove_stopwords=True):\n",
    "    sentence = sentence.lower() # 텍스트 소문자화\n",
    "    sentence = BeautifulSoup(sentence, \"lxml\").text # <br />, <a href = ...> 등의 html 태그 제거\n",
    "    sentence = re.sub(r'\\([^)]*\\)', '', sentence) # 괄호로 닫힌 문자열 (...) 제거 Ex) my husband (and myself!) for => my husband for\n",
    "    sentence = re.sub('\"','', sentence) # 쌍따옴표 \" 제거\n",
    "    sentence = ' '.join([contractions[t] if t in contractions else t for t in sentence.split(\" \")]) # 약어 정규화\n",
    "    sentence = re.sub(r\"'s\\b\",\"\", sentence) # 소유격 제거. Ex) roland's -> roland\n",
    "    sentence = re.sub(\"[^a-zA-Z]\", \" \", sentence) # 영어 외 문자(숫자, 특수문자 등) 공백으로 변환\n",
    "    sentence = re.sub('[m]{2,}', 'mm', sentence) # m이 3개 이상이면 2개로 변경. Ex) ummmmmmm yeah -> umm yeah\n",
    "    \n",
    "    # 불용어 제거 (Text)\n",
    "    if remove_stopwords:\n",
    "        tokens = ' '.join(word for word in sentence.split() if not word in stopwords.words('english') if len(word) > 1)\n",
    "    # 불용어 미제거 (Summary)\n",
    "    else:\n",
    "        tokens = ' '.join(word for word in sentence.split() if len(word) > 1)\n",
    "    return tokens"
   ]
  },
  {
   "cell_type": "code",
   "execution_count": 10,
   "id": "defined-processing",
   "metadata": {},
   "outputs": [
    {
     "name": "stdout",
     "output_type": "stream",
     "text": [
      "everything bought great infact ordered twice third ordered wasfor mother father\n",
      "great way to start the day\n"
     ]
    }
   ],
   "source": [
    "# 전처리 전, 후의 결과를 확인\n",
    "# 임의의 text와 summary를 만들어 함수를 호출\n",
    "temp_text = 'Everything I bought was great, infact I ordered twice and the third ordered was<br />for my mother and father.'\n",
    "temp_summary = 'Great way to start (or finish) the day!!!'\n",
    "\n",
    "print(preprocess_sentence(temp_text))\n",
    "print(preprocess_sentence(temp_summary, False))  # 불용어를 제거하지 않습니다."
   ]
  },
  {
   "cell_type": "code",
   "execution_count": 11,
   "id": "toxic-spencer",
   "metadata": {},
   "outputs": [
    {
     "name": "stdout",
     "output_type": "stream",
     "text": [
      "183.83650064468384  seconds\n",
      "['saurav kant alumnus upgrad iiit pg program machine learning artificial intelligence sr systems engineer infosys almost years work experience program upgrad degree career support helped transition data scientist tech mahindra salary hike upgrad online power learning powered lakh careers'\n",
      " 'kunal shah credit card bill payment platform cred gave users chance win free food swiggy one year pranav kaushik delhi techie bagged reward spending cred coins users get one cred coin per rupee bill paid used avail rewards brands like ixigo bookmyshow ubereats cult fit'\n",
      " 'new zealand defeated india wickets fourth odi hamilton thursday win first match five match odi series india lost international match rohit sharma captaincy consecutive victories dating back march match witnessed india getting seventh lowest total odi cricket history'\n",
      " ...\n",
      " 'according reports new version science fiction film matrix development michael jordan reportedly play lead role film screenwriter zak penn talks write script film reports added actor keanu reeves starred original film followed two sequels'\n",
      " 'new music video shows rapper snoop dogg aiming toy gun clown character parodying us president donald trump video also shows tv airing news conference headline ronald klump wants deport doggs airing live clown house video remixed version song lavender'\n",
      " 'madhesi morcha alliance seven political parties withdrawn support pm pushpa kamal dahal led nepal government failed meet seven day ultimatum fulfil demands including endorsement revised constitution amendment bill morcha seats parliament despite withdrawal support immediate threat government']\n",
      "5.971511602401733  seconds\n",
      "['upgrad learner switches to career in ml al with salary hike'\n",
      " 'delhi techie wins free food from swiggy for one year on cred'\n",
      " 'new zealand end rohit sharma led india match winning streak' ...\n",
      " 'the matrix film to get reboot reports'\n",
      " 'snoop dogg aims gun at clown dressed as trump in new video'\n",
      " 'madhesi morcha withdraws support to nepalese government']\n"
     ]
    }
   ],
   "source": [
    "# 멀티프로세싱으로 데이터 전처리진행\n",
    "import multiprocessing as mp   # 멀티 프로세싱으로 전처리 속도를 획기적으로 줄여봅시다\n",
    "from multiprocessing import Pool\n",
    "import numpy as np\n",
    "import time\n",
    "from functools import partial  # map을 할 때 함수에 여러 인자를 넣어줄 수 있도록 합니다\n",
    "\n",
    "start = time.time()\n",
    "\n",
    "# num_cores 만큼 쪼개진 데이터를 전처리하여 반환합니다\n",
    "def appendTexts(sentences, remove_stopwords):\n",
    "  texts = []\n",
    "  for s in sentences:\n",
    "    texts += preprocess_sentence(s, remove_stopwords),\n",
    "  return texts\n",
    "\n",
    "def preprocess_data(data, remove_stopwords=True):\n",
    "  start_time = time.time()\n",
    "  num_cores = mp.cpu_count()  # 컴퓨터의 코어 수를 구합니다\n",
    "\n",
    "  text_data_split = np.array_split(data, num_cores)  # 코어 수만큼 데이터를 배분하여 병렬적으로 처리할 수 있게 합니다\n",
    "  pool = Pool(num_cores)\n",
    "\n",
    "  processed_data = np.concatenate(pool.map(partial(appendTexts, remove_stopwords=remove_stopwords), text_data_split))  # 각자 작업한 데이터를 하나로 합쳐줍니다\n",
    "  pool.close()\n",
    "  pool.join()\n",
    "  print(time.time() - start_time, \" seconds\")\n",
    "  return processed_data\n",
    "\n",
    "clean_text = preprocess_data(data['text'])  # 클라우드 기준으로 3~4분 정도 소요 됩니다\n",
    "print(clean_text)\n",
    "\n",
    "# headlines에 대해서 전처리 함수를 호출해 줄 때는, \n",
    "# 불용어 제거를 수행하지 않는다는 의미에서 \n",
    "# 두 번째 인자로 False를 넣음.\n",
    "clean_headlines = preprocess_data(data['headlines'], remove_stopwords=False) \n",
    "# 클라우드 기준 1분정도 소요됩니다.\n",
    "print(clean_headlines)"
   ]
  },
  {
   "cell_type": "markdown",
   "id": "proud-vinyl",
   "metadata": {},
   "source": [
    "- 텍스트 정제의 과정을 거친 후\n",
    "- 다시 한번 빈(empty) 샘플이 생겼는지 확인\n",
    "- 정제 전에는 데이터가 존재했지만, 정제 과정에서 문장의 모든 단어가 사라지는 경우 -> 샘플 자체가 빈 값을 가지게 됨"
   ]
  },
  {
   "cell_type": "code",
   "execution_count": 12,
   "id": "blond-dayton",
   "metadata": {},
   "outputs": [
    {
     "name": "stdout",
     "output_type": "stream",
     "text": [
      "전체 샘플수 : 98360\n"
     ]
    }
   ],
   "source": [
    "# 빈(empty) 샘플이 생겼는지 확인\n",
    "data['text'] = clean_text\n",
    "data['headlines'] = clean_headlines\n",
    "\n",
    "# 빈 값을 Null 값으로 변환\n",
    "data.replace('', np.nan, inplace=True)\n",
    "\n",
    "#Null값 확인\n",
    "data.isnull().sum()\n",
    "\n",
    "# 빈 샘플들은 모두 제거\n",
    "data.dropna(axis=0, inplace=True)\n",
    "print('전체 샘플수 :', (len(data)))"
   ]
  },
  {
   "cell_type": "markdown",
   "id": "manual-cause",
   "metadata": {},
   "source": [
    "## (3) 훈련데이터와 테스트데이터 나누기\n",
    "\n",
    "(3-1) 샘플의 최대 길이 정하기\n",
    "- text와 headlines의 최소, 최대, 평균 길이를 구하고 또한 길이 분포를 시각화"
   ]
  },
  {
   "cell_type": "code",
   "execution_count": 13,
   "id": "convenient-legislation",
   "metadata": {},
   "outputs": [
    {
     "name": "stdout",
     "output_type": "stream",
     "text": [
      "텍스트의 최소 길이 : 1\n",
      "텍스트의 최대 길이 : 60\n",
      "텍스트의 평균 길이 : 35.09968483123221\n",
      "headlines의 최소 길이 : 1\n",
      "headlines의 최대 길이 : 16\n",
      "headlines의 평균 길이 : 9.299532330215534\n"
     ]
    },
    {
     "data": {
      "image/png": "[encoded data removed]",
      "text/plain": [
       "<Figure size 432x288 with 2 Axes>"
      ]
     },
     "metadata": {
      "needs_background": "light"
     },
     "output_type": "display_data"
    },
    {
     "data": {
      "image/png": "[encoded data removed]",
      "text/plain": [
       "<Figure size 432x288 with 1 Axes>"
      ]
     },
     "metadata": {
      "needs_background": "light"
     },
     "output_type": "display_data"
    },
    {
     "data": {
      "image/png": "[encoded data removed]",
      "text/plain": [
       "<Figure size 432x288 with 1 Axes>"
      ]
     },
     "metadata": {
      "needs_background": "light"
     },
     "output_type": "display_data"
    }
   ],
   "source": [
    "# 길이 분포 출력\n",
    "import matplotlib.pyplot as plt\n",
    "\n",
    "text_len = [len(s.split()) for s in data['text']]\n",
    "headlines_len = [len(s.split()) for s in data['headlines']]\n",
    "\n",
    "print('텍스트의 최소 길이 : {}'.format(np.min(text_len)))\n",
    "print('텍스트의 최대 길이 : {}'.format(np.max(text_len)))\n",
    "print('텍스트의 평균 길이 : {}'.format(np.mean(text_len)))\n",
    "print('headlines의 최소 길이 : {}'.format(np.min(headlines_len)))\n",
    "print('headlines의 최대 길이 : {}'.format(np.max(headlines_len)))\n",
    "print('headlines의 평균 길이 : {}'.format(np.mean(headlines_len)))\n",
    "\n",
    "# 요약 길이분포\n",
    "plt.subplot(1,2,1)\n",
    "plt.boxplot(headlines_len)\n",
    "plt.title('headlines')\n",
    "\n",
    "# 실제 텍스트길이 분포\n",
    "plt.subplot(1,2,2)\n",
    "plt.boxplot(text_len)\n",
    "plt.title('text')\n",
    "plt.tight_layout()\n",
    "plt.show()\n",
    "\n",
    "# 요약본 샘플 길이별 갯수\n",
    "plt.title('headlines')\n",
    "plt.hist(headlines_len, bins = 40)\n",
    "plt.xlabel('length of samples')\n",
    "plt.ylabel('number of samples')\n",
    "plt.show()\n",
    "\n",
    "# 실제 텍스트 샘플 길이별 갯수\n",
    "plt.title('text')\n",
    "plt.hist(text_len, bins = 40)\n",
    "plt.xlabel('length of samples')\n",
    "plt.ylabel('number of samples')\n",
    "plt.show()"
   ]
  },
  {
   "cell_type": "markdown",
   "id": "average-great",
   "metadata": {},
   "source": [
    "- `요약본(headlines) 샘플 길이별 갯수`와 `실제 텍스트(text) 샘플 길이별 갯수시각화` 그래프를 통해 대체적으로 몰려있는 몇 이하의 길이를 확인할수있다.\n",
    "\n",
    "- headlines 는 8자~12자 사이, text는 45자"
   ]
  },
  {
   "cell_type": "code",
   "execution_count": 14,
   "id": "positive-boring",
   "metadata": {},
   "outputs": [],
   "source": [
    "# text의 최대 길이와 headlines의 적절한 최대 길이를 임의로 지정\n",
    "text_max_len = 45\n",
    "headlines_max_len = 13"
   ]
  },
  {
   "cell_type": "markdown",
   "id": "involved-jurisdiction",
   "metadata": {},
   "source": [
    "- 임의로 지정한 길이 선택시 \n",
    "- 얼마나 많은 샘플들을 자르지 않고 포함할 수 있는지 \n",
    "- 통계로 확인하는 편이 객관적으로 길이를 결정하는 데 도움이 됨\n",
    "- 훈련 데이터와 샘플의 길이를 입력\n",
    "- 데이터의 몇 %가 해당하는지 계산하는 함수를 만들어서 좀 더 정확하게 판단하기"
   ]
  },
  {
   "cell_type": "code",
   "execution_count": 15,
   "id": "greenhouse-nelson",
   "metadata": {},
   "outputs": [],
   "source": [
    "def below_threshold_len(max_len, nested_list):\n",
    "  cnt = 0\n",
    "  for s in nested_list:\n",
    "    if(len(s.split()) <= max_len):\n",
    "        cnt = cnt + 1\n",
    "  print('전체 샘플 중 길이가 %s 이하인 샘플의 비율: %s'%(max_len, (cnt / len(nested_list))))"
   ]
  },
  {
   "cell_type": "code",
   "execution_count": 16,
   "id": "pressing-description",
   "metadata": {},
   "outputs": [
    {
     "name": "stdout",
     "output_type": "stream",
     "text": [
      "전체 샘플 중 길이가 45 이하인 샘플의 비율: 0.9967771451809678\n",
      "전체 샘플 중 길이가 13 이하인 샘플의 비율: 0.9981699877999186\n"
     ]
    }
   ],
   "source": [
    "# 위에서 만든 함수를 text와 headlines에 적용 \n",
    "# 임의로 결정한 길이가 몇 % 샘플까지 포함하는지 확인\n",
    "\n",
    "below_threshold_len(text_max_len, data['text'])\n",
    "below_threshold_len(headlines_max_len, data['headlines'])"
   ]
  },
  {
   "cell_type": "markdown",
   "id": "proud-turner",
   "metadata": {},
   "source": [
    "- 임의이 길이 이하인 샘플의 비율에서 100을 빼면 그 나머지 샘플들의 내용이 망가진다는것\n",
    "- 정해진 길이에 맞춰 자르는 것이 아니라, 정해진 길이보다 길면 제외하는 방법으로 데이터 정제"
   ]
  },
  {
   "cell_type": "code",
   "execution_count": 17,
   "id": "equivalent-hopkins",
   "metadata": {},
   "outputs": [
    {
     "name": "stdout",
     "output_type": "stream",
     "text": [
      "전체 샘플수 : 97863\n"
     ]
    }
   ],
   "source": [
    "data = data[data['text'].apply(lambda x: len(x.split()) <= text_max_len)]\n",
    "data = data[data['headlines'].apply(lambda x: len(x.split()) <= headlines_max_len)]\n",
    "print('전체 샘플수 :', (len(data)))"
   ]
  },
  {
   "cell_type": "markdown",
   "id": "personalized-friendship",
   "metadata": {},
   "source": [
    "(3-2) 시작 토큰과 종료 토큰 추가하기\n",
    "- eq2seq 훈련을 위해서는 디코더의 입력과 레이블에 시작 토큰과 종료 토큰을 추가할 필요가 있어요. 이번 실습에서는 시작 토큰은 sostoken, 종료 토큰은 eostoken이라 임의로 명명하고 앞, 뒤로 추가할 거예요. 디코더의 입력에 해당하면서 시작 토큰이 맨 앞에 있는 문장의 이름을 decoder_input, 디코더의 출력 또는 레이블에 해당되면서 종료 토큰이 맨 뒤에 붙는 문장의 이름을 decoder_target이라고 이름을 정했어요. 두 개의 문장 모두 headlines 열로부터 만들 거예요."
   ]
  },
  {
   "cell_type": "code",
   "execution_count": 18,
   "id": "opponent-proof",
   "metadata": {
    "scrolled": true
   },
   "outputs": [
    {
     "data": {
      "text/html": [
       "<div>\n",
       "<style scoped>\n",
       "    .dataframe tbody tr th:only-of-type {\n",
       "        vertical-align: middle;\n",
       "    }\n",
       "\n",
       "    .dataframe tbody tr th {\n",
       "        vertical-align: top;\n",
       "    }\n",
       "\n",
       "    .dataframe thead th {\n",
       "        text-align: right;\n",
       "    }\n",
       "</style>\n",
       "<table border=\"1\" class=\"dataframe\">\n",
       "  <thead>\n",
       "    <tr style=\"text-align: right;\">\n",
       "      <th></th>\n",
       "      <th>headlines</th>\n",
       "      <th>text</th>\n",
       "      <th>decoder_input</th>\n",
       "      <th>decoder_target</th>\n",
       "    </tr>\n",
       "  </thead>\n",
       "  <tbody>\n",
       "    <tr>\n",
       "      <th>0</th>\n",
       "      <td>upgrad learner switches to career in ml al wit...</td>\n",
       "      <td>saurav kant alumnus upgrad iiit pg program mac...</td>\n",
       "      <td>sostoken upgrad learner switches to career in ...</td>\n",
       "      <td>upgrad learner switches to career in ml al wit...</td>\n",
       "    </tr>\n",
       "    <tr>\n",
       "      <th>1</th>\n",
       "      <td>delhi techie wins free food from swiggy for on...</td>\n",
       "      <td>kunal shah credit card bill payment platform c...</td>\n",
       "      <td>sostoken delhi techie wins free food from swig...</td>\n",
       "      <td>delhi techie wins free food from swiggy for on...</td>\n",
       "    </tr>\n",
       "    <tr>\n",
       "      <th>2</th>\n",
       "      <td>new zealand end rohit sharma led india match w...</td>\n",
       "      <td>new zealand defeated india wickets fourth odi ...</td>\n",
       "      <td>sostoken new zealand end rohit sharma led indi...</td>\n",
       "      <td>new zealand end rohit sharma led india match w...</td>\n",
       "    </tr>\n",
       "    <tr>\n",
       "      <th>3</th>\n",
       "      <td>aegon life iterm insurance plan helps customer...</td>\n",
       "      <td>aegon life iterm insurance plan customers enjo...</td>\n",
       "      <td>sostoken aegon life iterm insurance plan helps...</td>\n",
       "      <td>aegon life iterm insurance plan helps customer...</td>\n",
       "    </tr>\n",
       "    <tr>\n",
       "      <th>4</th>\n",
       "      <td>have known hirani for yrs what if metoo claims...</td>\n",
       "      <td>speaking sexual harassment allegations rajkuma...</td>\n",
       "      <td>sostoken have known hirani for yrs what if met...</td>\n",
       "      <td>have known hirani for yrs what if metoo claims...</td>\n",
       "    </tr>\n",
       "  </tbody>\n",
       "</table>\n",
       "</div>"
      ],
      "text/plain": [
       "                                           headlines  \\\n",
       "0  upgrad learner switches to career in ml al wit...   \n",
       "1  delhi techie wins free food from swiggy for on...   \n",
       "2  new zealand end rohit sharma led india match w...   \n",
       "3  aegon life iterm insurance plan helps customer...   \n",
       "4  have known hirani for yrs what if metoo claims...   \n",
       "\n",
       "                                                text  \\\n",
       "0  saurav kant alumnus upgrad iiit pg program mac...   \n",
       "1  kunal shah credit card bill payment platform c...   \n",
       "2  new zealand defeated india wickets fourth odi ...   \n",
       "3  aegon life iterm insurance plan customers enjo...   \n",
       "4  speaking sexual harassment allegations rajkuma...   \n",
       "\n",
       "                                       decoder_input  \\\n",
       "0  sostoken upgrad learner switches to career in ...   \n",
       "1  sostoken delhi techie wins free food from swig...   \n",
       "2  sostoken new zealand end rohit sharma led indi...   \n",
       "3  sostoken aegon life iterm insurance plan helps...   \n",
       "4  sostoken have known hirani for yrs what if met...   \n",
       "\n",
       "                                      decoder_target  \n",
       "0  upgrad learner switches to career in ml al wit...  \n",
       "1  delhi techie wins free food from swiggy for on...  \n",
       "2  new zealand end rohit sharma led india match w...  \n",
       "3  aegon life iterm insurance plan helps customer...  \n",
       "4  have known hirani for yrs what if metoo claims...  "
      ]
     },
     "execution_count": 18,
     "metadata": {},
     "output_type": "execute_result"
    }
   ],
   "source": [
    "# 요약 데이터에는 시작 토큰과 종료 토큰을 추가한다.\n",
    "data['decoder_input'] = data['headlines'].apply(lambda x : 'sostoken '+ x)\n",
    "data['decoder_target'] = data['headlines'].apply(lambda x : x + ' eostoken')\n",
    "data.head()"
   ]
  },
  {
   "cell_type": "code",
   "execution_count": 19,
   "id": "bottom-feeding",
   "metadata": {},
   "outputs": [],
   "source": [
    "# 인코더 입력, 디코더 입력 레이블 각각 Numpy 타입으로 저장\n",
    "encoder_input = np.array(data['text']) # 인코더의 입력\n",
    "decoder_input = np.array(data['decoder_input']) # 디코더의 입력\n",
    "decoder_target = np.array(data['decoder_target']) # 디코더의 레이블"
   ]
  },
  {
   "cell_type": "code",
   "execution_count": 20,
   "id": "featured-mobility",
   "metadata": {},
   "outputs": [
    {
     "name": "stdout",
     "output_type": "stream",
     "text": [
      "[92734 36771 21469 ... 22617 43393 11945]\n"
     ]
    }
   ],
   "source": [
    "# 훈련 데이터와 테스트 데이터를 분리\n",
    "# encoder_input과 크기와 형태가 같은 순서가 섞인 정수 시퀀스를 만들기\n",
    "indices = np.arange(encoder_input.shape[0])\n",
    "np.random.shuffle(indices)\n",
    "print(indices)"
   ]
  },
  {
   "cell_type": "code",
   "execution_count": 21,
   "id": "historical-signal",
   "metadata": {},
   "outputs": [],
   "source": [
    "# 이 정수 시퀀스를 이용해 다시 데이터의 샘플 순서를 정의하여 잘 섞인 샘플만들기\n",
    "encoder_input = encoder_input[indices]\n",
    "decoder_input = decoder_input[indices]\n",
    "decoder_target = decoder_target[indices]"
   ]
  },
  {
   "cell_type": "code",
   "execution_count": 22,
   "id": "beginning-hands",
   "metadata": {},
   "outputs": [
    {
     "name": "stdout",
     "output_type": "stream",
     "text": [
      "테스트 데이터의 수 : 19572\n"
     ]
    }
   ],
   "source": [
    "#8:2의 비율로 훈련 데이터와 테스트 데이터로 분리\n",
    "n_of_val = int(len(encoder_input)*0.2)\n",
    "print('테스트 데이터의 수 :', n_of_val)"
   ]
  },
  {
   "cell_type": "code",
   "execution_count": 23,
   "id": "documentary-plaza",
   "metadata": {},
   "outputs": [
    {
     "name": "stdout",
     "output_type": "stream",
     "text": [
      "훈련 데이터의 개수 : 78291\n",
      "훈련 레이블의 개수 : 78291\n",
      "테스트 데이터의 개수 : 19572\n",
      "테스트 레이블의 개수 : 19572\n"
     ]
    }
   ],
   "source": [
    "#테스트 데이터의 개수를 이용해 전체 데이터를 양분\n",
    "encoder_input_train = encoder_input[:-n_of_val]\n",
    "decoder_input_train = decoder_input[:-n_of_val]\n",
    "decoder_target_train = decoder_target[:-n_of_val]\n",
    "\n",
    "encoder_input_test = encoder_input[-n_of_val:]\n",
    "decoder_input_test = decoder_input[-n_of_val:]\n",
    "decoder_target_test = decoder_target[-n_of_val:]\n",
    "\n",
    "print('훈련 데이터의 개수 :', len(encoder_input_train))\n",
    "print('훈련 레이블의 개수 :', len(decoder_input_train))\n",
    "print('테스트 데이터의 개수 :', len(encoder_input_test))\n",
    "print('테스트 레이블의 개수 :', len(decoder_input_test))"
   ]
  },
  {
   "cell_type": "markdown",
   "id": "impaired-baking",
   "metadata": {},
   "source": [
    "## (4) 정수 인코딩\n",
    "(4-1)단어 집합(vocabulary) 만들기 및 정수 인코딩\n",
    "- 단어 집합(vocabulary) 을 만들기\n",
    "  - 기계가 텍스트를 숫자로 처리할 수 있도록 훈련 데이터와 테스트 데이터의 단어들을 모두 정수로 바꾸기\n",
    "  - 각 단어에 고유한 정수를 맵핑하는 작업\n",
    "  - 훈련 데이터에 대해서 단어 집합을 만들기\n",
    "  - 원문에 해당되는 encoder_input_train에 대해서 단어 집합을 만들기\n",
    "  - Keras의 토크나이저를 사용하여 입력된 훈련 데이터로부터 단어 집합을 만들기\n",
    "  "
   ]
  },
  {
   "cell_type": "code",
   "execution_count": 24,
   "id": "varying-arrow",
   "metadata": {},
   "outputs": [],
   "source": [
    "src_tokenizer = Tokenizer() # 토크나이저 정의\n",
    "src_tokenizer.fit_on_texts(encoder_input_train) \n",
    "# 입력된 데이터로부터 단어 집합 생성"
   ]
  },
  {
   "cell_type": "markdown",
   "id": "weekly-anderson",
   "metadata": {},
   "source": [
    "- 정수부여 완료\n",
    " - 현재 생성된 단어 집합은 src_tokenizer.word_index에 저장\n",
    " - 빈도수가 낮은 단어들은 훈련 데이터에서 제외하고 진행\n",
    " - 등장 빈도수가 7회 미만인 단어들이 이 데이터에서 얼만큼의 비중을 차지하는지 확인\n",
    " - 통계적인 정보확인 : `src_tokenizer.word_counts.items()`사용, 단어와 각 단어의 등장 빈도수가 저장되어있음"
   ]
  },
  {
   "cell_type": "code",
   "execution_count": 25,
   "id": "unexpected-italic",
   "metadata": {},
   "outputs": [
    {
     "name": "stdout",
     "output_type": "stream",
     "text": [
      "단어 집합(vocabulary)의 크기 : 69380\n",
      "등장 빈도가 6번 이하인 희귀 단어의 수: 47240\n",
      "단어 집합에서 희귀 단어를 제외시킬 경우의 단어 집합의 크기 22140\n",
      "단어 집합에서 희귀 단어의 비율: 68.08878639377343\n",
      "전체 등장 빈도에서 희귀 단어 등장 빈도 비율: 3.481836714768881\n"
     ]
    }
   ],
   "source": [
    "threshold = 7\n",
    "total_cnt = len(src_tokenizer.word_index) # 단어의 수\n",
    "rare_cnt = 0 # 등장 빈도수가 threshold보다 작은 단어의 개수를 카운트\n",
    "total_freq = 0 # 훈련 데이터의 전체 단어 빈도수 총 합\n",
    "rare_freq = 0 # 등장 빈도수가 threshold보다 작은 단어의 등장 빈도수의 총 합\n",
    "\n",
    "# 단어와 빈도수의 쌍(pair)을 key와 value로 받는다.\n",
    "for key, value in src_tokenizer.word_counts.items():\n",
    "    total_freq = total_freq + value\n",
    "\n",
    "    # 단어의 등장 빈도수가 threshold보다 작으면\n",
    "    if(value < threshold):\n",
    "        rare_cnt = rare_cnt + 1\n",
    "        rare_freq = rare_freq + value\n",
    "\n",
    "print('단어 집합(vocabulary)의 크기 :', total_cnt)\n",
    "print('등장 빈도가 %s번 이하인 희귀 단어의 수: %s'%(threshold - 1, rare_cnt))\n",
    "print('단어 집합에서 희귀 단어를 제외시킬 경우의 단어 집합의 크기 %s'%(total_cnt - rare_cnt))\n",
    "print(\"단어 집합에서 희귀 단어의 비율:\", (rare_cnt / total_cnt)*100)\n",
    "print(\"전체 등장 빈도에서 희귀 단어 등장 빈도 비율:\", (rare_freq / total_freq)*100)"
   ]
  },
  {
   "cell_type": "markdown",
   "id": "undefined-shooting",
   "metadata": {},
   "source": [
    "- 등장 빈도가 threshold 값인 7회 미만, 즉, 6회 이하인 단어들은 단어 집합에서 무려 68%를 차지\n",
    "- 실제로 훈련 데이터에서 등장 빈도로 차지하는 비중은 상대적으로 적은 수치인 3.5%\n",
    "- 등장 빈도가 6회 이하인 단어들은 정수 인코딩 과정에서 빼고,\n",
    "- 훈련 데이터에서 제거\n",
    "  - 위에서 이를 제외한 단어 집합의 크기를 2만2천여 개로 계산했는데, \n",
    "  - 이와 비슷한 값으로 어림잡아 단어 집합의 크기를 22,000으로 제한\n",
    "  - 토크나이저를 정의할 때 num_words의 값을 정해주면, 단어 집합의 크기를 제한함\n",
    "  \n",
    "- texts_to_sequences()는 생성된 단어 집합에 기반하여 입력으로 주어진 텍스트 데이터의 단어들을 모두 정수로 변환하는 정수 인코딩을 수행\n",
    "- 현재 단어 집합의 크기를 22,000으로 제한했으니까 이제 22,000이 넘는 숫자들은 정수 인코딩 후에는 데이터에 존재하지 않음"
   ]
  },
  {
   "cell_type": "code",
   "execution_count": 26,
   "id": "attended-decimal",
   "metadata": {},
   "outputs": [
    {
     "name": "stdout",
     "output_type": "stream",
     "text": [
      "[[6776, 12490, 9637, 193, 2112, 292, 9124, 278, 311, 1087, 19, 290, 709, 1875, 1469, 13748, 9637, 55, 152, 1969, 242, 5677, 12147, 16632, 41, 185, 75, 31, 23, 5430], [320, 4493, 175, 2861, 1518, 1340, 79, 20681, 20682, 1, 328, 818, 1518, 1396, 4, 345, 103, 841, 125, 1518, 12, 1340, 908, 1780, 386, 3046, 539], [206, 83, 52, 7766, 3410, 1428, 4744, 743, 584, 92, 2508, 144, 1504, 571, 358, 5471, 4218, 287, 497, 5859, 1429, 401, 139, 674, 52, 584, 1793, 2107, 7881, 3410, 330, 1]]\n"
     ]
    }
   ],
   "source": [
    "src_vocab = 22000\n",
    "src_tokenizer = Tokenizer(num_words=src_vocab) # 단어 집합의 크기를 22,000으로 제한\n",
    "src_tokenizer.fit_on_texts(encoder_input_train) # 단어 집합 재생성.\n",
    "\n",
    "# 텍스트 시퀀스를 정수 시퀀스로 변환\n",
    "encoder_input_train = src_tokenizer.texts_to_sequences(encoder_input_train) \n",
    "encoder_input_test = src_tokenizer.texts_to_sequences(encoder_input_test)\n",
    "\n",
    "# 잘 진행되었는지 샘플 출력 - 잘되면 텍스트데이터가 아닌 정수로 출력됨\n",
    "print(encoder_input_train[:3])"
   ]
  },
  {
   "cell_type": "code",
   "execution_count": 27,
   "id": "consecutive-serial",
   "metadata": {},
   "outputs": [],
   "source": [
    "# headlines 에도 동일한 작업 수행, 전체단어집합과 각 단어에 대한 빈도수계산\n",
    "tar_tokenizer = Tokenizer()\n",
    "tar_tokenizer.fit_on_texts(decoder_input_train)"
   ]
  },
  {
   "cell_type": "markdown",
   "id": "unlike-demographic",
   "metadata": {},
   "source": [
    "이제 단어 집합이 생성되는 동시에 각 단어에 고유한 정수가 부여되었어요. 이는 tar_tokenizer.word_index에 저장되어 있어요. tar_tokenizer.word_counts.items()에는 단어와 각 단어의 등장 빈도수가 저장돼 있는데, 이를 통해서 통계적인 정보를 얻어서, 등장 빈도수가 6회 미만인 단어들이 이 데이터에서 얼만큼의 비중을 차지하는지 확인해볼게요."
   ]
  },
  {
   "cell_type": "code",
   "execution_count": 28,
   "id": "personalized-wisdom",
   "metadata": {},
   "outputs": [
    {
     "name": "stdout",
     "output_type": "stream",
     "text": [
      "단어 집합(vocabulary)의 크기 : 29987\n",
      "등장 빈도가 5번 이하인 희귀 단어의 수: 19655\n",
      "단어 집합에서 희귀 단어를 제외시킬 경우의 단어 집합의 크기 10332\n",
      "단어 집합에서 희귀 단어의 비율: 65.54506953012972\n",
      "전체 등장 빈도에서 희귀 단어 등장 빈도 비율: 4.6900199266253235\n"
     ]
    }
   ],
   "source": [
    "threshold = 6\n",
    "total_cnt = len(tar_tokenizer.word_index) # 단어의 수\n",
    "rare_cnt = 0 # 등장 빈도수가 threshold보다 작은 단어의 개수를 카운트\n",
    "total_freq = 0 # 훈련 데이터의 전체 단어 빈도수 총 합\n",
    "rare_freq = 0 # 등장 빈도수가 threshold보다 작은 단어의 등장 빈도수의 총 합\n",
    "\n",
    "# 단어와 빈도수의 쌍(pair)을 key와 value로 받는다.\n",
    "for key, value in tar_tokenizer.word_counts.items():\n",
    "    total_freq = total_freq + value\n",
    "\n",
    "    # 단어의 등장 빈도수가 threshold보다 작으면\n",
    "    if(value < threshold):\n",
    "        rare_cnt = rare_cnt + 1\n",
    "        rare_freq = rare_freq + value\n",
    "\n",
    "print('단어 집합(vocabulary)의 크기 :', total_cnt)\n",
    "print('등장 빈도가 %s번 이하인 희귀 단어의 수: %s'%(threshold - 1, rare_cnt))\n",
    "print('단어 집합에서 희귀 단어를 제외시킬 경우의 단어 집합의 크기 %s'%(total_cnt - rare_cnt))\n",
    "print(\"단어 집합에서 희귀 단어의 비율:\", (rare_cnt / total_cnt)*100)\n",
    "print(\"전체 등장 빈도에서 희귀 단어 등장 빈도 비율:\", (rare_freq / total_freq)*100)"
   ]
  },
  {
   "cell_type": "markdown",
   "id": "representative-battle",
   "metadata": {},
   "source": [
    "- 등장빈도가 5회 이하인 단어들은 단어집합에서 65% 차지하고 잇음\n",
    "- 실제로 훈련 데이터에서 등장 빈도로 차지하는 비중은 상대적으로 작은 수치 4.67%\n",
    "- 희귀단어 제외하여 10000개의 단어집합의 크기로 제한"
   ]
  },
  {
   "cell_type": "code",
   "execution_count": 29,
   "id": "coral-province",
   "metadata": {},
   "outputs": [
    {
     "name": "stdout",
     "output_type": "stream",
     "text": [
      "input\n",
      "input  [[1, 28, 357, 1087, 8140, 8766, 549], [1, 48, 80, 1212, 1181, 1161, 80, 1320, 3403, 78], [1, 533, 1902, 391, 15, 3561, 3784, 2437], [1, 128, 272, 175, 3, 1738, 2279, 4, 55], [1, 29, 483, 513, 13, 15, 1442, 1088, 5377, 4005]]\n",
      "target\n",
      "decoder  [[28, 357, 1087, 8140, 8766, 549, 2], [48, 80, 1212, 1181, 1161, 80, 1320, 3403, 78, 2], [533, 1902, 391, 15, 3561, 3784, 2437, 2], [128, 272, 175, 3, 1738, 2279, 4, 55, 2], [29, 483, 513, 13, 15, 1442, 1088, 5377, 4005, 2]]\n"
     ]
    }
   ],
   "source": [
    "tar_vocab = 10000\n",
    "tar_tokenizer = Tokenizer(num_words=tar_vocab) \n",
    "tar_tokenizer.fit_on_texts(decoder_input_train)\n",
    "tar_tokenizer.fit_on_texts(decoder_target_train)\n",
    "\n",
    "# 텍스트 시퀀스를 정수 시퀀스로 변환\n",
    "decoder_input_train = tar_tokenizer.texts_to_sequences(decoder_input_train) \n",
    "decoder_target_train = tar_tokenizer.texts_to_sequences(decoder_target_train)\n",
    "decoder_input_test = tar_tokenizer.texts_to_sequences(decoder_input_test)\n",
    "decoder_target_test = tar_tokenizer.texts_to_sequences(decoder_target_test)\n",
    "\n",
    "# 잘 변환되었는지 확인\n",
    "print('input')\n",
    "print('input ',decoder_input_train[:5])\n",
    "print('target')\n",
    "print('decoder ',decoder_target_train[:5])"
   ]
  },
  {
   "cell_type": "markdown",
   "id": "toxic-ethics",
   "metadata": {},
   "source": [
    "- 현재 decoder_input_train과 decoder_target_train에는 더 이상 숫자 10,000이 넘는 숫자들은 존재하지 않음\n",
    "- 패딩하기 하기 전 점검할것\n",
    "  - 빈도수가 낮은 단어가 삭제되었다는 것은 빈도수가 낮은 단어만으로 구성되었던 샘플들은 이제 빈(empty) 샘플이 되었을 가능성이 있음\n",
    "  - 길이가 상대적으로 길었던 원문(Text)의 경우에는 문제가 별로 없겠지만, 애초에 평균 길이가 13밖에 되지 않았던 요약문(headlines)의 경우에는 이 현상이 굉장히 두드러졌을 가능성이 높음\n",
    "  - 요약문에서 길이가 0이 된 샘플들의 인덱스를 받아보기\n",
    "  - 주의점\n",
    "    - 요약문인 decoder_input에는 sostoken 또는 decoder_target에는 eostoken이 추가된 상태이고, 이 두 토큰은 모든 샘플에서 등장하므로 빈도수가 샘플 수와 동일하게 매우 높으므로 단어 집합 제한에도 삭제되지 않아\n",
    "    - 길이가 0이 된 요약문의 실제 길이는 1로 나옴\n",
    "    - 길이 0이 된 decoder_input에는 sostoken, decoder_target에는 eostoken만 남아 있음  \n",
    "  - 훈련 데이터와 테스트 데이터에 대해서 요약문의 길이가 1인 경우의 인덱스를 각각 drop_train과 drop_test에 라는 변수에 저장 후 삭제할 예정  "
   ]
  },
  {
   "cell_type": "code",
   "execution_count": 30,
   "id": "junior-colonial",
   "metadata": {},
   "outputs": [
    {
     "name": "stdout",
     "output_type": "stream",
     "text": [
      "삭제할 훈련 데이터의 개수 : 0\n",
      "삭제할 테스트 데이터의 개수 : 0\n",
      "훈련 데이터의 개수 : 78291\n",
      "훈련 레이블의 개수 : 78291\n",
      "테스트 데이터의 개수 : 19572\n",
      "테스트 레이블의 개수 : 19572\n"
     ]
    },
    {
     "name": "stderr",
     "output_type": "stream",
     "text": [
      "/opt/conda/lib/python3.7/site-packages/numpy/core/_asarray.py:83: VisibleDeprecationWarning: Creating an ndarray from ragged nested sequences (which is a list-or-tuple of lists-or-tuples-or ndarrays with different lengths or shapes) is deprecated. If you meant to do this, you must specify 'dtype=object' when creating the ndarray\n",
      "  return array(a, dtype, copy=False, order=order)\n"
     ]
    }
   ],
   "source": [
    "drop_train = [index for index, sentence in enumerate(decoder_input_train) if len(sentence) == 1]\n",
    "drop_test = [index for index, sentence in enumerate(decoder_input_test) if len(sentence) == 1]\n",
    "\n",
    "print('삭제할 훈련 데이터의 개수 :', len(drop_train))\n",
    "print('삭제할 테스트 데이터의 개수 :', len(drop_test))\n",
    "\n",
    "encoder_input_train = np.delete(encoder_input_train, drop_train, axis=0)\n",
    "decoder_input_train = np.delete(decoder_input_train, drop_train, axis=0)\n",
    "decoder_target_train = np.delete(decoder_target_train, drop_train, axis=0)\n",
    "\n",
    "encoder_input_test = np.delete(encoder_input_test, drop_test, axis=0)\n",
    "decoder_input_test = np.delete(decoder_input_test, drop_test, axis=0)\n",
    "decoder_target_test = np.delete(decoder_target_test, drop_test, axis=0)\n",
    "\n",
    "print('훈련 데이터의 개수 :', len(encoder_input_train))\n",
    "print('훈련 레이블의 개수 :', len(decoder_input_train))\n",
    "print('테스트 데이터의 개수 :', len(encoder_input_test))\n",
    "print('테스트 레이블의 개수 :', len(decoder_input_test))"
   ]
  },
  {
   "cell_type": "markdown",
   "id": "marine-billy",
   "metadata": {},
   "source": [
    "(4-2)패딩하기 \n",
    "- 텍스트 시퀀스 정수 시퀀스로 변환 했다면 서로 다른 길이의 샘플들을 병렬처리 하기위해 같은 길이로 맞춰주는 패딩작업을 해주어야함\n",
    "- 아까 정해주었던 최대길이로 패딩함,\n",
    "- 최대 길이보다 짧은 데이터들은 앞의 공간에 숫자 0을 넣어 최대길이로 맞춰줌."
   ]
  },
  {
   "cell_type": "code",
   "execution_count": 31,
   "id": "promotional-cookbook",
   "metadata": {},
   "outputs": [],
   "source": [
    "encoder_input_train = pad_sequences(encoder_input_train, maxlen=text_max_len, padding='pre')\n",
    "encoder_input_test = pad_sequences(encoder_input_test, maxlen=text_max_len, padding='pre')\n",
    "decoder_input_train = pad_sequences(decoder_input_train, maxlen=headlines_max_len, padding='pre')\n",
    "decoder_target_train = pad_sequences(decoder_target_train, maxlen=headlines_max_len, padding='pre')\n",
    "decoder_input_test = pad_sequences(decoder_input_test, maxlen=headlines_max_len, padding='pre')\n",
    "decoder_target_test = pad_sequences(decoder_target_test, maxlen=headlines_max_len, padding='pre')"
   ]
  },
  {
   "cell_type": "markdown",
   "id": "digital-gamma",
   "metadata": {},
   "source": [
    "# 3. 모델 설계하기\n"
   ]
  },
  {
   "cell_type": "code",
   "execution_count": 32,
   "id": "phantom-morris",
   "metadata": {},
   "outputs": [
    {
     "name": "stdout",
     "output_type": "stream",
     "text": [
      "WARNING:tensorflow:Layer lstm will not use cuDNN kernel since it doesn't meet the cuDNN kernel criteria. It will use generic GPU kernel as fallback when running on GPU\n",
      "WARNING:tensorflow:Layer lstm_1 will not use cuDNN kernel since it doesn't meet the cuDNN kernel criteria. It will use generic GPU kernel as fallback when running on GPU\n",
      "WARNING:tensorflow:Layer lstm_2 will not use cuDNN kernel since it doesn't meet the cuDNN kernel criteria. It will use generic GPU kernel as fallback when running on GPU\n"
     ]
    }
   ],
   "source": [
    "# 모델설계\n",
    "\n",
    "from tensorflow.keras.layers import Input, LSTM, Embedding, Dense, Concatenate\n",
    "from tensorflow.keras.models import Model\n",
    "from tensorflow.keras.callbacks import EarlyStopping, ModelCheckpoint\n",
    "\n",
    "\n",
    "# 인코더 설계 시작\n",
    "embedding_dim = 128\n",
    "hidden_size = 256\n",
    "\n",
    "# 인코더\n",
    "encoder_inputs = Input(shape=(text_max_len,))\n",
    "\n",
    "# 인코더의 임베딩 층\n",
    "enc_emb = Embedding(src_vocab, embedding_dim)(encoder_inputs)\n",
    "\n",
    "# 인코더의 LSTM 1\n",
    "encoder_lstm1 = LSTM(hidden_size, return_sequences=True, return_state=True ,dropout = 0.4, recurrent_dropout = 0.4)\n",
    "encoder_output1, state_h1, state_c1 = encoder_lstm1(enc_emb)\n",
    "\n",
    "# 인코더의 LSTM 2\n",
    "encoder_lstm2 = LSTM(hidden_size, return_sequences=True, return_state=True, dropout=0.4, recurrent_dropout=0.4)\n",
    "encoder_output2, state_h2, state_c2 = encoder_lstm2(encoder_output1)\n",
    "\n",
    "# 인코더의 LSTM 3\n",
    "encoder_lstm3 = LSTM(hidden_size, return_state=True, return_sequences=True, dropout=0.4, recurrent_dropout=0.4)\n",
    "encoder_outputs, state_h, state_c= encoder_lstm3(encoder_output2)"
   ]
  },
  {
   "cell_type": "code",
   "execution_count": 33,
   "id": "retained-johnson",
   "metadata": {},
   "outputs": [
    {
     "name": "stdout",
     "output_type": "stream",
     "text": [
      "WARNING:tensorflow:Layer lstm_3 will not use cuDNN kernel since it doesn't meet the cuDNN kernel criteria. It will use generic GPU kernel as fallback when running on GPU\n"
     ]
    }
   ],
   "source": [
    "# 디코더 설계\n",
    "decoder_inputs = Input(shape=(None,))\n",
    "\n",
    "# 디코더의 임베딩 층\n",
    "dec_emb_layer = Embedding(tar_vocab, embedding_dim)\n",
    "dec_emb = dec_emb_layer(decoder_inputs)\n",
    "\n",
    "# 디코더의 LSTM\n",
    "decoder_lstm = LSTM(hidden_size, return_sequences=True, return_state=True, dropout=0.4, recurrent_dropout=0.2)\n",
    "decoder_outputs, _, _ = decoder_lstm(dec_emb, initial_state=[state_h, state_c])"
   ]
  },
  {
   "cell_type": "code",
   "execution_count": 34,
   "id": "lyric-soldier",
   "metadata": {},
   "outputs": [
    {
     "name": "stdout",
     "output_type": "stream",
     "text": [
      "Model: \"model\"\n",
      "__________________________________________________________________________________________________\n",
      "Layer (type)                    Output Shape         Param #     Connected to                     \n",
      "==================================================================================================\n",
      "input_1 (InputLayer)            [(None, 45)]         0                                            \n",
      "__________________________________________________________________________________________________\n",
      "embedding (Embedding)           (None, 45, 128)      2816000     input_1[0][0]                    \n",
      "__________________________________________________________________________________________________\n",
      "lstm (LSTM)                     [(None, 45, 256), (N 394240      embedding[0][0]                  \n",
      "__________________________________________________________________________________________________\n",
      "input_2 (InputLayer)            [(None, None)]       0                                            \n",
      "__________________________________________________________________________________________________\n",
      "lstm_1 (LSTM)                   [(None, 45, 256), (N 525312      lstm[0][0]                       \n",
      "__________________________________________________________________________________________________\n",
      "embedding_1 (Embedding)         (None, None, 128)    1280000     input_2[0][0]                    \n",
      "__________________________________________________________________________________________________\n",
      "lstm_2 (LSTM)                   [(None, 45, 256), (N 525312      lstm_1[0][0]                     \n",
      "__________________________________________________________________________________________________\n",
      "lstm_3 (LSTM)                   [(None, None, 256),  394240      embedding_1[0][0]                \n",
      "                                                                 lstm_2[0][1]                     \n",
      "                                                                 lstm_2[0][2]                     \n",
      "__________________________________________________________________________________________________\n",
      "dense (Dense)                   (None, None, 10000)  2570000     lstm_3[0][0]                     \n",
      "==================================================================================================\n",
      "Total params: 8,505,104\n",
      "Trainable params: 8,505,104\n",
      "Non-trainable params: 0\n",
      "__________________________________________________________________________________________________\n"
     ]
    }
   ],
   "source": [
    "# 디코더의 출력층\n",
    "decoder_softmax_layer = Dense(tar_vocab, activation='softmax')\n",
    "decoder_softmax_outputs = decoder_softmax_layer(decoder_outputs) \n",
    "\n",
    "# 모델 정의\n",
    "model = Model([encoder_inputs, decoder_inputs], decoder_softmax_outputs)\n",
    "model.summary()"
   ]
  },
  {
   "cell_type": "code",
   "execution_count": 35,
   "id": "powerful-modem",
   "metadata": {},
   "outputs": [],
   "source": [
    "#어텐션 메커니즘\n",
    "urllib.request.urlretrieve(\"https://raw.githubusercontent.com/thushv89/attention_keras/master/src/layers/attention.py\", filename=\"attention.py\")\n",
    "from attention import AttentionLayer"
   ]
  },
  {
   "cell_type": "code",
   "execution_count": 36,
   "id": "tamil-antigua",
   "metadata": {},
   "outputs": [
    {
     "name": "stdout",
     "output_type": "stream",
     "text": [
      "Model: \"model_1\"\n",
      "__________________________________________________________________________________________________\n",
      "Layer (type)                    Output Shape         Param #     Connected to                     \n",
      "==================================================================================================\n",
      "input_1 (InputLayer)            [(None, 45)]         0                                            \n",
      "__________________________________________________________________________________________________\n",
      "embedding (Embedding)           (None, 45, 128)      2816000     input_1[0][0]                    \n",
      "__________________________________________________________________________________________________\n",
      "lstm (LSTM)                     [(None, 45, 256), (N 394240      embedding[0][0]                  \n",
      "__________________________________________________________________________________________________\n",
      "input_2 (InputLayer)            [(None, None)]       0                                            \n",
      "__________________________________________________________________________________________________\n",
      "lstm_1 (LSTM)                   [(None, 45, 256), (N 525312      lstm[0][0]                       \n",
      "__________________________________________________________________________________________________\n",
      "embedding_1 (Embedding)         (None, None, 128)    1280000     input_2[0][0]                    \n",
      "__________________________________________________________________________________________________\n",
      "lstm_2 (LSTM)                   [(None, 45, 256), (N 525312      lstm_1[0][0]                     \n",
      "__________________________________________________________________________________________________\n",
      "lstm_3 (LSTM)                   [(None, None, 256),  394240      embedding_1[0][0]                \n",
      "                                                                 lstm_2[0][1]                     \n",
      "                                                                 lstm_2[0][2]                     \n",
      "__________________________________________________________________________________________________\n",
      "attention_layer (AttentionLayer ((None, None, 256),  131328      lstm_2[0][0]                     \n",
      "                                                                 lstm_3[0][0]                     \n",
      "__________________________________________________________________________________________________\n",
      "concat_layer (Concatenate)      (None, None, 512)    0           lstm_3[0][0]                     \n",
      "                                                                 attention_layer[0][0]            \n",
      "__________________________________________________________________________________________________\n",
      "dense_1 (Dense)                 (None, None, 10000)  5130000     concat_layer[0][0]               \n",
      "==================================================================================================\n",
      "Total params: 11,196,432\n",
      "Trainable params: 11,196,432\n",
      "Non-trainable params: 0\n",
      "__________________________________________________________________________________________________\n"
     ]
    }
   ],
   "source": [
    "# 설계한 디코더 출력층 다음과 같이 수정\n",
    "\n",
    "# 어텐션 층(어텐션 함수)\n",
    "attn_layer = AttentionLayer(name='attention_layer')\n",
    "# 인코더와 디코더의 모든 time step의 hidden state를 어텐션 층에 전달하고 결과를 리턴\n",
    "attn_out, attn_states = attn_layer([encoder_outputs, decoder_outputs])\n",
    "\n",
    "# 어텐션의 결과와 디코더의 hidden state들을 연결\n",
    "decoder_concat_input = Concatenate(axis=-1, name='concat_layer')([decoder_outputs, attn_out])\n",
    "\n",
    "# 디코더의 출력층\n",
    "decoder_softmax_layer = Dense(tar_vocab, activation='softmax')\n",
    "decoder_softmax_outputs = decoder_softmax_layer(decoder_concat_input)\n",
    "\n",
    "# 모델 정의\n",
    "model = Model([encoder_inputs, decoder_inputs], decoder_softmax_outputs)\n",
    "model.summary()\n",
    "\n",
    "# 인코더의 hidden state들과 디코더의 hidden state들을 어텐션 함수의 입력으로 사용\n",
    "# 어텐션 함수가 리턴한 값을 예측 시에 디코더의 hidden state와 함께 활용"
   ]
  },
  {
   "cell_type": "markdown",
   "id": "divided-faculty",
   "metadata": {},
   "source": [
    "# 4. 모델훈련하기\n",
    "- Early stopping 이용해서 모델 훈련의 최적점에서 멈추게 하기\n",
    "  - val_loss(검증 데이터의 손실)을 관찰하다가 검증 데이터의 손실이 줄어들지 않고 증가하는 현상이 2회(patience=2) 관측되면 학습을 멈추도록 설정"
   ]
  },
  {
   "cell_type": "code",
   "execution_count": 37,
   "id": "verified-country",
   "metadata": {},
   "outputs": [
    {
     "name": "stdout",
     "output_type": "stream",
     "text": [
      "Epoch 1/50\n",
      "306/306 [==============================] - 251s 785ms/step - loss: 5.5797 - val_loss: 4.8513\n",
      "Epoch 2/50\n",
      "306/306 [==============================] - 238s 777ms/step - loss: 4.8657 - val_loss: 4.7169\n",
      "Epoch 3/50\n",
      "306/306 [==============================] - 232s 759ms/step - loss: 4.7327 - val_loss: 4.6109\n",
      "Epoch 4/50\n",
      "306/306 [==============================] - 229s 749ms/step - loss: 4.6131 - val_loss: 4.5600\n",
      "Epoch 5/50\n",
      "306/306 [==============================] - 225s 735ms/step - loss: 4.4864 - val_loss: 4.4140\n",
      "Epoch 6/50\n",
      "306/306 [==============================] - 229s 750ms/step - loss: 4.3773 - val_loss: 4.3251\n",
      "Epoch 7/50\n",
      "306/306 [==============================] - 231s 755ms/step - loss: 4.2859 - val_loss: 4.2596\n",
      "Epoch 8/50\n",
      "306/306 [==============================] - 228s 745ms/step - loss: 4.2016 - val_loss: 4.2151\n",
      "Epoch 9/50\n",
      "306/306 [==============================] - 225s 737ms/step - loss: 4.1402 - val_loss: 4.1752\n",
      "Epoch 10/50\n",
      "306/306 [==============================] - 230s 752ms/step - loss: 4.0857 - val_loss: 4.1344\n",
      "Epoch 11/50\n",
      "306/306 [==============================] - 223s 729ms/step - loss: 4.0259 - val_loss: 4.1102\n",
      "Epoch 12/50\n",
      "306/306 [==============================] - 225s 734ms/step - loss: 3.9821 - val_loss: 4.0775\n",
      "Epoch 13/50\n",
      "306/306 [==============================] - 231s 756ms/step - loss: 3.9316 - val_loss: 4.0242\n",
      "Epoch 14/50\n",
      "306/306 [==============================] - 226s 738ms/step - loss: 3.8717 - val_loss: 3.9889\n",
      "Epoch 15/50\n",
      "306/306 [==============================] - 226s 740ms/step - loss: 3.8171 - val_loss: 3.9653\n",
      "Epoch 16/50\n",
      "306/306 [==============================] - 225s 734ms/step - loss: 3.7707 - val_loss: 3.9399\n",
      "Epoch 17/50\n",
      "306/306 [==============================] - 230s 752ms/step - loss: 3.7268 - val_loss: 3.8999\n",
      "Epoch 18/50\n",
      "306/306 [==============================] - 229s 749ms/step - loss: 3.6839 - val_loss: 3.8701\n",
      "Epoch 19/50\n",
      "306/306 [==============================] - 232s 758ms/step - loss: 3.6374 - val_loss: 3.8514\n",
      "Epoch 20/50\n",
      "306/306 [==============================] - 225s 736ms/step - loss: 3.5858 - val_loss: 3.8028\n",
      "Epoch 21/50\n",
      "306/306 [==============================] - 229s 748ms/step - loss: 3.5314 - val_loss: 3.7626\n",
      "Epoch 22/50\n",
      "306/306 [==============================] - 229s 748ms/step - loss: 3.4829 - val_loss: 3.7317\n",
      "Epoch 23/50\n",
      "306/306 [==============================] - 229s 748ms/step - loss: 3.4284 - val_loss: 3.7166\n",
      "Epoch 24/50\n",
      "306/306 [==============================] - 228s 744ms/step - loss: 3.3737 - val_loss: 3.6777\n",
      "Epoch 25/50\n",
      "306/306 [==============================] - 229s 750ms/step - loss: 3.3293 - val_loss: 3.6387\n",
      "Epoch 26/50\n",
      "306/306 [==============================] - 230s 753ms/step - loss: 3.2832 - val_loss: 3.6064\n",
      "Epoch 27/50\n",
      "306/306 [==============================] - 232s 757ms/step - loss: 3.2290 - val_loss: 3.5906\n",
      "Epoch 28/50\n",
      "306/306 [==============================] - 232s 758ms/step - loss: 3.1795 - val_loss: 3.5526\n",
      "Epoch 29/50\n",
      "306/306 [==============================] - 231s 754ms/step - loss: 3.1328 - val_loss: 3.5359\n",
      "Epoch 30/50\n",
      "306/306 [==============================] - 226s 740ms/step - loss: 3.0859 - val_loss: 3.5119\n",
      "Epoch 31/50\n",
      "306/306 [==============================] - 227s 742ms/step - loss: 3.0456 - val_loss: 3.4979\n",
      "Epoch 32/50\n",
      "306/306 [==============================] - 231s 754ms/step - loss: 2.9974 - val_loss: 3.4904\n",
      "Epoch 33/50\n",
      "306/306 [==============================] - 226s 740ms/step - loss: 2.9658 - val_loss: 3.4607\n",
      "Epoch 34/50\n",
      "306/306 [==============================] - 233s 762ms/step - loss: 2.9210 - val_loss: 3.4526\n",
      "Epoch 35/50\n",
      "306/306 [==============================] - 230s 752ms/step - loss: 2.8869 - val_loss: 3.4339\n",
      "Epoch 36/50\n",
      "306/306 [==============================] - 232s 759ms/step - loss: 2.8525 - val_loss: 3.4304\n",
      "Epoch 37/50\n",
      "306/306 [==============================] - 225s 734ms/step - loss: 2.8158 - val_loss: 3.4196\n",
      "Epoch 38/50\n",
      "306/306 [==============================] - 230s 751ms/step - loss: 2.7830 - val_loss: 3.4035\n",
      "Epoch 39/50\n",
      "306/306 [==============================] - 233s 761ms/step - loss: 2.7478 - val_loss: 3.4151\n",
      "Epoch 40/50\n",
      "306/306 [==============================] - 232s 760ms/step - loss: 2.7194 - val_loss: 3.3742\n",
      "Epoch 41/50\n",
      "306/306 [==============================] - 233s 763ms/step - loss: 2.6923 - val_loss: 3.3944\n",
      "Epoch 42/50\n",
      "306/306 [==============================] - 232s 760ms/step - loss: 2.6580 - val_loss: 3.3680\n",
      "Epoch 43/50\n",
      "306/306 [==============================] - 233s 761ms/step - loss: 2.6300 - val_loss: 3.3626\n",
      "Epoch 44/50\n",
      "306/306 [==============================] - 231s 754ms/step - loss: 2.6033 - val_loss: 3.3575\n",
      "Epoch 45/50\n",
      "306/306 [==============================] - 234s 764ms/step - loss: 2.5736 - val_loss: 3.3567\n",
      "Epoch 46/50\n",
      "306/306 [==============================] - 229s 750ms/step - loss: 2.5565 - val_loss: 3.3471\n",
      "Epoch 47/50\n",
      "306/306 [==============================] - 227s 740ms/step - loss: 2.5282 - val_loss: 3.3524\n",
      "Epoch 48/50\n",
      "306/306 [==============================] - 232s 759ms/step - loss: 2.5073 - val_loss: 3.3551\n",
      "Epoch 00048: early stopping\n"
     ]
    }
   ],
   "source": [
    "model.compile(optimizer='rmsprop', loss='sparse_categorical_crossentropy')\n",
    "es = EarlyStopping(monitor='val_loss', patience=2, verbose=1)\n",
    "history = model.fit(x=[encoder_input_train, decoder_input_train], y=decoder_target_train, \\\n",
    "          validation_data=([encoder_input_test, decoder_input_test], decoder_target_test), \\\n",
    "          batch_size=256, callbacks=[es], epochs=50)"
   ]
  },
  {
   "cell_type": "code",
   "execution_count": 38,
   "id": "revised-guinea",
   "metadata": {},
   "outputs": [
    {
     "data": {
      "image/png": "[encoded data removed]",
      "text/plain": [
       "<Figure size 432x288 with 1 Axes>"
      ]
     },
     "metadata": {
      "needs_background": "light"
     },
     "output_type": "display_data"
    }
   ],
   "source": [
    "# 훈련데이터의 손실과 검증데이터의 손실이 줄어드는 과정 시각화\n",
    "plt.plot(history.history['loss'], label='train')\n",
    "plt.plot(history.history['val_loss'], label='test')\n",
    "plt.legend()\n",
    "plt.show()"
   ]
  },
  {
   "cell_type": "code",
   "execution_count": null,
   "id": "digital-judge",
   "metadata": {},
   "outputs": [],
   "source": []
  },
  {
   "cell_type": "markdown",
   "id": "blind-telescope",
   "metadata": {},
   "source": [
    "# 5. 인퍼런스 모델구현\n",
    "- 테스트 단계에서는 정수 인덱스 행렬로 존재하던 텍스트 데이터를 실제 데이터로 복원해야 하므로, 필요한 3개의 사전을 아래와 같이 미리 준비\n",
    "\n",
    "- seq2seq : 훈련할 때와 실제 동작할 때(인퍼런스 단계)의 방식이 다르므로 그에 맞게 모델 설계를 별개로 진행해야 함\n",
    "- 훈련 단계에서는 디코더의 입력부에 정답이 되는 문장 전체를 한꺼번에 넣고 디코더의 출력과 한 번에 비교할 수 있음 -> 인코더와 디코더를 엮은 통짜 모델 하나만 준비\n",
    "\n",
    "- 정답 문장이 없는 인퍼런스 단계에서는 만들어야 할 문장의 길이만큼 디코더가 반복 구조로 동작-> 인퍼런스를 위한 모델 설계를 별도로 해야함. 이때는 인코더 모델과 디코더 모델을 분리해서 설계함"
   ]
  },
  {
   "cell_type": "code",
   "execution_count": 39,
   "id": "improved-village",
   "metadata": {},
   "outputs": [],
   "source": [
    "src_index_to_word = src_tokenizer.index_word \n",
    "# 원문 단어 집합에서 정수 -> 단어를 얻음\n",
    "tar_word_to_index = tar_tokenizer.word_index \n",
    "# 요약 단어 집합에서 단어 -> 정수를 얻음\n",
    "tar_index_to_word = tar_tokenizer.index_word\n",
    "# 요약 단어 집합에서 정수 -> 단어를 얻음"
   ]
  },
  {
   "cell_type": "code",
   "execution_count": 40,
   "id": "exceptional-origin",
   "metadata": {},
   "outputs": [],
   "source": [
    "# 인코더 설계\n",
    "encoder_model = Model(inputs=encoder_inputs, outputs=[encoder_outputs, state_h, state_c])\n",
    "\n",
    "# 이전 시점의 상태들을 저장하는 텐서\n",
    "decoder_state_input_h = Input(shape=(hidden_size,))\n",
    "decoder_state_input_c = Input(shape=(hidden_size,))\n",
    "\n",
    "dec_emb2 = dec_emb_layer(decoder_inputs)\n",
    "\n",
    "# 문장의 다음 단어를 예측하기 위해서 초기 상태(initial_state)를 이전 시점의 상태로 사용. 이는 뒤의 함수 decode_sequence()에 구현\n",
    "# 훈련 과정에서와 달리 LSTM의 리턴하는 은닉 상태와 셀 상태인 state_h와 state_c를 버리지 않음.\n",
    "decoder_outputs2, state_h2, state_c2 = decoder_lstm(dec_emb2, initial_state=[decoder_state_input_h, decoder_state_input_c])"
   ]
  },
  {
   "cell_type": "code",
   "execution_count": 41,
   "id": "adolescent-people",
   "metadata": {},
   "outputs": [],
   "source": [
    "# 어텐션 메커니즘 사용하는 출력층 설계\n",
    "\n",
    "# 어텐션 함수\n",
    "decoder_hidden_state_input = Input(shape=(text_max_len, hidden_size))\n",
    "attn_out_inf, attn_states_inf = attn_layer([decoder_hidden_state_input, decoder_outputs2])\n",
    "decoder_inf_concat = Concatenate(axis=-1, name='concat')([decoder_outputs2, attn_out_inf])\n",
    "\n",
    "# 디코더의 출력층\n",
    "decoder_outputs2 = decoder_softmax_layer(decoder_inf_concat) \n",
    "\n",
    "# 최종 디코더 모델\n",
    "decoder_model = Model(\n",
    "    [decoder_inputs] + [decoder_hidden_state_input,decoder_state_input_h, decoder_state_input_c],\n",
    "    [decoder_outputs2] + [state_h2, state_c2])"
   ]
  },
  {
   "cell_type": "code",
   "execution_count": 45,
   "id": "wrong-rogers",
   "metadata": {},
   "outputs": [],
   "source": [
    "# 인퍼런스 단계에서 단어 시퀀스 완성하는 함수 만들기\n",
    "def decode_sequence(input_seq):\n",
    "    # 입력으로부터 인코더의 상태를 얻음\n",
    "    e_out, e_h, e_c = encoder_model.predict(input_seq)\n",
    "\n",
    "     # <SOS>에 해당하는 토큰 생성\n",
    "    target_seq = np.zeros((1,1))\n",
    "    target_seq[0, 0] = tar_word_to_index['sostoken']\n",
    "\n",
    "    stop_condition = False\n",
    "    decoded_sentence = ''\n",
    "    while not stop_condition: # stop_condition이 True가 될 때까지 루프 반복\n",
    "\n",
    "        output_tokens, h, c = decoder_model.predict([target_seq] + [e_out, e_h, e_c])\n",
    "        sampled_token_index = np.argmax(output_tokens[0, -1, :])\n",
    "        sampled_token = tar_index_to_word[sampled_token_index]\n",
    "\n",
    "        if (sampled_token!='eostoken'):\n",
    "            decoded_sentence += ' '+sampled_token\n",
    "\n",
    "        #  <eos>에 도달하거나 최대 길이를 넘으면 중단.\n",
    "        if (sampled_token == 'eostoken'  or len(decoded_sentence.split()) >= (headlines_max_len-1)):\n",
    "            stop_condition = True\n",
    "\n",
    "        # 길이가 1인 타겟 시퀀스를 업데이트\n",
    "        target_seq = np.zeros((1,1))\n",
    "        target_seq[0, 0] = sampled_token_index\n",
    "\n",
    "        # 상태를 업데이트 합니다.\n",
    "        e_h, e_c = h, c\n",
    "\n",
    "    return decoded_sentence"
   ]
  },
  {
   "cell_type": "markdown",
   "id": "encouraging-childhood",
   "metadata": {},
   "source": [
    "# 6. 모델 테스트하기\n",
    "\n",
    "- 테스트 단계에서는 정수 시퀀스를 텍스트 시퀀스로 변환하여 결과를 확인\n",
    "- 주어진 정수 시퀀스를 텍스트 시퀀스로 변환하는 함수를 만들기\n",
    "  - 함수를 만들 때, Text의 정수 시퀀스에서는 패딩을 위해 사용되는 숫자 0을 제외하고 \n",
    "  - headlines의 정수 시퀀스에서는 숫자 0, 시작 토큰의 인덱스, 종료 토큰의 인덱스를 출력에서 제외하도록 만들기"
   ]
  },
  {
   "cell_type": "code",
   "execution_count": 46,
   "id": "suitable-zambia",
   "metadata": {},
   "outputs": [],
   "source": [
    "# 원문의 정수 시퀀스를 텍스트 시퀀스로 변환\n",
    "def seq2text(input_seq):\n",
    "    temp=''\n",
    "    for i in input_seq:\n",
    "        if (i!=0):\n",
    "            temp = temp + src_index_to_word[i]+' '\n",
    "    return temp\n",
    "\n",
    "# 요약문의 정수 시퀀스를 텍스트 시퀀스로 변환\n",
    "def seq2summary(input_seq):\n",
    "    temp=''\n",
    "    for i in input_seq:\n",
    "        if ((i!=0 and i!=tar_word_to_index['sostoken']) and i!=tar_word_to_index['eostoken']):\n",
    "            temp = temp + tar_index_to_word[i] + ' '\n",
    "    return temp"
   ]
  },
  {
   "cell_type": "code",
   "execution_count": 47,
   "id": "future-cardiff",
   "metadata": {},
   "outputs": [
    {
     "name": "stdout",
     "output_type": "stream",
     "text": [
      "원문 : two bjp ministers decided quit andhra pradesh assembly cm chandrababu naidu requested continue work welfare state ministers worked good state brought considerable reforms departments naidu said comes tdp ministers decided resign union cabinet demand special status andhra pradesh \n",
      "실제 요약 : andhra cm urges bjp mlas to not resign from state cabinet \n",
      "예측 요약 :  andhra cm to step down as bjp chief secy for andhra polls\n",
      "\n",
      "\n",
      "원문 : christian von head supercar maker said tesla roadster performance reaching nearly kmph seconds embarrassing said wondered whether possible yeah possible company currently produces kmph acceleration seconds \n",
      "실제 요약 : tesla is embarrassing us supercar maker \n",
      "예측 요약 :  tesla car to be made in the world st car in yrs\n",
      "\n",
      "\n",
      "원문 : supreme court criticised bihar government taking proper action shelter homes children allegedly sexually abused accused state going soft perpetrators apex court termed bihar government conduct shameful inhuman noting children allegedly sodomised police section ipc \n",
      "실제 요약 : shameful and sc on bihar handling of shelter home rapes \n",
      "예측 요약 :  bihar shelter home to be given to be given to death govt\n",
      "\n",
      "\n",
      "원문 : cricket australia chairman david said bans handed steve smith david warner part ball tampering scandal ahead side series india sanctions carried imposed board full thoughtful process sanctions stand said \n",
      "실제 요약 : smith warner bans will stand ca chief ahead of india series \n",
      "예측 요약 :  hiked engaged to aus cricketers have been named after smith warner ban\n",
      "\n",
      "\n",
      "원문 : body thai soldier died last month returned country government tissue paper place brain several missing organs including heart family claimed following autopsy military allegedly told family soldier died heart attack released autopsy \n",
      "실제 요약 : thai soldier body returned with paper in place of brain \n",
      "예측 요약 :  meghalaya bodies found dead in blue whale game to avoid paying bodies\n",
      "\n",
      "\n",
      "원문 : least people killed others injured pakistan due flash floods triggered heavy monsoon rains according reports houses destroyed roads also damaged due rains floods heavy started last week since continued several parts country \n",
      "실제 요약 : rains flash floods kill in pakistan \n",
      "예측 요약 :  pak pm affected in boat on boat capsizes in boat capsizes in\n",
      "\n",
      "\n",
      "원문 : facebook co founder chris hughes said social media giant played times negative role political discourse added algorithms neutral asked facebook influence politics well hughes said company kinds effects world adding recognising responsibilities \n",
      "실제 요약 : facebook has played negative role in politics co founder \n",
      "예측 요약 :  fb did not want to do not want to be co founder\n",
      "\n",
      "\n",
      "원문 : punjab cm captain amarinder singh thursday turned state minister navjot singh sidhu proposal legalise cultivation opium state saying favour growing anything concept drugs fighting like anything created special force deal cm added \n",
      "실제 요약 : not in favour of growing punjab cm on sidhu proposal \n",
      "예측 요약 :  punjab cm receives amritsar attack on amritsar blast that are not votes\n",
      "\n",
      "\n",
      "원문 : ashish sinha served selector bihar team months ago selected represent bihar senior cricket team vijay hazare trophy ashish son mla arun kumar sinha played one ranji match jharkhand bihar cricket association president gopal bohra defended ashish saying part temporary committee \n",
      "실제 요약 : former under team selector picked in bihar senior cricket team \n",
      "예측 요약 :  no one of the country to be sold for kapil dev sidhu\n",
      "\n",
      "\n",
      "원문 : kevin hart friday announced stepping host next year oscars ceremony homophobic comments comedian earlier made surfaced social media sincerely lgbtq community insensitive words past kevin tweeted explaining decision step added want distraction \n",
      "실제 요약 : kevin steps down as oscars host over anti gay tweets \n",
      "예측 요약 :  do not know how to do you have to earn chetan bhagat\n",
      "\n",
      "\n",
      "원문 : former lic chairman sb mathur appointed new chairman infrastructure leasing financial services outstanding loans around crore infrastructure financier reportedly defaulted inter corporate deposits worth crore lic japan corp largest shareholders il fs stakes respectively \n",
      "실제 요약 : ex lic boss made head of crisis hit firm with cr debt \n",
      "예측 요약 :  govt to give cr to settle loans to settle case in fy\n",
      "\n",
      "\n",
      "원문 : two bjp leaders attended rally supporting rape accused kathua rape case resigned bjp general secretary ram madhav said pm narendra modi recommended action send message people added jammu kashmir cm mehbooba mufti urged party take stand ministers \n",
      "실제 요약 : pm advised action against ministers who resigned bjp \n",
      "예측 요약 :  bjp chief moves sc against bjp leader who accused of rape charges\n",
      "\n",
      "\n",
      "원문 : heatwaves india claimed lives last four years according ministry earth sciences many total deaths recorded andhra pradesh telangana alone actual figures larger causes heat stroke dehydration accounted official said \n",
      "실제 요약 : claimed over lives in last years in india \n",
      "예측 요약 :  india has no place in yrs of this year old this year\n",
      "\n",
      "\n",
      "원문 : air india preparing list former employees suspected siphoning artwork several paintings collection reported missing official said air india lent artwork top executives one knew practice began move comes jatin das painting returned anonymously airline damaged condition \n",
      "실제 요약 : air india listing ex employees suspected of stealing \n",
      "예측 요약 :  air india staff to be born in uk air india for yrs\n",
      "\n",
      "\n",
      "원문 : democratic candidate wilson running mayor chicago us seen handing hundreds thousands dollars cash potential voters church last week allegedly help pay property taxes millionaire businessman reportedly handed around people wilson team said philanthropist years \n",
      "실제 요약 : us candidate hands out of cash to voters \n",
      "예측 요약 :  us town to give birth to families of yr old son sale\n",
      "\n",
      "\n",
      "원문 : international study scientists claimed sudden emergence octopus earth million years ago could explained eggs brought comets pointing micro organism fossil evidence within meteorites researchers said life may seeded earth life bearing comets soon conditions earth allowed flourish \n",
      "실제 요약 : came from space in claims study \n",
      "예측 요약 :  earth is like earth is not just earth on earth study finds\n",
      "\n",
      "\n",
      "원문 : us state department warned india helpful hears billion defence deal russia acquire missile system buying oil iran department reiterated president donald trump recent statement india find decision imposing sanctions \n",
      "실제 요약 : not when we hear about india russia deal us \n",
      "예측 요약 :  us to buy missile to buy missile to avoid us sanctions us\n",
      "\n",
      "\n",
      "원문 : actor arnold schwarzenegger accused us president donald trump robbing children blind criticising proposed billion cut school programs president trump promised us wants make america great make america great schwarzenegger said going go washington going take lying schwarzenegger added \n",
      "실제 요약 : schwarzenegger accuses trump of robbing children blind \n",
      "예측 요약 :  trump is fake news of us eatery who died trump on fb\n",
      "\n",
      "\n",
      "원문 : india captain virat kohli childhood coach rajkumar sharma said batsman retire age see playing india next years make runs added kohli recently said interview years left career \n",
      "실제 요약 : virat kohli will not retire before the age of childhood coach \n",
      "예측 요약 :  we are not the best player in the world kohli on kohli\n",
      "\n",
      "\n",
      "원문 : volkswagen brand board chairman herbert diess said us carmaker tesla abilities volkswagen currently talking competitors said old world toyota hyundai french carmakers new world tesla volkswagen looking tesla inspiration improve core business added \n",
      "실제 요약 : tesla has we do not have volkswagen brand chairman \n",
      "예측 요약 :  will not be ready to do not want us volkswagen ceo on\n",
      "\n",
      "\n",
      "원문 : punjabi singer gill said actress sonakshi sinha changed perception stars bollywood adding realised bigger star humble earth thoroughly enjoyed working sonakshi said making bollywood acting debut sonakshi starrer happy bhag jayegi \n",
      "실제 요약 : sonakshi changed my of big stars in wood \n",
      "예측 요약 :  do not want to be part of the life sunny leone diljit\n",
      "\n",
      "\n",
      "원문 : th president us john kennedy assassinated november motorcade travelling dallas texas vice president johnson sworn country th president day assassin lee harvey shot killed days later could go trial \n",
      "실제 요약 : us prez john was years ago \n",
      "예측 요약 :  us prez macron replies to his year old pic with his own\n",
      "\n",
      "\n",
      "원문 : nba champions golden state warriors player kevin set guinness world record largest basketball lesson across multiple venues maiden visit india conducted record breaking feat noida children noida bengaluru chennai hyderabad kolkata joining also built two new basketball courts city school foundation \n",
      "실제 요약 : nba champ kevin sets guinness world record in india \n"
     ]
    },
    {
     "name": "stdout",
     "output_type": "stream",
     "text": [
      "예측 요약 :  nba star to be paid for lakh for yrs in yrs ago\n",
      "\n",
      "\n",
      "원문 : engineering company cotton announced acquire majority stake coimbatore based electric two wheeler maker vehicles investors include tata sons chairman emeritus ratan tata infosys co founder kris gopalakrishnan initially acquire crore may buy another stake crore span years \n",
      "실제 요약 : to buy ratan tata backed vehicles \n",
      "예측 요약 :  tata motors profit rises to cr in sept quarter of ipo report\n",
      "\n",
      "\n",
      "원문 : us based scientists used organ proteins develop tissue papers thin flexible enough fold like origami various papers made ovarian kidney liver heart proteins obtained processing pig cow organs could used wound healing aiding tissue support hormone production cancer patients researchers said \n",
      "실제 요약 : tissue papers could study \n",
      "예측 요약 :  scientists find new york city can be used to acquire brain cells\n",
      "\n",
      "\n",
      "원문 : users reported bluetooth headphone microphone connected pixel devices microphone fails detect voice preventing operating google assistant bug prevents users issuing commands asking questions google virtual assistant reports also suggested issue specific brand bluetooth headphones \n",
      "실제 요약 : assistant stops working with bluetooth headphones in pixel \n",
      "예측 요약 :  google lets users see how iphone is not on android phones oreo\n",
      "\n",
      "\n",
      "원문 : gst council saturday approved quarterly filing return small taxpayers turnover crore optional facility move expected benefit taxpayers turnover less crore however need deposit tax every month \n",
      "실제 요약 : taxpayers with up to cr turnover to file returns quarterly \n",
      "예측 요약 :  govt to spend lakh tax on tax collection of apr to dec\n",
      "\n",
      "\n",
      "원문 : us aviation authorities ordered solve appeals judge called case incredible shrinking airline seat seats getting smaller smaller american passengers growing size judge said court ruled favour non profit group flyers rights argued shrinking seat size created safety hazards \n",
      "실제 요약 : us ordered to solve incredible airline seat case \n",
      "예측 요약 :  us firm ordered to pay mn to settle case to prove planes\n",
      "\n",
      "\n",
      "원문 : union minister nitin gadkari said government implement sewage treatment projects seven states estimated cost crore part project ganga river rejuvenation massive projects development boosting cargo transportation developing national ganga also added \n",
      "실제 요약 : cr sewage projects to be implemented for ganga revival \n",
      "예측 요약 :  govt to give lakh to those who do not want tax gadkari\n",
      "\n",
      "\n",
      "원문 : delhi university tuesday asked delhi government immediately release funds towards payment salary teachers belonging fully funded colleges teachers paid salary last two months disagreement government varsity blocked formation governing bodies institutions \n",
      "실제 요약 : du asks delhi govt to release funds to pay teachers salary \n",
      "예측 요약 :  duped of fake news on whatsapp to shut down in delhi hc\n",
      "\n",
      "\n",
      "원문 : first known overseas trip since taking power north korean leader kim jong un currently visit china report bloomberg claimed earlier japanese media reported high ranking north korean official arrived train china monday reported visit comes ahead talks north korea us \n",
      "실제 요약 : north korean leader kim jong un visited china reports \n",
      "예측 요약 :  china to build new world xi jong un for st time report\n",
      "\n",
      "\n",
      "원문 : indian railways delhi division issued circular asking entire operational staff use whatsapp youtube similar apps working hours apps cause major distraction thus compromise passenger safety official said rule applicable staff including train drivers train guards station managers loco pilots \n",
      "실제 요약 : railway staff told not to use whatsapp during working hours \n",
      "예측 요약 :  whatsapp to let users check if they are not in india govt\n",
      "\n",
      "\n",
      "원문 : delhi metro rail corporation decided adopt open gate system across network order ease entry exit station gates new system remain open throughout close passenger tries enter exit system without touching smart card token reader \n",
      "실제 요약 : delhi metro to adopt open gate system across stations \n",
      "예측 요약 :  delhi metro to be shut down on sale of green green ban\n",
      "\n",
      "\n",
      "원문 : actress amber heard opening split tesla ceo elon musk wrote instagram although broken care deeply one another remain close thank continued support respect privacy difficult human times added amber elon ended relationship nearly year dating \n",
      "실제 요약 : we have broken up elon and remain close amber \n",
      "예측 요약 :  kanye west bengal kanye west ceo says he is not too much\n",
      "\n",
      "\n",
      "원문 : rakesh sharma became first indian go space remains indian citizen retired air force pilot flew aboard soyuz spacecraft joint indian soviet programme spent nearly eight days orbiting earth notably india born late kalpana chawla indian origin sunita williams flew space american astronauts \n",
      "실제 요약 : who is the first indian to go into space \n",
      "예측 요약 :  india st indian to fly to st ever solo trip in yrs\n",
      "\n",
      "\n",
      "원문 : staff manchester united home ground old trafford forced protect computers premises visiting fans damaged bathroom led water leaking offices situated underneath fans visiting teams given tickets east stand upper cup clashes old trafford \n",
      "실제 요약 : stadium workers forced to protect computers from toilet leak \n",
      "예측 요약 :  russian city bans boys in game of thrones for sex with game\n",
      "\n",
      "\n",
      "원문 : south africa demi peters crowned miss universe becoming second woman south africa win title laura colombia named first runner miss jamaica bennett stood third pageant held las vegas usa india represented year old shraddha qualify top \n",
      "실제 요약 : south africa wins miss universe \n",
      "예측 요약 :  yr old wins st ever title of the st time in yrs\n",
      "\n",
      "\n",
      "원문 : storey tower paris host pop rink rooftop october november non alcoholic beverages including hot chocolate tea served atop metre high tower also halloween party october disco party november \n",
      "실제 요약 : high paris tower to get on terrace \n",
      "예측 요약 :  floating hotel in uk lake ft ft ft ft at uk restaurant\n",
      "\n",
      "\n",
      "원문 : ukrainian national arrested allegedly entering indira gandhi international airport new delhi using fake ticket tuesday accused claimed entered airport terminal cancelled ticket see female friend handed police \n",
      "실제 요약 : ukrainian enters airport on fake ticket to see off friend \n",
      "예측 요약 :  man held for smuggling gold in uk for not paying for crore\n",
      "\n",
      "\n",
      "원문 : selfie zones set goa popular beaches following deaths drowning accidents around unsafe selfie points identified across state put include emergency toll free number various instructions june two tourists died state separate incidents posing selfies \n",
      "실제 요약 : goa beaches set up no selfie zones to prevent accidents \n",
      "예측 요약 :  goa govt fights to send milk mid min meal to avoid protests\n",
      "\n",
      "\n",
      "원문 : textiles minister smriti irani saturday said coming together several parties bjp compliment pm narendra modi shows cannot win accusing trinamool congress indulging targeted killings bjp workers west bengal said government failed maintain law order \n",
      "실제 요약 : opp parties joining hands compliment to pm modi irani \n",
      "예측 요약 :  ex pm does not have been the same day ex union minister\n",
      "\n",
      "\n",
      "원문 : oneplus become top selling premium smartphone india capturing market share according international data corporation latest quarterly mobile phone tracker moreover oneplus grew year year report added premium online smartphone market oneplus leader market share \n",
      "실제 요약 : oneplus top selling premium smartphone in india \n",
      "예측 요약 :  oneplus retail raises cr in series for the first time in years\n",
      "\n",
      "\n",
      "원문 : british middle distance runner roger became first person run mile less minutes may completed race minutes seconds road track oxford held record days later became also took part olympics \n",
      "실제 요약 : years since world st sub four minute was run \n",
      "예측 요약 :  yr old girl wins st round of the th time in yrs\n",
      "\n",
      "\n",
      "원문 : british man collected beers nations participating fifa world cup spent collection revealed saudi libyan uae non alcoholic beers took days reach london man libya family thinks foolish added \n",
      "실제 요약 : man collects from all nations playing in world cup \n",
      "예측 요약 :  man who missed fifa world cup was sent to fifa world cup\n",
      "\n",
      "\n",
      "원문 : american experts forecasting north korean nuclear test tuesday said volleyball games underway punggye ri nuclear test site north korea according latest satellite images expert said site could standby mode games meant confuse observers north korean officials know punggye ri constant observation \n",
      "실제 요약 : korean nuke site images show games us experts \n"
     ]
    },
    {
     "name": "stdout",
     "output_type": "stream",
     "text": [
      "예측 요약 :  us to build nuclear test for st time in years in korea\n",
      "\n",
      "\n",
      "원문 : congress leader randeep surjewala wednesday hit bjp asking pm narendra modi party national president amit shah would apologise bjp leader nityanand rai chop fingers remarks rai threatened chop fingers hands raised pm modi however rai later retracted statement saying regretted \n",
      "실제 요약 : will pm modi apologise for rai fingers remark cong \n",
      "예측 요약 :  amit shah to meet bjp leader on rahul gandhi at shah meet\n",
      "\n",
      "\n",
      "원문 : chinese president xi jinping promised cut import tariffs introduce moves make easier foreign firms access country economy amid trade war us protectionism rising free trade system threat said adding chinese economy sea pond \n",
      "실제 요약 : china to lower import tariffs open market amid trade war with us \n",
      "예측 요약 :  china trade war with us citizens to be ready for trade war\n",
      "\n",
      "\n",
      "원문 : music festival organisers uk planning allow people test illegal drugs attempt reduce drug related deaths people able take drugs testing tent told drugs contents destroyed scheme tested last year people tested illegal drugs england \n",
      "실제 요약 : music may allow people to test illegal drugs \n",
      "예측 요약 :  facebook to let users send to use of videos of uk kids\n",
      "\n",
      "\n",
      "원문 : actor imran khan shared screenshot email received addressed pakistan tehreek insaf chief imran khan longer ignore call action gonna start drafting policy week wrote imran email addressed pti chief request let individual part politician team \n",
      "실제 요약 : actor imran gets email to pti chief imran khan \n",
      "예측 요약 :  imran khan denies he asked to pay his own ex prez musharraf\n",
      "\n",
      "\n",
      "원문 : addressing rally karnataka pm narendra modi said challenge speak minutes achievements government karnataka without reading piece paper speak hindi english mother tongue added comes days rahul challenged pm modi minute debate \n",
      "실제 요약 : challenge you to speak mins without paper pm to rahul \n",
      "예측 요약 :  it is my baby is not the only time pm modi singh\n",
      "\n",
      "\n"
     ]
    }
   ],
   "source": [
    "#테스트 데이터 약 50개의 샘플에 대해서 실제 요약과 예측된 요약을 비교\n",
    "for i in range(50, 100):\n",
    "    print(\"원문 :\", seq2text(encoder_input_test[i]))\n",
    "    print(\"실제 요약 :\", seq2summary(decoder_input_test[i]))\n",
    "    print(\"예측 요약 :\", decode_sequence(encoder_input_test[i].reshape(1, text_max_len)))\n",
    "    print(\"\\n\")"
   ]
  },
  {
   "cell_type": "markdown",
   "id": "charitable-railway",
   "metadata": {},
   "source": [
    "# 7. Summa 이용한 추출척 요약해보기\n",
    "- 추출척 요약 : 텍스트 요약에는 추상적 요약 외에도 이미 본문에 존재하는 단어구, 문장을 뽑아서 요약으로 삼는다\n",
    "- 패키지 Summa에서는 추출적 요약을 위한 모듈인 summarize를 제공\n",
    "  - 문장 토큰화를 별도로 하지 않더라도 내부적으로 문장 토큰화를 수행\n",
    "  - 문장 구분이 되어있지 않은 원문을 바로 입력으로 넣을 수 있음\n",
    "  - Summa의 summarize()의 인자\n",
    "    - text (str) : 요약할 테스트.\n",
    "    - ratio (float, optional) – 요약문에서 원본에서 선택되는 문장 비율. 0~1 사이값\n",
    "    - words (int or None, optional) – 출력에 포함할 단어 수. 만약, ratio와 함께 두 파라미터가 모두 제공되는 경우 ratio는 무시한다.\n",
    "    - split (bool, optional) – True면 문장 list / False는 조인(join)된 문자열을 반환"
   ]
  },
  {
   "cell_type": "code",
   "execution_count": 52,
   "id": "invisible-stick",
   "metadata": {},
   "outputs": [
    {
     "name": "stdout",
     "output_type": "stream",
     "text": [
      "headlines,text\n",
      "upGrad learner switches to career in ML & Al with 90% salary hike,\"Saurav Kant, an alumnus of upGrad and IIIT-B's PG Program in Machine learning and Artificial Intelligence, was a Sr Systems Engineer at Infosys with almost 5 years of work experience. The program and upGrad's 360-degree career support helped him transition to a Data Scientist at Tech Mahindra with 90% salary hike. upGrad's Online Power Learning has powered 3 lakh+ careers.\"\n",
      "Delhi techie wins free food from Swiggy for one year on CRED,\"Kunal Shah's credit card bill payment platform, CRED, gave users a chance to win free food from Swiggy for one year. Pranav Kaushik, a Delhi techie, bagged this reward after spending 2000 CRED coins. Users get one CRED coin per rupee of bill paid, which can be used to avail rewards from brands like Ixigo, BookMyShow, UberEats, Cult.Fit and more.\"\n",
      "New Zealand end Rohit Sharma-led India's 12-match winning streak,\"New Zealand defeated India by 8 wickets in the fourth ODI at Hamilton on Thursday to win their first match of the five-match ODI series. India lost an international match under Rohit Sharma's captaincy after 12 consecutive victories dating back to March 2018. The match witnessed India getting all out for 92, their seventh lowest total in ODI cricket history.\"\n",
      "Aegon life iTerm insurance plan helps customers save tax,\"With Aegon Life iTerm Insurance plan, customers can enjoy tax benefits on your premiums paid and save up to â¹46,800^ on taxes. The plan provid\n"
     ]
    }
   ],
   "source": [
    "#  비율을 적게 주어서 요약문으로 선택되는 문장의 개수를 줄임\n",
    "#  원문의 0.005%만을 출력하도록 설정\n",
    "from summa.summarizer import summarize\n",
    "import requests\n",
    "text = requests.get(\"https://raw.githubusercontent.com/sunnysai12345/News_Summary/master/news_summary_more.csv\").text\n",
    "print(text[:1500])\n"
   ]
  },
  {
   "cell_type": "code",
   "execution_count": null,
   "id": "southeast-candle",
   "metadata": {},
   "outputs": [],
   "source": [
    "print('Summary:')\n",
    "print(summarize(text, ratio=0.0005))"
   ]
  },
  {
   "cell_type": "code",
   "execution_count": null,
   "id": "quantitative-rebate",
   "metadata": {},
   "outputs": [],
   "source": [
    "# 리스트로 출력 결과 받기 (split 인자값을 True)로 \n",
    "print('Summary:')\n",
    "print(summarize(text, ratio=0.0005, split=True))\n",
    "# 단어의 수로 요약문의 크기를 조절\n"
   ]
  },
  {
   "cell_type": "code",
   "execution_count": null,
   "id": "individual-nursery",
   "metadata": {},
   "outputs": [],
   "source": [
    "# 단어를 50개만 선택\n",
    "print('Summary:')\n",
    "print(summarize(text, words=30))"
   ]
  }
 ],
 "metadata": {
  "kernelspec": {
   "display_name": "Python 3",
   "language": "python",
   "name": "python3"
  },
  "language_info": {
   "codemirror_mode": {
    "name": "ipython",
    "version": 3
   },
   "file_extension": ".py",
   "mimetype": "text/x-python",
   "name": "python",
   "nbconvert_exporter": "python",
   "pygments_lexer": "ipython3",
   "version": "3.7.9"
  }
 },
 "nbformat": 4,
 "nbformat_minor": 5
}
